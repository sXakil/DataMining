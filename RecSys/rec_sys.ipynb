{
 "cells": [
  {
   "cell_type": "code",
   "execution_count": 314,
   "metadata": {},
   "outputs": [],
   "source": [
    "import pandas as pd"
   ]
  },
  {
   "source": [
    "### Data Source [515K Hotel Reviews](https://www.kaggle.com/jiashenliu/515k-hotel-reviews-data-in-europe)"
   ],
   "cell_type": "markdown",
   "metadata": {}
  },
  {
   "cell_type": "code",
   "execution_count": 315,
   "metadata": {},
   "outputs": [],
   "source": [
    "df = pd.read_csv('Hotel_Reviews.csv')"
   ]
  },
  {
   "cell_type": "code",
   "execution_count": 316,
   "metadata": {},
   "outputs": [
    {
     "output_type": "execute_result",
     "data": {
      "text/plain": [
       "                                       Hotel_Address  \\\n",
       "0   s Gravesandestraat 55 Oost 1092 AA Amsterdam ...   \n",
       "1   s Gravesandestraat 55 Oost 1092 AA Amsterdam ...   \n",
       "2   s Gravesandestraat 55 Oost 1092 AA Amsterdam ...   \n",
       "3   s Gravesandestraat 55 Oost 1092 AA Amsterdam ...   \n",
       "4   s Gravesandestraat 55 Oost 1092 AA Amsterdam ...   \n",
       "\n",
       "   Additional_Number_of_Scoring Review_Date  Average_Score   Hotel_Name  \\\n",
       "0                           194    8/3/2017            7.7  Hotel Arena   \n",
       "1                           194    8/3/2017            7.7  Hotel Arena   \n",
       "2                           194   7/31/2017            7.7  Hotel Arena   \n",
       "3                           194   7/31/2017            7.7  Hotel Arena   \n",
       "4                           194   7/24/2017            7.7  Hotel Arena   \n",
       "\n",
       "  Reviewer_Nationality                                    Negative_Review  \\\n",
       "0              Russia    I am so angry that i made this post available...   \n",
       "1             Ireland                                         No Negative   \n",
       "2           Australia    Rooms are nice but for elderly a bit difficul...   \n",
       "3      United Kingdom    My room was dirty and I was afraid to walk ba...   \n",
       "4         New Zealand    You When I booked with your company on line y...   \n",
       "\n",
       "   Review_Total_Negative_Word_Counts  Total_Number_of_Reviews  \\\n",
       "0                                397                     1403   \n",
       "1                                  0                     1403   \n",
       "2                                 42                     1403   \n",
       "3                                210                     1403   \n",
       "4                                140                     1403   \n",
       "\n",
       "                                     Positive_Review  \\\n",
       "0   Only the park outside of the hotel was beauti...   \n",
       "1   No real complaints the hotel was great great ...   \n",
       "2   Location was good and staff were ok It is cut...   \n",
       "3   Great location in nice surroundings the bar a...   \n",
       "4    Amazing location and building Romantic setting    \n",
       "\n",
       "   Review_Total_Positive_Word_Counts  \\\n",
       "0                                 11   \n",
       "1                                105   \n",
       "2                                 21   \n",
       "3                                 26   \n",
       "4                                  8   \n",
       "\n",
       "   Total_Number_of_Reviews_Reviewer_Has_Given  Reviewer_Score  \\\n",
       "0                                           7             2.9   \n",
       "1                                           7             7.5   \n",
       "2                                           9             7.1   \n",
       "3                                           1             3.8   \n",
       "4                                           3             6.7   \n",
       "\n",
       "                                                Tags days_since_review  \\\n",
       "0  [' Leisure trip ', ' Couple ', ' Duplex Double...            0 days   \n",
       "1  [' Leisure trip ', ' Couple ', ' Duplex Double...            0 days   \n",
       "2  [' Leisure trip ', ' Family with young childre...            3 days   \n",
       "3  [' Leisure trip ', ' Solo traveler ', ' Duplex...            3 days   \n",
       "4  [' Leisure trip ', ' Couple ', ' Suite ', ' St...           10 days   \n",
       "\n",
       "         lat       lng  \n",
       "0  52.360576  4.915968  \n",
       "1  52.360576  4.915968  \n",
       "2  52.360576  4.915968  \n",
       "3  52.360576  4.915968  \n",
       "4  52.360576  4.915968  "
      ],
      "text/html": "<div>\n<style scoped>\n    .dataframe tbody tr th:only-of-type {\n        vertical-align: middle;\n    }\n\n    .dataframe tbody tr th {\n        vertical-align: top;\n    }\n\n    .dataframe thead th {\n        text-align: right;\n    }\n</style>\n<table border=\"1\" class=\"dataframe\">\n  <thead>\n    <tr style=\"text-align: right;\">\n      <th></th>\n      <th>Hotel_Address</th>\n      <th>Additional_Number_of_Scoring</th>\n      <th>Review_Date</th>\n      <th>Average_Score</th>\n      <th>Hotel_Name</th>\n      <th>Reviewer_Nationality</th>\n      <th>Negative_Review</th>\n      <th>Review_Total_Negative_Word_Counts</th>\n      <th>Total_Number_of_Reviews</th>\n      <th>Positive_Review</th>\n      <th>Review_Total_Positive_Word_Counts</th>\n      <th>Total_Number_of_Reviews_Reviewer_Has_Given</th>\n      <th>Reviewer_Score</th>\n      <th>Tags</th>\n      <th>days_since_review</th>\n      <th>lat</th>\n      <th>lng</th>\n    </tr>\n  </thead>\n  <tbody>\n    <tr>\n      <th>0</th>\n      <td>s Gravesandestraat 55 Oost 1092 AA Amsterdam ...</td>\n      <td>194</td>\n      <td>8/3/2017</td>\n      <td>7.7</td>\n      <td>Hotel Arena</td>\n      <td>Russia</td>\n      <td>I am so angry that i made this post available...</td>\n      <td>397</td>\n      <td>1403</td>\n      <td>Only the park outside of the hotel was beauti...</td>\n      <td>11</td>\n      <td>7</td>\n      <td>2.9</td>\n      <td>[' Leisure trip ', ' Couple ', ' Duplex Double...</td>\n      <td>0 days</td>\n      <td>52.360576</td>\n      <td>4.915968</td>\n    </tr>\n    <tr>\n      <th>1</th>\n      <td>s Gravesandestraat 55 Oost 1092 AA Amsterdam ...</td>\n      <td>194</td>\n      <td>8/3/2017</td>\n      <td>7.7</td>\n      <td>Hotel Arena</td>\n      <td>Ireland</td>\n      <td>No Negative</td>\n      <td>0</td>\n      <td>1403</td>\n      <td>No real complaints the hotel was great great ...</td>\n      <td>105</td>\n      <td>7</td>\n      <td>7.5</td>\n      <td>[' Leisure trip ', ' Couple ', ' Duplex Double...</td>\n      <td>0 days</td>\n      <td>52.360576</td>\n      <td>4.915968</td>\n    </tr>\n    <tr>\n      <th>2</th>\n      <td>s Gravesandestraat 55 Oost 1092 AA Amsterdam ...</td>\n      <td>194</td>\n      <td>7/31/2017</td>\n      <td>7.7</td>\n      <td>Hotel Arena</td>\n      <td>Australia</td>\n      <td>Rooms are nice but for elderly a bit difficul...</td>\n      <td>42</td>\n      <td>1403</td>\n      <td>Location was good and staff were ok It is cut...</td>\n      <td>21</td>\n      <td>9</td>\n      <td>7.1</td>\n      <td>[' Leisure trip ', ' Family with young childre...</td>\n      <td>3 days</td>\n      <td>52.360576</td>\n      <td>4.915968</td>\n    </tr>\n    <tr>\n      <th>3</th>\n      <td>s Gravesandestraat 55 Oost 1092 AA Amsterdam ...</td>\n      <td>194</td>\n      <td>7/31/2017</td>\n      <td>7.7</td>\n      <td>Hotel Arena</td>\n      <td>United Kingdom</td>\n      <td>My room was dirty and I was afraid to walk ba...</td>\n      <td>210</td>\n      <td>1403</td>\n      <td>Great location in nice surroundings the bar a...</td>\n      <td>26</td>\n      <td>1</td>\n      <td>3.8</td>\n      <td>[' Leisure trip ', ' Solo traveler ', ' Duplex...</td>\n      <td>3 days</td>\n      <td>52.360576</td>\n      <td>4.915968</td>\n    </tr>\n    <tr>\n      <th>4</th>\n      <td>s Gravesandestraat 55 Oost 1092 AA Amsterdam ...</td>\n      <td>194</td>\n      <td>7/24/2017</td>\n      <td>7.7</td>\n      <td>Hotel Arena</td>\n      <td>New Zealand</td>\n      <td>You When I booked with your company on line y...</td>\n      <td>140</td>\n      <td>1403</td>\n      <td>Amazing location and building Romantic setting</td>\n      <td>8</td>\n      <td>3</td>\n      <td>6.7</td>\n      <td>[' Leisure trip ', ' Couple ', ' Suite ', ' St...</td>\n      <td>10 days</td>\n      <td>52.360576</td>\n      <td>4.915968</td>\n    </tr>\n  </tbody>\n</table>\n</div>"
     },
     "metadata": {},
     "execution_count": 316
    }
   ],
   "source": [
    "df.head()"
   ]
  },
  {
   "cell_type": "code",
   "execution_count": 317,
   "metadata": {},
   "outputs": [
    {
     "output_type": "stream",
     "name": "stdout",
     "text": [
      "Hotel_Address\nAdditional_Number_of_Scoring\nReview_Date\nAverage_Score\nHotel_Name\nReviewer_Nationality\nNegative_Review\nReview_Total_Negative_Word_Counts\nTotal_Number_of_Reviews\nPositive_Review\nReview_Total_Positive_Word_Counts\nTotal_Number_of_Reviews_Reviewer_Has_Given\nReviewer_Score\nTags\ndays_since_review\nlat\nlng\n"
     ]
    }
   ],
   "source": [
    "for col in df.columns:\n",
    "    print(col)"
   ]
  },
  {
   "cell_type": "code",
   "execution_count": 318,
   "metadata": {},
   "outputs": [],
   "source": [
    "hotels_unique = df.drop_duplicates(subset='Hotel_Address', keep='first')"
   ]
  },
  {
   "cell_type": "code",
   "execution_count": 319,
   "metadata": {},
   "outputs": [
    {
     "output_type": "execute_result",
     "data": {
      "text/plain": [
       "(1493, 17)"
      ]
     },
     "metadata": {},
     "execution_count": 319
    }
   ],
   "source": [
    "hotels_unique.shape"
   ]
  },
  {
   "cell_type": "code",
   "execution_count": 320,
   "metadata": {},
   "outputs": [],
   "source": [
    "add_numeric = []"
   ]
  },
  {
   "cell_type": "code",
   "execution_count": 321,
   "metadata": {},
   "outputs": [],
   "source": [
    "addresses = hotels_unique.Hotel_Address\n",
    "for address in addresses:\n",
    "    if \"United Kingdom\" in address:\n",
    "        add_numeric.append(0)\n",
    "    elif \"France\" in address:\n",
    "        add_numeric.append(1)\n",
    "    elif \"Italy\" in address:\n",
    "        add_numeric.append(2)\n",
    "    elif \"Spain\" in address:\n",
    "        add_numeric.append(3)\n",
    "    elif \"Austria\" in address:\n",
    "        add_numeric.append(4)\n",
    "    elif \"Netherlands\" in address:\n",
    "        add_numeric.append(5)"
   ]
  },
  {
   "cell_type": "code",
   "execution_count": 322,
   "metadata": {},
   "outputs": [
    {
     "output_type": "stream",
     "name": "stderr",
     "text": [
      "<ipython-input-322-ce9dbd65ef2c>:1: SettingWithCopyWarning: \nA value is trying to be set on a copy of a slice from a DataFrame.\nTry using .loc[row_indexer,col_indexer] = value instead\n\nSee the caveats in the documentation: https://pandas.pydata.org/pandas-docs/stable/user_guide/indexing.html#returning-a-view-versus-a-copy\n  hotels_unique['country'] = add_numeric\n"
     ]
    }
   ],
   "source": [
    "hotels_unique['country'] = add_numeric"
   ]
  },
  {
   "cell_type": "code",
   "execution_count": 323,
   "metadata": {},
   "outputs": [
    {
     "output_type": "execute_result",
     "data": {
      "text/plain": [
       "                                          Hotel_Address  \\\n",
       "0      s Gravesandestraat 55 Oost 1092 AA Amsterdam ...   \n",
       "405   1 15 Templeton Place Earl s Court Kensington a...   \n",
       "971   1 2 Serjeant s Inn Fleet Street City of London...   \n",
       "2008  1 3 Queens Garden Westminster Borough London W...   \n",
       "3778    1 3 Rue d Argentine 16th arr 75116 Paris France   \n",
       "\n",
       "      Additional_Number_of_Scoring Review_Date  Average_Score  \\\n",
       "0                              194    8/3/2017            7.7   \n",
       "405                            244    8/3/2017            8.5   \n",
       "971                            639    8/2/2017            9.2   \n",
       "2008                          1058    8/2/2017            7.7   \n",
       "3778                            26   6/29/2017            8.4   \n",
       "\n",
       "                            Hotel_Name Reviewer_Nationality  \\\n",
       "0                          Hotel Arena              Russia    \n",
       "405                   K K Hotel George             Ireland    \n",
       "971            Apex Temple Court Hotel      United Kingdom    \n",
       "2008  The Park Grand London Paddington              Cyprus    \n",
       "3778               Monhotel Lounge SPA              Brazil    \n",
       "\n",
       "                                        Negative_Review  \\\n",
       "0      I am so angry that i made this post available...   \n",
       "405     Really nothing negative to say about this hotel   \n",
       "971    Difficult to locate the phone to contact rece...   \n",
       "2008   The first night we were given an extremely sm...   \n",
       "3778                                        No Negative   \n",
       "\n",
       "      Review_Total_Negative_Word_Counts  Total_Number_of_Reviews  \\\n",
       "0                                   397                     1403   \n",
       "405                                   9                     1831   \n",
       "971                                  20                     2619   \n",
       "2008                                 30                     4380   \n",
       "3778                                  0                      171   \n",
       "\n",
       "                                        Positive_Review  \\\n",
       "0      Only the park outside of the hotel was beauti...   \n",
       "405    Very comfortable beds smart bathroom good sho...   \n",
       "971    They have followed through special requests C...   \n",
       "2008                               The size of the room   \n",
       "3778   Nice hotel Room was beautiful and bed very co...   \n",
       "\n",
       "      Review_Total_Positive_Word_Counts  \\\n",
       "0                                    11   \n",
       "405                                  18   \n",
       "971                                  17   \n",
       "2008                                  6   \n",
       "3778                                231   \n",
       "\n",
       "      Total_Number_of_Reviews_Reviewer_Has_Given  Reviewer_Score  \\\n",
       "0                                              7             2.9   \n",
       "405                                            2             9.6   \n",
       "971                                            1             9.2   \n",
       "2008                                           6             8.3   \n",
       "3778                                           1             9.2   \n",
       "\n",
       "                                                   Tags days_since_review  \\\n",
       "0     [' Leisure trip ', ' Couple ', ' Duplex Double...            0 days   \n",
       "405   [' Leisure trip ', ' Group ', ' Classic Twin R...            0 days   \n",
       "971   [' Leisure trip ', ' Couple ', ' Deluxe King R...            1 days   \n",
       "2008  [' Family with young children ', ' Triple Room...            1 days   \n",
       "3778  [' Leisure trip ', ' Group ', ' Comfort Double...           35 days   \n",
       "\n",
       "            lat       lng  country  \n",
       "0     52.360576  4.915968        5  \n",
       "405   51.491888 -0.194971        0  \n",
       "971   51.513734 -0.108751        0  \n",
       "2008  51.514218 -0.180903        0  \n",
       "3778  48.874348  2.289733        1  "
      ],
      "text/html": "<div>\n<style scoped>\n    .dataframe tbody tr th:only-of-type {\n        vertical-align: middle;\n    }\n\n    .dataframe tbody tr th {\n        vertical-align: top;\n    }\n\n    .dataframe thead th {\n        text-align: right;\n    }\n</style>\n<table border=\"1\" class=\"dataframe\">\n  <thead>\n    <tr style=\"text-align: right;\">\n      <th></th>\n      <th>Hotel_Address</th>\n      <th>Additional_Number_of_Scoring</th>\n      <th>Review_Date</th>\n      <th>Average_Score</th>\n      <th>Hotel_Name</th>\n      <th>Reviewer_Nationality</th>\n      <th>Negative_Review</th>\n      <th>Review_Total_Negative_Word_Counts</th>\n      <th>Total_Number_of_Reviews</th>\n      <th>Positive_Review</th>\n      <th>Review_Total_Positive_Word_Counts</th>\n      <th>Total_Number_of_Reviews_Reviewer_Has_Given</th>\n      <th>Reviewer_Score</th>\n      <th>Tags</th>\n      <th>days_since_review</th>\n      <th>lat</th>\n      <th>lng</th>\n      <th>country</th>\n    </tr>\n  </thead>\n  <tbody>\n    <tr>\n      <th>0</th>\n      <td>s Gravesandestraat 55 Oost 1092 AA Amsterdam ...</td>\n      <td>194</td>\n      <td>8/3/2017</td>\n      <td>7.7</td>\n      <td>Hotel Arena</td>\n      <td>Russia</td>\n      <td>I am so angry that i made this post available...</td>\n      <td>397</td>\n      <td>1403</td>\n      <td>Only the park outside of the hotel was beauti...</td>\n      <td>11</td>\n      <td>7</td>\n      <td>2.9</td>\n      <td>[' Leisure trip ', ' Couple ', ' Duplex Double...</td>\n      <td>0 days</td>\n      <td>52.360576</td>\n      <td>4.915968</td>\n      <td>5</td>\n    </tr>\n    <tr>\n      <th>405</th>\n      <td>1 15 Templeton Place Earl s Court Kensington a...</td>\n      <td>244</td>\n      <td>8/3/2017</td>\n      <td>8.5</td>\n      <td>K K Hotel George</td>\n      <td>Ireland</td>\n      <td>Really nothing negative to say about this hotel</td>\n      <td>9</td>\n      <td>1831</td>\n      <td>Very comfortable beds smart bathroom good sho...</td>\n      <td>18</td>\n      <td>2</td>\n      <td>9.6</td>\n      <td>[' Leisure trip ', ' Group ', ' Classic Twin R...</td>\n      <td>0 days</td>\n      <td>51.491888</td>\n      <td>-0.194971</td>\n      <td>0</td>\n    </tr>\n    <tr>\n      <th>971</th>\n      <td>1 2 Serjeant s Inn Fleet Street City of London...</td>\n      <td>639</td>\n      <td>8/2/2017</td>\n      <td>9.2</td>\n      <td>Apex Temple Court Hotel</td>\n      <td>United Kingdom</td>\n      <td>Difficult to locate the phone to contact rece...</td>\n      <td>20</td>\n      <td>2619</td>\n      <td>They have followed through special requests C...</td>\n      <td>17</td>\n      <td>1</td>\n      <td>9.2</td>\n      <td>[' Leisure trip ', ' Couple ', ' Deluxe King R...</td>\n      <td>1 days</td>\n      <td>51.513734</td>\n      <td>-0.108751</td>\n      <td>0</td>\n    </tr>\n    <tr>\n      <th>2008</th>\n      <td>1 3 Queens Garden Westminster Borough London W...</td>\n      <td>1058</td>\n      <td>8/2/2017</td>\n      <td>7.7</td>\n      <td>The Park Grand London Paddington</td>\n      <td>Cyprus</td>\n      <td>The first night we were given an extremely sm...</td>\n      <td>30</td>\n      <td>4380</td>\n      <td>The size of the room</td>\n      <td>6</td>\n      <td>6</td>\n      <td>8.3</td>\n      <td>[' Family with young children ', ' Triple Room...</td>\n      <td>1 days</td>\n      <td>51.514218</td>\n      <td>-0.180903</td>\n      <td>0</td>\n    </tr>\n    <tr>\n      <th>3778</th>\n      <td>1 3 Rue d Argentine 16th arr 75116 Paris France</td>\n      <td>26</td>\n      <td>6/29/2017</td>\n      <td>8.4</td>\n      <td>Monhotel Lounge SPA</td>\n      <td>Brazil</td>\n      <td>No Negative</td>\n      <td>0</td>\n      <td>171</td>\n      <td>Nice hotel Room was beautiful and bed very co...</td>\n      <td>231</td>\n      <td>1</td>\n      <td>9.2</td>\n      <td>[' Leisure trip ', ' Group ', ' Comfort Double...</td>\n      <td>35 days</td>\n      <td>48.874348</td>\n      <td>2.289733</td>\n      <td>1</td>\n    </tr>\n  </tbody>\n</table>\n</div>"
     },
     "metadata": {},
     "execution_count": 323
    }
   ],
   "source": [
    "hotels_unique.head()"
   ]
  },
  {
   "cell_type": "code",
   "execution_count": 324,
   "metadata": {},
   "outputs": [
    {
     "output_type": "stream",
     "name": "stderr",
     "text": [
      "C:\\Users\\Hi\\anaconda3\\lib\\site-packages\\pandas\\core\\frame.py:4163: SettingWithCopyWarning: \nA value is trying to be set on a copy of a slice from a DataFrame\n\nSee the caveats in the documentation: https://pandas.pydata.org/pandas-docs/stable/user_guide/indexing.html#returning-a-view-versus-a-copy\n  return super().drop(\n"
     ]
    }
   ],
   "source": [
    "hotels_unique.drop(['Hotel_Address', 'Review_Date','Review_Total_Negative_Word_Counts','Review_Total_Positive_Word_Counts','days_since_review','Additional_Number_of_Scoring','Total_Number_of_Reviews_Reviewer_Has_Given','Positive_Review','Negative_Review','Reviewer_Nationality','Reviewer_Score'], axis=1, inplace=True)"
   ]
  },
  {
   "cell_type": "code",
   "execution_count": 325,
   "metadata": {},
   "outputs": [
    {
     "output_type": "execute_result",
     "data": {
      "text/plain": [
       "Index(['Average_Score', 'Hotel_Name', 'Total_Number_of_Reviews', 'Tags', 'lat',\n",
       "       'lng', 'country'],\n",
       "      dtype='object')"
      ]
     },
     "metadata": {},
     "execution_count": 325
    }
   ],
   "source": [
    "hotels_unique.columns"
   ]
  },
  {
   "cell_type": "code",
   "execution_count": 326,
   "metadata": {},
   "outputs": [],
   "source": [
    "hotels_unique.columns = ['avg_score', 'name', 'total_reviews', 'tags', 'lat', 'lng', 'country']"
   ]
  },
  {
   "cell_type": "code",
   "execution_count": 327,
   "metadata": {},
   "outputs": [
    {
     "output_type": "execute_result",
     "data": {
      "text/plain": [
       "      avg_score                              name  total_reviews  \\\n",
       "0           7.7                       Hotel Arena           1403   \n",
       "405         8.5                  K K Hotel George           1831   \n",
       "971         9.2           Apex Temple Court Hotel           2619   \n",
       "2008        7.7  The Park Grand London Paddington           4380   \n",
       "3778        8.4               Monhotel Lounge SPA            171   \n",
       "\n",
       "                                                   tags        lat       lng  \\\n",
       "0     [' Leisure trip ', ' Couple ', ' Duplex Double...  52.360576  4.915968   \n",
       "405   [' Leisure trip ', ' Group ', ' Classic Twin R...  51.491888 -0.194971   \n",
       "971   [' Leisure trip ', ' Couple ', ' Deluxe King R...  51.513734 -0.108751   \n",
       "2008  [' Family with young children ', ' Triple Room...  51.514218 -0.180903   \n",
       "3778  [' Leisure trip ', ' Group ', ' Comfort Double...  48.874348  2.289733   \n",
       "\n",
       "      country  \n",
       "0           5  \n",
       "405         0  \n",
       "971         0  \n",
       "2008        0  \n",
       "3778        1  "
      ],
      "text/html": "<div>\n<style scoped>\n    .dataframe tbody tr th:only-of-type {\n        vertical-align: middle;\n    }\n\n    .dataframe tbody tr th {\n        vertical-align: top;\n    }\n\n    .dataframe thead th {\n        text-align: right;\n    }\n</style>\n<table border=\"1\" class=\"dataframe\">\n  <thead>\n    <tr style=\"text-align: right;\">\n      <th></th>\n      <th>avg_score</th>\n      <th>name</th>\n      <th>total_reviews</th>\n      <th>tags</th>\n      <th>lat</th>\n      <th>lng</th>\n      <th>country</th>\n    </tr>\n  </thead>\n  <tbody>\n    <tr>\n      <th>0</th>\n      <td>7.7</td>\n      <td>Hotel Arena</td>\n      <td>1403</td>\n      <td>[' Leisure trip ', ' Couple ', ' Duplex Double...</td>\n      <td>52.360576</td>\n      <td>4.915968</td>\n      <td>5</td>\n    </tr>\n    <tr>\n      <th>405</th>\n      <td>8.5</td>\n      <td>K K Hotel George</td>\n      <td>1831</td>\n      <td>[' Leisure trip ', ' Group ', ' Classic Twin R...</td>\n      <td>51.491888</td>\n      <td>-0.194971</td>\n      <td>0</td>\n    </tr>\n    <tr>\n      <th>971</th>\n      <td>9.2</td>\n      <td>Apex Temple Court Hotel</td>\n      <td>2619</td>\n      <td>[' Leisure trip ', ' Couple ', ' Deluxe King R...</td>\n      <td>51.513734</td>\n      <td>-0.108751</td>\n      <td>0</td>\n    </tr>\n    <tr>\n      <th>2008</th>\n      <td>7.7</td>\n      <td>The Park Grand London Paddington</td>\n      <td>4380</td>\n      <td>[' Family with young children ', ' Triple Room...</td>\n      <td>51.514218</td>\n      <td>-0.180903</td>\n      <td>0</td>\n    </tr>\n    <tr>\n      <th>3778</th>\n      <td>8.4</td>\n      <td>Monhotel Lounge SPA</td>\n      <td>171</td>\n      <td>[' Leisure trip ', ' Group ', ' Comfort Double...</td>\n      <td>48.874348</td>\n      <td>2.289733</td>\n      <td>1</td>\n    </tr>\n  </tbody>\n</table>\n</div>"
     },
     "metadata": {},
     "execution_count": 327
    }
   ],
   "source": [
    "hotels_unique.head()"
   ]
  },
  {
   "cell_type": "code",
   "execution_count": 328,
   "metadata": {},
   "outputs": [
    {
     "output_type": "execute_result",
     "data": {
      "text/plain": [
       "(1493, 7)"
      ]
     },
     "metadata": {},
     "execution_count": 328
    }
   ],
   "source": [
    "hotels_unique.shape"
   ]
  },
  {
   "cell_type": "code",
   "execution_count": 329,
   "metadata": {},
   "outputs": [
    {
     "output_type": "execute_result",
     "data": {
      "text/plain": [
       "        avg_score                                              name  \\\n",
       "99488         7.8                   Mercure Paris Gare Montparnasse   \n",
       "116738        8.3                      Holiday Inn Paris Montmartre   \n",
       "177657        8.8            Maison Albar Hotel Paris Op ra Diamond   \n",
       "282265        8.9                    NH Collection Barcelona Podium   \n",
       "327680        8.0                         City Hotel Deutschmeister   \n",
       "338919        8.6                                  Hotel Park Villa   \n",
       "351449        8.3               Fleming s Selection Hotel Wien City   \n",
       "352107        8.4                         Cordial Theaterhotel Wien   \n",
       "365418        8.5                               Hotel Daniel Vienna   \n",
       "395735        8.1                                      Roomz Vienna   \n",
       "401983        7.6                       Renaissance Barcelona Hotel   \n",
       "440791        8.3  Austria Trend Hotel Schloss Wilhelminenberg Wien   \n",
       "449422        8.3                                     Hotel Advance   \n",
       "449450        8.0      Derag Livinghotel Kaiser Franz Joseph Vienna   \n",
       "465289        8.6                                Hotel City Central   \n",
       "499956        8.0                Hotel Pension Baron am Schottentor   \n",
       "500179        7.8                                     Hotel Atlanta   \n",
       "\n",
       "        total_reviews                                               tags  lat  \\\n",
       "99488             377  [' Leisure trip ', ' Couple ', ' Standard Room...  NaN   \n",
       "116738            298  [' Leisure trip ', ' Group ', ' Triple Room wi...  NaN   \n",
       "177657           1524  [' Leisure trip ', ' Couple ', ' Superior Doub...  NaN   \n",
       "282265            883  [' Leisure trip ', ' Couple ', ' Premium Doubl...  NaN   \n",
       "327680            675  [' Leisure trip ', ' Couple ', ' Double Room '...  NaN   \n",
       "338919            564  [' Leisure trip ', ' Couple ', ' Standard Doub...  NaN   \n",
       "351449           3672  [' Leisure trip ', ' Couple ', ' Deluxe Double...  NaN   \n",
       "352107            422  [' Leisure trip ', ' Couple ', ' Double Room '...  NaN   \n",
       "365418           1405  [' Leisure trip ', ' Couple ', ' Standard Doub...  NaN   \n",
       "395735            568  [' Leisure trip ', ' Family with young childre...  NaN   \n",
       "401983            104  [' Leisure trip ', ' Family with young childre...  NaN   \n",
       "440791           1558  [' Leisure trip ', ' Group ', ' Classic Room '...  NaN   \n",
       "449422            156  [' Leisure trip ', ' Couple ', ' Double or Twi...  NaN   \n",
       "449450           1496  [' Leisure trip ', ' Couple ', ' Economy Plus ...  NaN   \n",
       "465289           2923  [' With a pet ', ' Leisure trip ', ' Couple ',...  NaN   \n",
       "499956           1315  [' Leisure trip ', ' Group ', ' Standard Doubl...  NaN   \n",
       "500179           2724  [' Leisure trip ', ' Group ', ' Double or Twin...  NaN   \n",
       "\n",
       "        lng  country  \n",
       "99488   NaN        1  \n",
       "116738  NaN        1  \n",
       "177657  NaN        1  \n",
       "282265  NaN        3  \n",
       "327680  NaN        4  \n",
       "338919  NaN        4  \n",
       "351449  NaN        4  \n",
       "352107  NaN        4  \n",
       "365418  NaN        4  \n",
       "395735  NaN        4  \n",
       "401983  NaN        3  \n",
       "440791  NaN        4  \n",
       "449422  NaN        3  \n",
       "449450  NaN        4  \n",
       "465289  NaN        4  \n",
       "499956  NaN        4  \n",
       "500179  NaN        4  "
      ],
      "text/html": "<div>\n<style scoped>\n    .dataframe tbody tr th:only-of-type {\n        vertical-align: middle;\n    }\n\n    .dataframe tbody tr th {\n        vertical-align: top;\n    }\n\n    .dataframe thead th {\n        text-align: right;\n    }\n</style>\n<table border=\"1\" class=\"dataframe\">\n  <thead>\n    <tr style=\"text-align: right;\">\n      <th></th>\n      <th>avg_score</th>\n      <th>name</th>\n      <th>total_reviews</th>\n      <th>tags</th>\n      <th>lat</th>\n      <th>lng</th>\n      <th>country</th>\n    </tr>\n  </thead>\n  <tbody>\n    <tr>\n      <th>99488</th>\n      <td>7.8</td>\n      <td>Mercure Paris Gare Montparnasse</td>\n      <td>377</td>\n      <td>[' Leisure trip ', ' Couple ', ' Standard Room...</td>\n      <td>NaN</td>\n      <td>NaN</td>\n      <td>1</td>\n    </tr>\n    <tr>\n      <th>116738</th>\n      <td>8.3</td>\n      <td>Holiday Inn Paris Montmartre</td>\n      <td>298</td>\n      <td>[' Leisure trip ', ' Group ', ' Triple Room wi...</td>\n      <td>NaN</td>\n      <td>NaN</td>\n      <td>1</td>\n    </tr>\n    <tr>\n      <th>177657</th>\n      <td>8.8</td>\n      <td>Maison Albar Hotel Paris Op ra Diamond</td>\n      <td>1524</td>\n      <td>[' Leisure trip ', ' Couple ', ' Superior Doub...</td>\n      <td>NaN</td>\n      <td>NaN</td>\n      <td>1</td>\n    </tr>\n    <tr>\n      <th>282265</th>\n      <td>8.9</td>\n      <td>NH Collection Barcelona Podium</td>\n      <td>883</td>\n      <td>[' Leisure trip ', ' Couple ', ' Premium Doubl...</td>\n      <td>NaN</td>\n      <td>NaN</td>\n      <td>3</td>\n    </tr>\n    <tr>\n      <th>327680</th>\n      <td>8.0</td>\n      <td>City Hotel Deutschmeister</td>\n      <td>675</td>\n      <td>[' Leisure trip ', ' Couple ', ' Double Room '...</td>\n      <td>NaN</td>\n      <td>NaN</td>\n      <td>4</td>\n    </tr>\n    <tr>\n      <th>338919</th>\n      <td>8.6</td>\n      <td>Hotel Park Villa</td>\n      <td>564</td>\n      <td>[' Leisure trip ', ' Couple ', ' Standard Doub...</td>\n      <td>NaN</td>\n      <td>NaN</td>\n      <td>4</td>\n    </tr>\n    <tr>\n      <th>351449</th>\n      <td>8.3</td>\n      <td>Fleming s Selection Hotel Wien City</td>\n      <td>3672</td>\n      <td>[' Leisure trip ', ' Couple ', ' Deluxe Double...</td>\n      <td>NaN</td>\n      <td>NaN</td>\n      <td>4</td>\n    </tr>\n    <tr>\n      <th>352107</th>\n      <td>8.4</td>\n      <td>Cordial Theaterhotel Wien</td>\n      <td>422</td>\n      <td>[' Leisure trip ', ' Couple ', ' Double Room '...</td>\n      <td>NaN</td>\n      <td>NaN</td>\n      <td>4</td>\n    </tr>\n    <tr>\n      <th>365418</th>\n      <td>8.5</td>\n      <td>Hotel Daniel Vienna</td>\n      <td>1405</td>\n      <td>[' Leisure trip ', ' Couple ', ' Standard Doub...</td>\n      <td>NaN</td>\n      <td>NaN</td>\n      <td>4</td>\n    </tr>\n    <tr>\n      <th>395735</th>\n      <td>8.1</td>\n      <td>Roomz Vienna</td>\n      <td>568</td>\n      <td>[' Leisure trip ', ' Family with young childre...</td>\n      <td>NaN</td>\n      <td>NaN</td>\n      <td>4</td>\n    </tr>\n    <tr>\n      <th>401983</th>\n      <td>7.6</td>\n      <td>Renaissance Barcelona Hotel</td>\n      <td>104</td>\n      <td>[' Leisure trip ', ' Family with young childre...</td>\n      <td>NaN</td>\n      <td>NaN</td>\n      <td>3</td>\n    </tr>\n    <tr>\n      <th>440791</th>\n      <td>8.3</td>\n      <td>Austria Trend Hotel Schloss Wilhelminenberg Wien</td>\n      <td>1558</td>\n      <td>[' Leisure trip ', ' Group ', ' Classic Room '...</td>\n      <td>NaN</td>\n      <td>NaN</td>\n      <td>4</td>\n    </tr>\n    <tr>\n      <th>449422</th>\n      <td>8.3</td>\n      <td>Hotel Advance</td>\n      <td>156</td>\n      <td>[' Leisure trip ', ' Couple ', ' Double or Twi...</td>\n      <td>NaN</td>\n      <td>NaN</td>\n      <td>3</td>\n    </tr>\n    <tr>\n      <th>449450</th>\n      <td>8.0</td>\n      <td>Derag Livinghotel Kaiser Franz Joseph Vienna</td>\n      <td>1496</td>\n      <td>[' Leisure trip ', ' Couple ', ' Economy Plus ...</td>\n      <td>NaN</td>\n      <td>NaN</td>\n      <td>4</td>\n    </tr>\n    <tr>\n      <th>465289</th>\n      <td>8.6</td>\n      <td>Hotel City Central</td>\n      <td>2923</td>\n      <td>[' With a pet ', ' Leisure trip ', ' Couple ',...</td>\n      <td>NaN</td>\n      <td>NaN</td>\n      <td>4</td>\n    </tr>\n    <tr>\n      <th>499956</th>\n      <td>8.0</td>\n      <td>Hotel Pension Baron am Schottentor</td>\n      <td>1315</td>\n      <td>[' Leisure trip ', ' Group ', ' Standard Doubl...</td>\n      <td>NaN</td>\n      <td>NaN</td>\n      <td>4</td>\n    </tr>\n    <tr>\n      <th>500179</th>\n      <td>7.8</td>\n      <td>Hotel Atlanta</td>\n      <td>2724</td>\n      <td>[' Leisure trip ', ' Group ', ' Double or Twin...</td>\n      <td>NaN</td>\n      <td>NaN</td>\n      <td>4</td>\n    </tr>\n  </tbody>\n</table>\n</div>"
     },
     "metadata": {},
     "execution_count": 329
    }
   ],
   "source": [
    "hotels_unique[pd.isnull(hotels_unique).any(axis=1)]"
   ]
  },
  {
   "cell_type": "code",
   "execution_count": 330,
   "metadata": {},
   "outputs": [
    {
     "output_type": "stream",
     "name": "stderr",
     "text": [
      "<ipython-input-330-c466aab6c8c5>:1: SettingWithCopyWarning: \nA value is trying to be set on a copy of a slice from a DataFrame\n\nSee the caveats in the documentation: https://pandas.pydata.org/pandas-docs/stable/user_guide/indexing.html#returning-a-view-versus-a-copy\n  hotels_unique.dropna(inplace=True)\n"
     ]
    }
   ],
   "source": [
    "hotels_unique.dropna(inplace=True)"
   ]
  },
  {
   "cell_type": "code",
   "execution_count": 331,
   "metadata": {},
   "outputs": [
    {
     "output_type": "execute_result",
     "data": {
      "text/plain": [
       "(1476, 7)"
      ]
     },
     "metadata": {},
     "execution_count": 331
    }
   ],
   "source": [
    "hotels_unique.shape"
   ]
  },
  {
   "cell_type": "code",
   "execution_count": 332,
   "metadata": {},
   "outputs": [
    {
     "output_type": "execute_result",
     "data": {
      "text/plain": [
       "name\n",
       "pentahotel Vienna                         1\n",
       "H tel Th r se                             1\n",
       "H10 Port Vell 4 Sup                       1\n",
       "H10 Universitat                           1\n",
       "H10 Urquinaona Plaza                      1\n",
       "                                         ..\n",
       "Mercure Paris Pigalle Sacre Coeur         1\n",
       "Mercure Paris Porte De Versailles Expo    1\n",
       "Mercure Paris Porte d Orleans             1\n",
       "Mercure Paris Terminus Nord               1\n",
       "11 Cadogan Gardens                        1\n",
       "Name: name, Length: 1290, dtype: int64"
      ]
     },
     "metadata": {},
     "execution_count": 332
    }
   ],
   "source": [
    "leisure = hotels_unique[hotels_unique.tags.str.contains('Leisure')].groupby('name')['name'].count().sort_values(ascending=False)\n",
    "leisure"
   ]
  },
  {
   "cell_type": "code",
   "execution_count": 333,
   "metadata": {},
   "outputs": [
    {
     "output_type": "execute_result",
     "data": {
      "text/plain": [
       "name\n",
       "Hotel Regina                                     2\n",
       "Worldhotel Cristoforo Colombo                    1\n",
       "Hallmark Hotel London Chigwell Prince Regent     1\n",
       "Hotel 55                                         1\n",
       "Holiday Inn London Brent Cross                   1\n",
       "                                                ..\n",
       "Mercure Milano Regency                           1\n",
       "Mercure London Hyde Park                         1\n",
       "Mercure Hotel Amsterdam Centre Canal District    1\n",
       "Melia Paris Vendome                              1\n",
       "AC Hotel Irla a Marriott Lifestyle Hotel         1\n",
       "Name: name, Length: 156, dtype: int64"
      ]
     },
     "metadata": {},
     "execution_count": 333
    }
   ],
   "source": [
    "business = hotels_unique[hotels_unique.tags.str.contains('Business')].groupby('name')['name'].count().sort_values(ascending=False)\n",
    "business"
   ]
  },
  {
   "cell_type": "code",
   "execution_count": 334,
   "metadata": {},
   "outputs": [
    {
     "output_type": "execute_result",
     "data": {
      "text/plain": [
       "name\n",
       "Hotel Regina                                2\n",
       "citizenM Tower of London                    1\n",
       "H tel de Jos phine BONAPARTE                1\n",
       "Hotel 4 Barcelona                           1\n",
       "Holiday Inn Paris Gare de l Est             1\n",
       "                                           ..\n",
       "Mercure Paris 17 me Saint Lazare Monceau    1\n",
       "Mercure Milano Regency                      1\n",
       "Mercure London Paddington Hotel             1\n",
       "Mercure London Kensington Hotel             1\n",
       "25hours Hotel beim MuseumsQuartier          1\n",
       "Name: name, Length: 239, dtype: int64"
      ]
     },
     "metadata": {},
     "execution_count": 334
    }
   ],
   "source": [
    "solo = hotels_unique[hotels_unique.tags.str.contains('Solo')].groupby('name')['name'].count().sort_values(ascending=False)\n",
    "solo"
   ]
  },
  {
   "cell_type": "code",
   "execution_count": 335,
   "metadata": {},
   "outputs": [
    {
     "output_type": "execute_result",
     "data": {
      "text/plain": [
       "name\n",
       "pentahotel Vienna                          1\n",
       "H10 Universitat                            1\n",
       "Hilton Garden Inn Milan North              1\n",
       "Hilton Barcelona                           1\n",
       "Hazlitt s                                  1\n",
       "                                          ..\n",
       "Mercure Secession Wien                     1\n",
       "Mercure Paris Tour Eiffel Pont Mirabeau    1\n",
       "Mercure Paris Terminus Nord                1\n",
       "Mercure Paris Porte d Orleans              1\n",
       "11 Cadogan Gardens                         1\n",
       "Name: name, Length: 680, dtype: int64"
      ]
     },
     "metadata": {},
     "execution_count": 335
    }
   ],
   "source": [
    "couple = hotels_unique[hotels_unique.tags.str.contains('Couple')].groupby('name')['name'].count().sort_values(ascending=False)\n",
    "couple"
   ]
  },
  {
   "cell_type": "code",
   "execution_count": 336,
   "metadata": {},
   "outputs": [
    {
     "output_type": "execute_result",
     "data": {
      "text/plain": [
       "name\n",
       "art otel Amsterdam                                  1\n",
       "H tel Th r se                                       1\n",
       "Hilton London Euston                                1\n",
       "Hilton London Angel Islington                       1\n",
       "Henry VIII                                          1\n",
       "                                                   ..\n",
       "Le Grey Hotel                                       1\n",
       "Lancaster London                                    1\n",
       "LaGare Hotel Milano Centrale MGallery by Sofitel    1\n",
       "La Villa des Ternes                                 1\n",
       "AC Hotel Milano a Marriott Lifestyle Hotel          1\n",
       "Name: name, Length: 220, dtype: int64"
      ]
     },
     "metadata": {},
     "execution_count": 336
    }
   ],
   "source": [
    "group = hotels_unique[hotels_unique.tags.str.contains('Group')].groupby('name')['name'].count().sort_values(ascending=False)\n",
    "group"
   ]
  },
  {
   "cell_type": "code",
   "execution_count": 337,
   "metadata": {},
   "outputs": [
    {
     "output_type": "execute_result",
     "data": {
      "text/plain": [
       "name\n",
       "Zenit Borrell                             1\n",
       "Hotel Atmospheres                         1\n",
       "H10 Urquinaona Plaza                      1\n",
       "Ham Yard Hotel                            1\n",
       "Haymarket Hotel                           1\n",
       "                                         ..\n",
       "Mercure Paris Porte De Versailles Expo    1\n",
       "Milan Marriott Hotel                      1\n",
       "Milan Suite Hotel                         1\n",
       "Millennium Gloucester Hotel London        1\n",
       "88 Studios                                1\n",
       "Name: name, Length: 325, dtype: int64"
      ]
     },
     "metadata": {},
     "execution_count": 337
    }
   ],
   "source": [
    "children = hotels_unique[hotels_unique.tags.str.contains('children')].groupby('name')['name'].count().sort_values(ascending=False)\n",
    "children"
   ]
  },
  {
   "cell_type": "code",
   "execution_count": 338,
   "metadata": {},
   "outputs": [
    {
     "output_type": "execute_result",
     "data": {
      "text/plain": [
       "name\n",
       "Warwick Paris Former Warwick Champs Elysees               1\n",
       "London Hilton on Park Lane                                1\n",
       "Hotel Stendhal Place Vend me Paris MGallery by Sofitel    1\n",
       "Hotel Indigo London Kensington                            1\n",
       "Hotel Dupond Smith                                        1\n",
       "Holiday Inn London Stratford City                         1\n",
       "Hilton London Hyde Park                                   1\n",
       "Hilton Garden Inn Vienna South                            1\n",
       "Hampton by Hilton Amsterdam Centre East                   1\n",
       "H tel L Echiquier Op ra Paris MGallery by Sofitel         1\n",
       "Four Seasons Hotel Milano                                 1\n",
       "Doubletree by Hilton London Kensington                    1\n",
       "DoubleTree by Hilton London Westminster                   1\n",
       "DoubleTree by Hilton London Docklands Riverside           1\n",
       "DoubleTree by Hilton Hotel London Marble Arch             1\n",
       "DoubleTree by Hilton Hotel Amsterdam NDSM Wharf           1\n",
       "DoubleTree By Hilton London Excel                         1\n",
       "Crowne Plaza London Docklands                             1\n",
       "Courthouse Hotel London                                   1\n",
       "Club Quarters Hotel St Paul s                             1\n",
       "Club Quarters Hotel Lincoln s Inn Fields                  1\n",
       "Club Quarters Hotel Gracechurch                           1\n",
       "Claridge s                                                1\n",
       "Bulgari Hotel Milano                                      1\n",
       "Bentley London                                            1\n",
       "Ashburn Hotel                                             1\n",
       "45 Park Lane Dorchester Collection                        1\n",
       "Le Dokhan s a Tribute Portfolio Hotel                     1\n",
       "London Marriott Hotel Kensington                          1\n",
       "The Waldorf Hilton                                        1\n",
       "Mercure London Bridge                                     1\n",
       "The Pillar Hotel                                          1\n",
       "The May Fair Hotel                                        1\n",
       "The Grand at Trafalgar Square                             1\n",
       "The Goring                                                1\n",
       "St Ermin s Hotel Autograph Collection                     1\n",
       "Sofitel Paris Le Faubourg                                 1\n",
       "Sofitel Paris Arc De Triomphe                             1\n",
       "Sofitel Legend The Grand Amsterdam                        1\n",
       "Room Mate Aitana                                          1\n",
       "Renaissance Paris Vendome Hotel                           1\n",
       "Renaissance Paris Republique Hotel Spa                    1\n",
       "Ramada Apollo Amsterdam Centre                            1\n",
       "Phileas Hotel                                             1\n",
       "Novotel Paris Gare De Lyon                                1\n",
       "Novotel Paris 17                                          1\n",
       "Novotel London Waterloo                                   1\n",
       "Novotel London Tower Bridge                               1\n",
       "Novotel London Paddington                                 1\n",
       "Novotel London Excel                                      1\n",
       "Novotel London Blackfriars                                1\n",
       "Novotel Amsterdam City                                    1\n",
       "Milestone Hotel Kensington                                1\n",
       "Milan Marriott Hotel                                      1\n",
       "Mercure Paris Porte De Versailles Expo                    1\n",
       "Mercure Milano Regency                                    1\n",
       "11 Cadogan Gardens                                        1\n",
       "Name: name, dtype: int64"
      ]
     },
     "metadata": {},
     "execution_count": 338
    }
   ],
   "source": [
    "queen = hotels_unique[hotels_unique.tags.str.contains('Queen')].groupby('name')['name'].count().sort_values(ascending=False)\n",
    "queen"
   ]
  },
  {
   "cell_type": "code",
   "execution_count": 339,
   "metadata": {},
   "outputs": [
    {
     "output_type": "execute_result",
     "data": {
      "text/plain": [
       "name\n",
       "Waldorf Astoria Amsterdam                 1\n",
       "Hyatt Regency Paris Etoile                1\n",
       "Four Seasons Hotel George V Paris         1\n",
       "Four Seasons Hotel London at Park Lane    1\n",
       "Grosvenor House A JW Marriott Hotel       1\n",
       "                                         ..\n",
       "Pestana Chelsea Bridge Hotel Spa          1\n",
       "Portobello House                          1\n",
       "Pullman Paris Tour Eiffel                 1\n",
       "Radisson Blu Edwardian Grafton            1\n",
       "41                                        1\n",
       "Name: name, Length: 81, dtype: int64"
      ]
     },
     "metadata": {},
     "execution_count": 339
    }
   ],
   "source": [
    "king = hotels_unique[hotels_unique.tags.str.contains('King')].groupby('name')['name'].count().sort_values(ascending=False)\n",
    "king"
   ]
  },
  {
   "cell_type": "code",
   "execution_count": 340,
   "metadata": {},
   "outputs": [],
   "source": [
    "final_hotels = hotels_unique.copy().drop_duplicates(subset=['name', 'country'], inplace=False)\n",
    "final_hotels.drop(['tags'], axis=1, inplace=True)"
   ]
  },
  {
   "cell_type": "code",
   "execution_count": 341,
   "metadata": {},
   "outputs": [
    {
     "output_type": "execute_result",
     "data": {
      "text/plain": [
       "      avg_score                              name  total_reviews        lat  \\\n",
       "0           7.7                       Hotel Arena           1403  52.360576   \n",
       "405         8.5                  K K Hotel George           1831  51.491888   \n",
       "971         9.2           Apex Temple Court Hotel           2619  51.513734   \n",
       "2008        7.7  The Park Grand London Paddington           4380  51.514218   \n",
       "3778        8.4               Monhotel Lounge SPA            171  48.874348   \n",
       "\n",
       "           lng  country  \n",
       "0     4.915968        5  \n",
       "405  -0.194971        0  \n",
       "971  -0.108751        0  \n",
       "2008 -0.180903        0  \n",
       "3778  2.289733        1  "
      ],
      "text/html": "<div>\n<style scoped>\n    .dataframe tbody tr th:only-of-type {\n        vertical-align: middle;\n    }\n\n    .dataframe tbody tr th {\n        vertical-align: top;\n    }\n\n    .dataframe thead th {\n        text-align: right;\n    }\n</style>\n<table border=\"1\" class=\"dataframe\">\n  <thead>\n    <tr style=\"text-align: right;\">\n      <th></th>\n      <th>avg_score</th>\n      <th>name</th>\n      <th>total_reviews</th>\n      <th>lat</th>\n      <th>lng</th>\n      <th>country</th>\n    </tr>\n  </thead>\n  <tbody>\n    <tr>\n      <th>0</th>\n      <td>7.7</td>\n      <td>Hotel Arena</td>\n      <td>1403</td>\n      <td>52.360576</td>\n      <td>4.915968</td>\n      <td>5</td>\n    </tr>\n    <tr>\n      <th>405</th>\n      <td>8.5</td>\n      <td>K K Hotel George</td>\n      <td>1831</td>\n      <td>51.491888</td>\n      <td>-0.194971</td>\n      <td>0</td>\n    </tr>\n    <tr>\n      <th>971</th>\n      <td>9.2</td>\n      <td>Apex Temple Court Hotel</td>\n      <td>2619</td>\n      <td>51.513734</td>\n      <td>-0.108751</td>\n      <td>0</td>\n    </tr>\n    <tr>\n      <th>2008</th>\n      <td>7.7</td>\n      <td>The Park Grand London Paddington</td>\n      <td>4380</td>\n      <td>51.514218</td>\n      <td>-0.180903</td>\n      <td>0</td>\n    </tr>\n    <tr>\n      <th>3778</th>\n      <td>8.4</td>\n      <td>Monhotel Lounge SPA</td>\n      <td>171</td>\n      <td>48.874348</td>\n      <td>2.289733</td>\n      <td>1</td>\n    </tr>\n  </tbody>\n</table>\n</div>"
     },
     "metadata": {},
     "execution_count": 341
    }
   ],
   "source": [
    "final_hotels.head()"
   ]
  },
  {
   "cell_type": "code",
   "execution_count": 342,
   "metadata": {},
   "outputs": [
    {
     "output_type": "execute_result",
     "data": {
      "text/plain": [
       "(1476, 6)"
      ]
     },
     "metadata": {},
     "execution_count": 342
    }
   ],
   "source": [
    "final_hotels.shape"
   ]
  },
  {
   "cell_type": "code",
   "execution_count": 343,
   "metadata": {},
   "outputs": [],
   "source": [
    "final_hotels.insert(final_hotels.shape[1], 'Business', 0)\n",
    "final_hotels.insert(final_hotels.shape[1], 'Leisure', 0)\n",
    "final_hotels.insert(final_hotels.shape[1], 'Solo', 0)\n",
    "final_hotels.insert(final_hotels.shape[1], 'Couple', 0)\n",
    "final_hotels.insert(final_hotels.shape[1], 'Group', 0)\n",
    "final_hotels.insert(final_hotels.shape[1], 'Children', 0)\n",
    "final_hotels.insert(final_hotels.shape[1], 'QueenBed', 0)\n",
    "final_hotels.insert(final_hotels.shape[1], 'KingBed', 0)"
   ]
  },
  {
   "cell_type": "code",
   "execution_count": 344,
   "metadata": {},
   "outputs": [
    {
     "output_type": "execute_result",
     "data": {
      "text/plain": [
       "        avg_score                              name  total_reviews        lat  \\\n",
       "0             7.7                       Hotel Arena           1403  52.360576   \n",
       "405           8.5                  K K Hotel George           1831  51.491888   \n",
       "971           9.2           Apex Temple Court Hotel           2619  51.513734   \n",
       "2008          7.7  The Park Grand London Paddington           4380  51.514218   \n",
       "3778          8.4               Monhotel Lounge SPA            171  48.874348   \n",
       "...           ...                               ...            ...        ...   \n",
       "511962        8.0        Suite Hotel 900 m zur Oper           3461  48.193523   \n",
       "512401        8.9                     Hotel Amadeus            717  48.210447   \n",
       "512545        9.1                      The Berkeley            232  51.502091   \n",
       "512645        7.8     Holiday Inn London Kensington           5945  51.499981   \n",
       "515413        8.1             Atlantis Hotel Vienna           2823  48.203745   \n",
       "\n",
       "              lng  country  Business  Leisure  Solo  Couple  Group  Children  \\\n",
       "0        4.915968        5         0        1     0       1      0         0   \n",
       "405     -0.194971        0         0        1     0       0      1         0   \n",
       "971     -0.108751        0         0        1     0       1      0         0   \n",
       "2008    -0.180903        0         0        0     0       0      0         1   \n",
       "3778     2.289733        1         0        1     0       0      1         0   \n",
       "...           ...      ...       ...      ...   ...     ...    ...       ...   \n",
       "511962  16.366915        4         1        0     1       0      0         0   \n",
       "512401  16.371578        4         0        1     1       0      0         0   \n",
       "512545  -0.157780        0         0        1     0       1      0         0   \n",
       "512645  -0.192879        0         0        1     0       1      0         0   \n",
       "515413  16.335677        4         0        1     0       0      0         1   \n",
       "\n",
       "        QueenBed  KingBed  \n",
       "0              0        0  \n",
       "405            0        0  \n",
       "971            0        1  \n",
       "2008           0        0  \n",
       "3778           0        0  \n",
       "...          ...      ...  \n",
       "511962         0        0  \n",
       "512401         0        0  \n",
       "512545         0        1  \n",
       "512645         0        0  \n",
       "515413         0        0  \n",
       "\n",
       "[1476 rows x 14 columns]"
      ],
      "text/html": "<div>\n<style scoped>\n    .dataframe tbody tr th:only-of-type {\n        vertical-align: middle;\n    }\n\n    .dataframe tbody tr th {\n        vertical-align: top;\n    }\n\n    .dataframe thead th {\n        text-align: right;\n    }\n</style>\n<table border=\"1\" class=\"dataframe\">\n  <thead>\n    <tr style=\"text-align: right;\">\n      <th></th>\n      <th>avg_score</th>\n      <th>name</th>\n      <th>total_reviews</th>\n      <th>lat</th>\n      <th>lng</th>\n      <th>country</th>\n      <th>Business</th>\n      <th>Leisure</th>\n      <th>Solo</th>\n      <th>Couple</th>\n      <th>Group</th>\n      <th>Children</th>\n      <th>QueenBed</th>\n      <th>KingBed</th>\n    </tr>\n  </thead>\n  <tbody>\n    <tr>\n      <th>0</th>\n      <td>7.7</td>\n      <td>Hotel Arena</td>\n      <td>1403</td>\n      <td>52.360576</td>\n      <td>4.915968</td>\n      <td>5</td>\n      <td>0</td>\n      <td>1</td>\n      <td>0</td>\n      <td>1</td>\n      <td>0</td>\n      <td>0</td>\n      <td>0</td>\n      <td>0</td>\n    </tr>\n    <tr>\n      <th>405</th>\n      <td>8.5</td>\n      <td>K K Hotel George</td>\n      <td>1831</td>\n      <td>51.491888</td>\n      <td>-0.194971</td>\n      <td>0</td>\n      <td>0</td>\n      <td>1</td>\n      <td>0</td>\n      <td>0</td>\n      <td>1</td>\n      <td>0</td>\n      <td>0</td>\n      <td>0</td>\n    </tr>\n    <tr>\n      <th>971</th>\n      <td>9.2</td>\n      <td>Apex Temple Court Hotel</td>\n      <td>2619</td>\n      <td>51.513734</td>\n      <td>-0.108751</td>\n      <td>0</td>\n      <td>0</td>\n      <td>1</td>\n      <td>0</td>\n      <td>1</td>\n      <td>0</td>\n      <td>0</td>\n      <td>0</td>\n      <td>1</td>\n    </tr>\n    <tr>\n      <th>2008</th>\n      <td>7.7</td>\n      <td>The Park Grand London Paddington</td>\n      <td>4380</td>\n      <td>51.514218</td>\n      <td>-0.180903</td>\n      <td>0</td>\n      <td>0</td>\n      <td>0</td>\n      <td>0</td>\n      <td>0</td>\n      <td>0</td>\n      <td>1</td>\n      <td>0</td>\n      <td>0</td>\n    </tr>\n    <tr>\n      <th>3778</th>\n      <td>8.4</td>\n      <td>Monhotel Lounge SPA</td>\n      <td>171</td>\n      <td>48.874348</td>\n      <td>2.289733</td>\n      <td>1</td>\n      <td>0</td>\n      <td>1</td>\n      <td>0</td>\n      <td>0</td>\n      <td>1</td>\n      <td>0</td>\n      <td>0</td>\n      <td>0</td>\n    </tr>\n    <tr>\n      <th>...</th>\n      <td>...</td>\n      <td>...</td>\n      <td>...</td>\n      <td>...</td>\n      <td>...</td>\n      <td>...</td>\n      <td>...</td>\n      <td>...</td>\n      <td>...</td>\n      <td>...</td>\n      <td>...</td>\n      <td>...</td>\n      <td>...</td>\n      <td>...</td>\n    </tr>\n    <tr>\n      <th>511962</th>\n      <td>8.0</td>\n      <td>Suite Hotel 900 m zur Oper</td>\n      <td>3461</td>\n      <td>48.193523</td>\n      <td>16.366915</td>\n      <td>4</td>\n      <td>1</td>\n      <td>0</td>\n      <td>1</td>\n      <td>0</td>\n      <td>0</td>\n      <td>0</td>\n      <td>0</td>\n      <td>0</td>\n    </tr>\n    <tr>\n      <th>512401</th>\n      <td>8.9</td>\n      <td>Hotel Amadeus</td>\n      <td>717</td>\n      <td>48.210447</td>\n      <td>16.371578</td>\n      <td>4</td>\n      <td>0</td>\n      <td>1</td>\n      <td>1</td>\n      <td>0</td>\n      <td>0</td>\n      <td>0</td>\n      <td>0</td>\n      <td>0</td>\n    </tr>\n    <tr>\n      <th>512545</th>\n      <td>9.1</td>\n      <td>The Berkeley</td>\n      <td>232</td>\n      <td>51.502091</td>\n      <td>-0.157780</td>\n      <td>0</td>\n      <td>0</td>\n      <td>1</td>\n      <td>0</td>\n      <td>1</td>\n      <td>0</td>\n      <td>0</td>\n      <td>0</td>\n      <td>1</td>\n    </tr>\n    <tr>\n      <th>512645</th>\n      <td>7.8</td>\n      <td>Holiday Inn London Kensington</td>\n      <td>5945</td>\n      <td>51.499981</td>\n      <td>-0.192879</td>\n      <td>0</td>\n      <td>0</td>\n      <td>1</td>\n      <td>0</td>\n      <td>1</td>\n      <td>0</td>\n      <td>0</td>\n      <td>0</td>\n      <td>0</td>\n    </tr>\n    <tr>\n      <th>515413</th>\n      <td>8.1</td>\n      <td>Atlantis Hotel Vienna</td>\n      <td>2823</td>\n      <td>48.203745</td>\n      <td>16.335677</td>\n      <td>4</td>\n      <td>0</td>\n      <td>1</td>\n      <td>0</td>\n      <td>0</td>\n      <td>0</td>\n      <td>1</td>\n      <td>0</td>\n      <td>0</td>\n    </tr>\n  </tbody>\n</table>\n<p>1476 rows × 14 columns</p>\n</div>"
     },
     "metadata": {},
     "execution_count": 344
    }
   ],
   "source": [
    "for hotel in final_hotels.name:\n",
    "    idx = final_hotels.index[hotels_unique['name'] == hotel]\n",
    "    if hotel in business:\n",
    "        final_hotels.at[idx, 'Business'] = 1\n",
    "    if hotel in leisure:\n",
    "        final_hotels.at[idx, 'Leisure'] = 1\n",
    "    if hotel in solo:\n",
    "        final_hotels.at[idx, 'Solo'] = 1\n",
    "    if hotel in couple:\n",
    "        final_hotels.at[idx, 'Couple'] = 1\n",
    "    if hotel in group:\n",
    "        final_hotels.at[idx, 'Group'] = 1\n",
    "    if hotel in children:\n",
    "        final_hotels.at[idx, 'Children'] = 1\n",
    "    if hotel in queen:\n",
    "        final_hotels.at[idx, 'QueenBed'] = 1\n",
    "    if hotel in king:\n",
    "        final_hotels.at[idx, 'KingBed'] = 1\n",
    "final_hotels"
   ]
  },
  {
   "cell_type": "code",
   "execution_count": 345,
   "metadata": {},
   "outputs": [
    {
     "output_type": "execute_result",
     "data": {
      "text/plain": [
       "Business     158\n",
       "Leisure     1292\n",
       "Solo         241\n",
       "Couple       682\n",
       "Group        220\n",
       "Children     325\n",
       "QueenBed      57\n",
       "KingBed       81\n",
       "dtype: int64"
      ]
     },
     "metadata": {},
     "execution_count": 345
    }
   ],
   "source": [
    "final_hotels[['Business', 'Leisure', 'Solo', 'Couple', 'Group', 'Children', 'QueenBed', 'KingBed']].sum()"
   ]
  },
  {
   "cell_type": "code",
   "execution_count": 346,
   "metadata": {},
   "outputs": [],
   "source": [
    "from sklearn.metrics.pairwise import cosine_similarity, linear_kernel"
   ]
  },
  {
   "cell_type": "code",
   "execution_count": 347,
   "metadata": {},
   "outputs": [
    {
     "output_type": "execute_result",
     "data": {
      "text/plain": [
       "     Business Leisure Solo Couple Group Children QueenBed KingBed\n",
       "tags        1       0    1      0     0        0        0       1"
      ],
      "text/html": "<div>\n<style scoped>\n    .dataframe tbody tr th:only-of-type {\n        vertical-align: middle;\n    }\n\n    .dataframe tbody tr th {\n        vertical-align: top;\n    }\n\n    .dataframe thead th {\n        text-align: right;\n    }\n</style>\n<table border=\"1\" class=\"dataframe\">\n  <thead>\n    <tr style=\"text-align: right;\">\n      <th></th>\n      <th>Business</th>\n      <th>Leisure</th>\n      <th>Solo</th>\n      <th>Couple</th>\n      <th>Group</th>\n      <th>Children</th>\n      <th>QueenBed</th>\n      <th>KingBed</th>\n    </tr>\n  </thead>\n  <tbody>\n    <tr>\n      <th>tags</th>\n      <td>1</td>\n      <td>0</td>\n      <td>1</td>\n      <td>0</td>\n      <td>0</td>\n      <td>0</td>\n      <td>0</td>\n      <td>1</td>\n    </tr>\n  </tbody>\n</table>\n</div>"
     },
     "metadata": {},
     "execution_count": 347
    }
   ],
   "source": [
    "tagsDF = pd.DataFrame(index=['tags'], columns=['Business', 'Leisure', 'Solo', 'Couple', 'Group', 'Children', 'QueenBed', 'KingBed'])\n",
    "tagsDF.loc['tags'] = [1, 0, 1, 0, 0, 0, 0, 1]\n",
    "tagsDF"
   ]
  },
  {
   "cell_type": "code",
   "execution_count": 348,
   "metadata": {},
   "outputs": [],
   "source": [
    "similarity = cosine_similarity(final_hotels[['Business', 'Leisure', 'Solo', 'Couple', 'Group', 'Children', 'QueenBed', 'KingBed']], tagsDF)"
   ]
  },
  {
   "cell_type": "code",
   "execution_count": 349,
   "metadata": {},
   "outputs": [],
   "source": [
    "final_hotels.drop(['Business', 'Leisure', 'Solo', 'Couple', 'Group', 'Children', 'QueenBed', 'KingBed'], axis=1, inplace=True)\n",
    "final_hotels['tag_similarity'] = similarity"
   ]
  },
  {
   "source": [
    "## Tag based similarity"
   ],
   "cell_type": "markdown",
   "metadata": {}
  },
  {
   "cell_type": "code",
   "execution_count": 350,
   "metadata": {},
   "outputs": [
    {
     "output_type": "execute_result",
     "data": {
      "text/plain": [
       "        avg_score                                 name  total_reviews  \\\n",
       "122627        9.4                      Rosewood London           1008   \n",
       "85479         9.3               Hilton London Bankside           2319   \n",
       "178958        9.0        Andaz London Liverpool Street           1283   \n",
       "246911        8.6             Mercure London Hyde Park            527   \n",
       "256757        8.3  Sofitel Paris Baltimore Tour Eiffel            420   \n",
       "37337         9.4              Lansbury Heritage Hotel             82   \n",
       "163269        9.3                     H tel Saint Marc            377   \n",
       "124529        9.2                       Draycott Hotel            245   \n",
       "481702        9.2                  Armani Hotel Milano            835   \n",
       "483570        9.2                          Hotel Berna           4017   \n",
       "\n",
       "              lat       lng  country  tag_similarity  \n",
       "122627  51.517330 -0.118097        0        1.000000  \n",
       "85479   51.505696 -0.101525        0        1.000000  \n",
       "178958  51.517283 -0.081245        0        1.000000  \n",
       "246911  51.515115 -0.174386        0        1.000000  \n",
       "256757  48.866309  2.289609        1        1.000000  \n",
       "37337   51.509099 -0.015730        0        0.816497  \n",
       "163269  48.870886  2.338213        1        0.816497  \n",
       "124529  51.493010 -0.159715        0        0.816497  \n",
       "481702  45.470532  9.193020        2        0.816497  \n",
       "483570  45.482669  9.203437        2        0.816497  "
      ],
      "text/html": "<div>\n<style scoped>\n    .dataframe tbody tr th:only-of-type {\n        vertical-align: middle;\n    }\n\n    .dataframe tbody tr th {\n        vertical-align: top;\n    }\n\n    .dataframe thead th {\n        text-align: right;\n    }\n</style>\n<table border=\"1\" class=\"dataframe\">\n  <thead>\n    <tr style=\"text-align: right;\">\n      <th></th>\n      <th>avg_score</th>\n      <th>name</th>\n      <th>total_reviews</th>\n      <th>lat</th>\n      <th>lng</th>\n      <th>country</th>\n      <th>tag_similarity</th>\n    </tr>\n  </thead>\n  <tbody>\n    <tr>\n      <th>122627</th>\n      <td>9.4</td>\n      <td>Rosewood London</td>\n      <td>1008</td>\n      <td>51.517330</td>\n      <td>-0.118097</td>\n      <td>0</td>\n      <td>1.000000</td>\n    </tr>\n    <tr>\n      <th>85479</th>\n      <td>9.3</td>\n      <td>Hilton London Bankside</td>\n      <td>2319</td>\n      <td>51.505696</td>\n      <td>-0.101525</td>\n      <td>0</td>\n      <td>1.000000</td>\n    </tr>\n    <tr>\n      <th>178958</th>\n      <td>9.0</td>\n      <td>Andaz London Liverpool Street</td>\n      <td>1283</td>\n      <td>51.517283</td>\n      <td>-0.081245</td>\n      <td>0</td>\n      <td>1.000000</td>\n    </tr>\n    <tr>\n      <th>246911</th>\n      <td>8.6</td>\n      <td>Mercure London Hyde Park</td>\n      <td>527</td>\n      <td>51.515115</td>\n      <td>-0.174386</td>\n      <td>0</td>\n      <td>1.000000</td>\n    </tr>\n    <tr>\n      <th>256757</th>\n      <td>8.3</td>\n      <td>Sofitel Paris Baltimore Tour Eiffel</td>\n      <td>420</td>\n      <td>48.866309</td>\n      <td>2.289609</td>\n      <td>1</td>\n      <td>1.000000</td>\n    </tr>\n    <tr>\n      <th>37337</th>\n      <td>9.4</td>\n      <td>Lansbury Heritage Hotel</td>\n      <td>82</td>\n      <td>51.509099</td>\n      <td>-0.015730</td>\n      <td>0</td>\n      <td>0.816497</td>\n    </tr>\n    <tr>\n      <th>163269</th>\n      <td>9.3</td>\n      <td>H tel Saint Marc</td>\n      <td>377</td>\n      <td>48.870886</td>\n      <td>2.338213</td>\n      <td>1</td>\n      <td>0.816497</td>\n    </tr>\n    <tr>\n      <th>124529</th>\n      <td>9.2</td>\n      <td>Draycott Hotel</td>\n      <td>245</td>\n      <td>51.493010</td>\n      <td>-0.159715</td>\n      <td>0</td>\n      <td>0.816497</td>\n    </tr>\n    <tr>\n      <th>481702</th>\n      <td>9.2</td>\n      <td>Armani Hotel Milano</td>\n      <td>835</td>\n      <td>45.470532</td>\n      <td>9.193020</td>\n      <td>2</td>\n      <td>0.816497</td>\n    </tr>\n    <tr>\n      <th>483570</th>\n      <td>9.2</td>\n      <td>Hotel Berna</td>\n      <td>4017</td>\n      <td>45.482669</td>\n      <td>9.203437</td>\n      <td>2</td>\n      <td>0.816497</td>\n    </tr>\n  </tbody>\n</table>\n</div>"
     },
     "metadata": {},
     "execution_count": 350
    }
   ],
   "source": [
    "final_hotels.sort_values(by=['tag_similarity', 'avg_score'], ascending=False).head(10)"
   ]
  },
  {
   "cell_type": "code",
   "execution_count": 351,
   "metadata": {},
   "outputs": [],
   "source": [
    "import math\n",
    "def distance(lat1, lon1, lat2, lon2):\n",
    "    radius = 6371\n",
    "    dlat = math.radians(lat2-lat1)\n",
    "    dlon = math.radians(lon2-lon1)\n",
    "    a = math.sin(dlat/2) * math.sin(dlat/2) + math.cos(math.radians(lat1)) \\\n",
    "        * math.cos(math.radians(lat2)) * math.sin(dlon/2) * math.sin(dlon/2)\n",
    "    c = 2 * math.atan2(math.sqrt(a), math.sqrt(1-a))\n",
    "    d = radius * c\n",
    "    return d"
   ]
  },
  {
   "cell_type": "code",
   "execution_count": 352,
   "metadata": {},
   "outputs": [],
   "source": [
    "from geopy.geocoders import Nominatim"
   ]
  },
  {
   "cell_type": "code",
   "execution_count": 353,
   "metadata": {},
   "outputs": [],
   "source": [
    "def calcLatLang(loc):\n",
    "    gl = Nominatim(user_agent=\"hotel-recsys\")\n",
    "    location = gl.geocode(loc)\n",
    "    return location.latitude, location.longitude"
   ]
  },
  {
   "cell_type": "code",
   "execution_count": 354,
   "metadata": {},
   "outputs": [],
   "source": [
    "lat2, lon2 = calcLatLang(\"Eiffel Tower\")"
   ]
  },
  {
   "cell_type": "code",
   "execution_count": 355,
   "metadata": {},
   "outputs": [],
   "source": [
    "hotel_dist = []\n",
    "for lat1, lon1 in zip(final_hotels.lat, final_hotels.lng):\n",
    "     hotel_dist.append(distance(lat1,lon1,lat2,lon2))\n",
    "final_hotels.drop(['lat', 'lng'], axis=1, inplace=True)\n",
    "final_hotels['distance'] = hotel_dist\n",
    "final_hotels.drop(['total_reviews', 'country', 'tag_similarity'], axis=1, inplace=True)"
   ]
  },
  {
   "source": [
    "## Distance Based Recommendation"
   ],
   "cell_type": "markdown",
   "metadata": {}
  },
  {
   "cell_type": "code",
   "execution_count": 356,
   "metadata": {},
   "outputs": [
    {
     "output_type": "execute_result",
     "data": {
      "text/plain": [
       "        avg_score                              name  distance\n",
       "76390         8.6         Pullman Paris Tour Eiffel  0.329445\n",
       "99600         8.0  Mercure Paris Centre Tour Eiffel  0.409955\n",
       "247299        8.9                        Derby Alma  0.515151\n",
       "17806         9.3            Shangri La Hotel Paris  0.610981\n",
       "159365        8.0                  Eiffel Trocad ro  0.689919\n",
       "218145        8.4                  Hotel Sezz Paris  0.699652\n",
       "55265         8.8                 Le Marquis Eiffel  0.775675\n",
       "17380         8.6               H tel Juliana Paris  0.808269\n",
       "35442         8.8           H tel de la Bourdonnais  0.819728\n",
       "255024        9.0               La Clef Tour Eiffel  0.834632"
      ],
      "text/html": "<div>\n<style scoped>\n    .dataframe tbody tr th:only-of-type {\n        vertical-align: middle;\n    }\n\n    .dataframe tbody tr th {\n        vertical-align: top;\n    }\n\n    .dataframe thead th {\n        text-align: right;\n    }\n</style>\n<table border=\"1\" class=\"dataframe\">\n  <thead>\n    <tr style=\"text-align: right;\">\n      <th></th>\n      <th>avg_score</th>\n      <th>name</th>\n      <th>distance</th>\n    </tr>\n  </thead>\n  <tbody>\n    <tr>\n      <th>76390</th>\n      <td>8.6</td>\n      <td>Pullman Paris Tour Eiffel</td>\n      <td>0.329445</td>\n    </tr>\n    <tr>\n      <th>99600</th>\n      <td>8.0</td>\n      <td>Mercure Paris Centre Tour Eiffel</td>\n      <td>0.409955</td>\n    </tr>\n    <tr>\n      <th>247299</th>\n      <td>8.9</td>\n      <td>Derby Alma</td>\n      <td>0.515151</td>\n    </tr>\n    <tr>\n      <th>17806</th>\n      <td>9.3</td>\n      <td>Shangri La Hotel Paris</td>\n      <td>0.610981</td>\n    </tr>\n    <tr>\n      <th>159365</th>\n      <td>8.0</td>\n      <td>Eiffel Trocad ro</td>\n      <td>0.689919</td>\n    </tr>\n    <tr>\n      <th>218145</th>\n      <td>8.4</td>\n      <td>Hotel Sezz Paris</td>\n      <td>0.699652</td>\n    </tr>\n    <tr>\n      <th>55265</th>\n      <td>8.8</td>\n      <td>Le Marquis Eiffel</td>\n      <td>0.775675</td>\n    </tr>\n    <tr>\n      <th>17380</th>\n      <td>8.6</td>\n      <td>H tel Juliana Paris</td>\n      <td>0.808269</td>\n    </tr>\n    <tr>\n      <th>35442</th>\n      <td>8.8</td>\n      <td>H tel de la Bourdonnais</td>\n      <td>0.819728</td>\n    </tr>\n    <tr>\n      <th>255024</th>\n      <td>9.0</td>\n      <td>La Clef Tour Eiffel</td>\n      <td>0.834632</td>\n    </tr>\n  </tbody>\n</table>\n</div>"
     },
     "metadata": {},
     "execution_count": 356
    }
   ],
   "source": [
    "final_hotels.sort_values(by='avg_score', ascending=False).sort_values(by='distance').head(10)"
   ]
  },
  {
   "cell_type": "code",
   "execution_count": 357,
   "metadata": {},
   "outputs": [
    {
     "output_type": "execute_result",
     "data": {
      "text/plain": [
       "                              Hotel_Name  \\\n",
       "0                     11 Cadogan Gardens   \n",
       "1                               1K Hotel   \n",
       "2     25hours Hotel beim MuseumsQuartier   \n",
       "3                                     41   \n",
       "4     45 Park Lane Dorchester Collection   \n",
       "...                                  ...   \n",
       "1487            citizenM London Bankside   \n",
       "1488          citizenM London Shoreditch   \n",
       "1489            citizenM Tower of London   \n",
       "1490              every hotel Piccadilly   \n",
       "1491                   pentahotel Vienna   \n",
       "\n",
       "                                        Negative_Review  \\\n",
       "0      Thought the prise of drinks at the bar a litt...   \n",
       "1      Air conditioning in room didn t work and desp...   \n",
       "2      Breakfast not included and buffet really expe...   \n",
       "3      There wasn t a thing that we didn t like , No...   \n",
       "4      More kinds of fruit juice will make the mini ...   \n",
       "...                                                 ...   \n",
       "1487   This was our third stay at this hotel and it ...   \n",
       "1488   Lifts need reprogramming exasperating journey...   \n",
       "1489   Rooms are small but well designed,  breakfast...   \n",
       "1490   The hotel overall requires an update furnitur...   \n",
       "1491   Slightly high prices at the bar and odd smell...   \n",
       "\n",
       "                                        Positive_Review  \\\n",
       "0      We were particularly impressed by the very wa...   \n",
       "1      Location good close to le Marais and 3e arron...   \n",
       "2      Cool vintage style in the middle of the museu...   \n",
       "3      Its central proximity close to all services a...   \n",
       "4      Everything here are almost perfect the staffs...   \n",
       "...                                                 ...   \n",
       "1487  No Positive,  What an amazing and unique hotel...   \n",
       "1488   Swift auto check in Good bar and lounge area ...   \n",
       "1489   The use of technology was impressive UBS outl...   \n",
       "1490   The location was the only great aspect of thi...   \n",
       "1491   The staff and room were fantastic The hotel i...   \n",
       "\n",
       "                                                 NegPos  \n",
       "0      We were particularly impressed by the very wa...  \n",
       "1      Location good close to le Marais and 3e arron...  \n",
       "2      Cool vintage style in the middle of the museu...  \n",
       "3      Its central proximity close to all services a...  \n",
       "4      Everything here are almost perfect the staffs...  \n",
       "...                                                 ...  \n",
       "1487  No Positive,  What an amazing and unique hotel...  \n",
       "1488   Swift auto check in Good bar and lounge area ...  \n",
       "1489   The use of technology was impressive UBS outl...  \n",
       "1490   The location was the only great aspect of thi...  \n",
       "1491   The staff and room were fantastic The hotel i...  \n",
       "\n",
       "[1492 rows x 4 columns]"
      ],
      "text/html": "<div>\n<style scoped>\n    .dataframe tbody tr th:only-of-type {\n        vertical-align: middle;\n    }\n\n    .dataframe tbody tr th {\n        vertical-align: top;\n    }\n\n    .dataframe thead th {\n        text-align: right;\n    }\n</style>\n<table border=\"1\" class=\"dataframe\">\n  <thead>\n    <tr style=\"text-align: right;\">\n      <th></th>\n      <th>Hotel_Name</th>\n      <th>Negative_Review</th>\n      <th>Positive_Review</th>\n      <th>NegPos</th>\n    </tr>\n  </thead>\n  <tbody>\n    <tr>\n      <th>0</th>\n      <td>11 Cadogan Gardens</td>\n      <td>Thought the prise of drinks at the bar a litt...</td>\n      <td>We were particularly impressed by the very wa...</td>\n      <td>We were particularly impressed by the very wa...</td>\n    </tr>\n    <tr>\n      <th>1</th>\n      <td>1K Hotel</td>\n      <td>Air conditioning in room didn t work and desp...</td>\n      <td>Location good close to le Marais and 3e arron...</td>\n      <td>Location good close to le Marais and 3e arron...</td>\n    </tr>\n    <tr>\n      <th>2</th>\n      <td>25hours Hotel beim MuseumsQuartier</td>\n      <td>Breakfast not included and buffet really expe...</td>\n      <td>Cool vintage style in the middle of the museu...</td>\n      <td>Cool vintage style in the middle of the museu...</td>\n    </tr>\n    <tr>\n      <th>3</th>\n      <td>41</td>\n      <td>There wasn t a thing that we didn t like , No...</td>\n      <td>Its central proximity close to all services a...</td>\n      <td>Its central proximity close to all services a...</td>\n    </tr>\n    <tr>\n      <th>4</th>\n      <td>45 Park Lane Dorchester Collection</td>\n      <td>More kinds of fruit juice will make the mini ...</td>\n      <td>Everything here are almost perfect the staffs...</td>\n      <td>Everything here are almost perfect the staffs...</td>\n    </tr>\n    <tr>\n      <th>...</th>\n      <td>...</td>\n      <td>...</td>\n      <td>...</td>\n      <td>...</td>\n    </tr>\n    <tr>\n      <th>1487</th>\n      <td>citizenM London Bankside</td>\n      <td>This was our third stay at this hotel and it ...</td>\n      <td>No Positive,  What an amazing and unique hotel...</td>\n      <td>No Positive,  What an amazing and unique hotel...</td>\n    </tr>\n    <tr>\n      <th>1488</th>\n      <td>citizenM London Shoreditch</td>\n      <td>Lifts need reprogramming exasperating journey...</td>\n      <td>Swift auto check in Good bar and lounge area ...</td>\n      <td>Swift auto check in Good bar and lounge area ...</td>\n    </tr>\n    <tr>\n      <th>1489</th>\n      <td>citizenM Tower of London</td>\n      <td>Rooms are small but well designed,  breakfast...</td>\n      <td>The use of technology was impressive UBS outl...</td>\n      <td>The use of technology was impressive UBS outl...</td>\n    </tr>\n    <tr>\n      <th>1490</th>\n      <td>every hotel Piccadilly</td>\n      <td>The hotel overall requires an update furnitur...</td>\n      <td>The location was the only great aspect of thi...</td>\n      <td>The location was the only great aspect of thi...</td>\n    </tr>\n    <tr>\n      <th>1491</th>\n      <td>pentahotel Vienna</td>\n      <td>Slightly high prices at the bar and odd smell...</td>\n      <td>The staff and room were fantastic The hotel i...</td>\n      <td>The staff and room were fantastic The hotel i...</td>\n    </tr>\n  </tbody>\n</table>\n<p>1492 rows × 4 columns</p>\n</div>"
     },
     "metadata": {},
     "execution_count": 357
    }
   ],
   "source": [
    "reviewsDF = df.groupby('Hotel_Name').agg({'Negative_Review': ', '.join,'Positive_Review': ', '.join}).reset_index()\n",
    "reviewsDF['NegPos'] = reviewsDF.Positive_Review.astype(str) + reviewsDF.Negative_Review.astype(str)\n",
    "reviewsDF"
   ]
  },
  {
   "cell_type": "code",
   "execution_count": 358,
   "metadata": {},
   "outputs": [
    {
     "output_type": "execute_result",
     "data": {
      "text/plain": [
       "Empty DataFrame\n",
       "Columns: [Hotel_Name, Negative_Review, Positive_Review, NegPos]\n",
       "Index: []"
      ],
      "text/html": "<div>\n<style scoped>\n    .dataframe tbody tr th:only-of-type {\n        vertical-align: middle;\n    }\n\n    .dataframe tbody tr th {\n        vertical-align: top;\n    }\n\n    .dataframe thead th {\n        text-align: right;\n    }\n</style>\n<table border=\"1\" class=\"dataframe\">\n  <thead>\n    <tr style=\"text-align: right;\">\n      <th></th>\n      <th>Hotel_Name</th>\n      <th>Negative_Review</th>\n      <th>Positive_Review</th>\n      <th>NegPos</th>\n    </tr>\n  </thead>\n  <tbody>\n  </tbody>\n</table>\n</div>"
     },
     "metadata": {},
     "execution_count": 358
    }
   ],
   "source": [
    "reviewsDF[pd.isnull(reviewsDF).any(axis=1)]"
   ]
  },
  {
   "cell_type": "code",
   "execution_count": 359,
   "metadata": {},
   "outputs": [],
   "source": [
    "from sklearn.feature_extraction.text import TfidfVectorizer"
   ]
  },
  {
   "cell_type": "code",
   "execution_count": 360,
   "metadata": {},
   "outputs": [],
   "source": [
    "tfidf = TfidfVectorizer(stop_words='english')"
   ]
  },
  {
   "cell_type": "code",
   "execution_count": 361,
   "metadata": {},
   "outputs": [],
   "source": [
    "tfidf_matrix = tfidf.fit_transform(reviewsDF.NegPos)"
   ]
  },
  {
   "cell_type": "code",
   "execution_count": 362,
   "metadata": {},
   "outputs": [
    {
     "output_type": "execute_result",
     "data": {
      "text/plain": [
       "(1492, 81002)"
      ]
     },
     "metadata": {},
     "execution_count": 362
    }
   ],
   "source": [
    "tfidf_matrix.shape"
   ]
  },
  {
   "cell_type": "code",
   "execution_count": 363,
   "metadata": {},
   "outputs": [],
   "source": [
    "contentSimilarity = linear_kernel(tfidf_matrix, tfidf_matrix)"
   ]
  },
  {
   "cell_type": "code",
   "execution_count": 364,
   "metadata": {},
   "outputs": [],
   "source": [
    "indices = pd.Series(reviewsDF.index, index=reviewsDF['Hotel_Name']).drop_duplicates()"
   ]
  },
  {
   "cell_type": "code",
   "execution_count": 365,
   "metadata": {},
   "outputs": [],
   "source": [
    "def get_similar_hotels(name):\n",
    "    idx = indices[name]\n",
    "    scores = list(enumerate(contentSimilarity[idx]))\n",
    "    scores = sorted(scores, key=lambda x:x[1], reverse=True)[1:11]\n",
    "    similar_hotels = [i[0] for i in scores]\n",
    "    return reviewsDF.Hotel_Name.iloc[similar_hotels]"
   ]
  },
  {
   "source": [
    "## Review Content Based Recommendation"
   ],
   "cell_type": "markdown",
   "metadata": {}
  },
  {
   "cell_type": "code",
   "execution_count": 366,
   "metadata": {},
   "outputs": [
    {
     "output_type": "execute_result",
     "data": {
      "text/plain": [
       "1145            Park Plaza Vondelpark Amsterdam\n",
       "182                 Boutique Hotel Notting Hill\n",
       "126               Best Western Blue Tower Hotel\n",
       "173                     Bilderberg Garden Hotel\n",
       "789                      Hotel Vondel Amsterdam\n",
       "495          Hampshire Hotel Amsterdam American\n",
       "362                Grand Hotel Amr th Amsterdam\n",
       "39                             Amadi Park Hotel\n",
       "1140                Park Plaza London Riverbank\n",
       "819     INK Hotel Amsterdam MGallery by Sofitel\n",
       "Name: Hotel_Name, dtype: object"
      ]
     },
     "metadata": {},
     "execution_count": 366
    }
   ],
   "source": [
    "get_similar_hotels('Hotel Arena')"
   ]
  }
 ],
 "metadata": {
  "kernelspec": {
   "name": "python385jvsc74a57bd053f1e149a1ffab03cac076ef51f8b8bf410cae2381b5edb08da85a2f271077c7",
   "display_name": "Python 3.8.5 64-bit (conda)"
  },
  "language_info": {
   "codemirror_mode": {
    "name": "ipython",
    "version": 3
   },
   "file_extension": ".py",
   "mimetype": "text/x-python",
   "name": "python",
   "nbconvert_exporter": "python",
   "pygments_lexer": "ipython3",
   "version": "3.8.5"
  },
  "metadata": {
   "interpreter": {
    "hash": "2db524e06e9f5f4ffedc911c917cb75e12dbc923643829bf417064a77eb14d37"
   }
  }
 },
 "nbformat": 4,
 "nbformat_minor": 2
}