{
 "metadata": {
  "language_info": {
   "codemirror_mode": {
    "name": "ipython",
    "version": 3
   },
   "file_extension": ".py",
   "mimetype": "text/x-python",
   "name": "python",
   "nbconvert_exporter": "python",
   "pygments_lexer": "ipython3",
   "version": "3.8.5-final"
  },
  "orig_nbformat": 2,
  "kernelspec": {
   "name": "python3",
   "display_name": "Python 3.8.5 64-bit (conda)",
   "metadata": {
    "interpreter": {
     "hash": "53f1e149a1ffab03cac076ef51f8b8bf410cae2381b5edb08da85a2f271077c7"
    }
   }
  }
 },
 "nbformat": 4,
 "nbformat_minor": 2,
 "cells": [
  {
   "cell_type": "code",
   "execution_count": 88,
   "metadata": {},
   "outputs": [],
   "source": [
    "import pandas as pd\n",
    "from scipy.spatial.distance import cityblock, euclidean, minkowski"
   ]
  },
  {
   "source": [
    "### read data ###"
   ],
   "cell_type": "markdown",
   "metadata": {}
  },
  {
   "cell_type": "code",
   "execution_count": 89,
   "metadata": {},
   "outputs": [],
   "source": [
    "dataframe = pd.read_csv('../data/dataset_review.csv')"
   ]
  },
  {
   "source": [
    "### replace empty values with NaN ###"
   ],
   "cell_type": "markdown",
   "metadata": {}
  },
  {
   "cell_type": "code",
   "execution_count": 90,
   "metadata": {},
   "outputs": [],
   "source": [
    "df = dataframe.replace('-', float('NaN'))"
   ]
  },
  {
   "cell_type": "code",
   "execution_count": 91,
   "metadata": {},
   "outputs": [
    {
     "output_type": "stream",
     "name": "stdout",
     "text": [
      "--------------------------------------------------------\n\t Manhattan \t Euclidean \t Minkowski (p=4)\n--------------------------------------------------------\np1-p8 \t 9.0 \t\t 4.3 \t\t 3.22\np1-p8 \t 4.5 \t\t 2.4 \t\t 1.83\np1-p8 \t 9.0 \t\t 4.42 \t\t 3.3\np1-p8 \t 5.0 \t\t 2.74 \t\t 2.17\np1-p8 \t 9.5 \t\t 4.66 \t\t 3.45\np1-p8 \t 8.0 \t\t 4.12 \t\t 3.06\np1-p8 \t 3.5 \t\t 1.66 \t\t 1.22\n--------------------------------------------------------\n"
     ]
    }
   ],
   "source": [
    "print('-'*56)\n",
    "print('\\t', 'Manhattan', '\\t', 'Euclidean', '\\t', 'Minkowski (p=4)')\n",
    "print('-'*56)\n",
    "for col in df.columns[2:]:\n",
    "    cur = df[['p1', col]].dropna()\n",
    "    _from = [float(i) for i in cur['p1'].values]\n",
    "    _to = [float(i) for i in cur[col].values]\n",
    "    print(f'p1-p{i+2}', '\\t', \n",
    "        cityblock(_from, _to), '\\t\\t', \n",
    "        round(euclidean(_from, _to), 2), '\\t\\t', \n",
    "        round(minkowski(_from, _to, p=4), 2))\n",
    "print('-'*56)"
   ]
  }
 ]
}