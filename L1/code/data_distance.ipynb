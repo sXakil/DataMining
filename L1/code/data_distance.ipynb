{
 "metadata": {
  "language_info": {
   "codemirror_mode": {
    "name": "ipython",
    "version": 3
   },
   "file_extension": ".py",
   "mimetype": "text/x-python",
   "name": "python",
   "nbconvert_exporter": "python",
   "pygments_lexer": "ipython3",
   "version": "3.8.5-final"
  },
  "orig_nbformat": 2,
  "kernelspec": {
   "name": "python3",
   "display_name": "Python 3.8.5 64-bit (conda)",
   "metadata": {
    "interpreter": {
     "hash": "53f1e149a1ffab03cac076ef51f8b8bf410cae2381b5edb08da85a2f271077c7"
    }
   }
  }
 },
 "nbformat": 4,
 "nbformat_minor": 2,
 "cells": [
  {
   "cell_type": "code",
   "execution_count": 23,
   "metadata": {},
   "outputs": [],
   "source": [
    "import pandas as pd\n",
    "from scipy.spatial.distance import cityblock, euclidean, minkowski"
   ]
  },
  {
   "source": [
    "### read data ###"
   ],
   "cell_type": "markdown",
   "metadata": {}
  },
  {
   "cell_type": "code",
   "execution_count": 24,
   "metadata": {},
   "outputs": [],
   "source": [
    "dataframe = pd.read_csv('../data/dataset_review.csv')"
   ]
  },
  {
   "source": [
    "### replace empty values with NaN ###"
   ],
   "cell_type": "markdown",
   "metadata": {}
  },
  {
   "cell_type": "code",
   "execution_count": 25,
   "metadata": {},
   "outputs": [],
   "source": [
    "df = dataframe.replace('-', float('NaN'))"
   ]
  },
  {
   "cell_type": "code",
   "execution_count": 26,
   "metadata": {},
   "outputs": [],
   "source": [
    "man_dist = list()\n",
    "euc_dist = list()\n",
    "kow_dist = list()"
   ]
  },
  {
   "source": [
    "## p1 to p2 ##"
   ],
   "cell_type": "markdown",
   "metadata": {}
  },
  {
   "source": [
    "df_2 = df.drop(['p3', 'p4', 'p5', 'p6', 'p7', 'p8'], axis=1).dropna()"
   ],
   "cell_type": "code",
   "metadata": {},
   "execution_count": 27,
   "outputs": []
  },
  {
   "cell_type": "code",
   "execution_count": 28,
   "metadata": {},
   "outputs": [],
   "source": [
    "man_dist.append(cityblock(df_2.p1.astype(float), df_2.p2.astype(float)))\n",
    "euc_dist.append(euclidean(df_2.p1.astype(float), df_2.p2.astype(float)))\n",
    "kow_dist.append(minkowski(df_2.p1.astype(float), df_2.p2.astype(float), p=4))"
   ]
  },
  {
   "source": [
    "## p1 to p3 ##"
   ],
   "cell_type": "markdown",
   "metadata": {}
  },
  {
   "cell_type": "code",
   "execution_count": 29,
   "metadata": {},
   "outputs": [],
   "source": [
    "df_3 = df.drop(['p2', 'p4', 'p5', 'p6', 'p7', 'p8'], axis=1).dropna()"
   ]
  },
  {
   "cell_type": "code",
   "execution_count": 30,
   "metadata": {},
   "outputs": [],
   "source": [
    "man_dist.append(cityblock(df_3.p1.astype(float), df_3.p3.astype(float)))\n",
    "euc_dist.append(euclidean(df_3.p1.astype(float), df_3.p3.astype(float)))\n",
    "kow_dist.append(minkowski(df_3.p1.astype(float), df_3.p3.astype(float), p=4))"
   ]
  },
  {
   "source": [
    "## p1 to p4 ##"
   ],
   "cell_type": "markdown",
   "metadata": {}
  },
  {
   "cell_type": "code",
   "execution_count": 31,
   "metadata": {},
   "outputs": [],
   "source": [
    "df_4 = df.drop(['p2', 'p3', 'p5', 'p6', 'p7', 'p8'], axis=1).dropna()"
   ]
  },
  {
   "cell_type": "code",
   "execution_count": 32,
   "metadata": {},
   "outputs": [],
   "source": [
    "man_dist.append(cityblock(df_4.p1.astype(float), df_4.p4.astype(float)))\n",
    "euc_dist.append(euclidean(df_4.p1.astype(float), df_4.p4.astype(float)))\n",
    "kow_dist.append(minkowski(df_4.p1.astype(float), df_4.p4.astype(float), p=4))"
   ]
  },
  {
   "source": [
    "## p1 to p5 ##"
   ],
   "cell_type": "markdown",
   "metadata": {}
  },
  {
   "cell_type": "code",
   "execution_count": 33,
   "metadata": {},
   "outputs": [],
   "source": [
    "df_5 = df.drop(['p2', 'p3', 'p4', 'p6', 'p7', 'p8'], axis=1).dropna()"
   ]
  },
  {
   "cell_type": "code",
   "execution_count": 34,
   "metadata": {},
   "outputs": [],
   "source": [
    "man_dist.append(cityblock(df_5.p1.astype(float), df_5.p5.astype(float)))\n",
    "euc_dist.append(euclidean(df_5.p1.astype(float), df_5.p5.astype(float)))\n",
    "kow_dist.append(minkowski(df_5.p1.astype(float), df_5.p5.astype(float), p=4))"
   ]
  },
  {
   "source": [
    "## p1 to p6 ##"
   ],
   "cell_type": "markdown",
   "metadata": {}
  },
  {
   "cell_type": "code",
   "execution_count": 35,
   "metadata": {},
   "outputs": [],
   "source": [
    "df_6 = df.drop(['p2', 'p3', 'p4', 'p5', 'p7', 'p8'], axis=1).dropna()"
   ]
  },
  {
   "cell_type": "code",
   "execution_count": 36,
   "metadata": {},
   "outputs": [],
   "source": [
    "man_dist.append(cityblock(df_6.p1.astype(float), df_6.p6.astype(float)))\n",
    "euc_dist.append(euclidean(df_6.p1.astype(float), df_6.p6.astype(float)))\n",
    "kow_dist.append(minkowski(df_6.p1.astype(float), df_6.p6.astype(float), p=4))"
   ]
  },
  {
   "source": [
    "## p1 to p7 ##"
   ],
   "cell_type": "markdown",
   "metadata": {}
  },
  {
   "cell_type": "code",
   "execution_count": 37,
   "metadata": {},
   "outputs": [],
   "source": [
    "df_7 = df.drop(['p2', 'p3', 'p4', 'p5', 'p6', 'p8'], axis=1).dropna()"
   ]
  },
  {
   "cell_type": "code",
   "execution_count": 38,
   "metadata": {},
   "outputs": [],
   "source": [
    "man_dist.append(cityblock(df_7.p1.astype(float), df_7.p7.astype(float)))\n",
    "euc_dist.append(euclidean(df_7.p1.astype(float), df_7.p7.astype(float)))\n",
    "kow_dist.append(minkowski(df_7.p1.astype(float), df_7.p7.astype(float), p=4))"
   ]
  },
  {
   "source": [
    "## p1 to p8 ##"
   ],
   "cell_type": "markdown",
   "metadata": {}
  },
  {
   "cell_type": "code",
   "execution_count": 39,
   "metadata": {},
   "outputs": [],
   "source": [
    "df_8 = df.drop(['p2', 'p3', 'p4', 'p5', 'p6', 'p7'], axis=1).dropna()"
   ]
  },
  {
   "cell_type": "code",
   "execution_count": 40,
   "metadata": {},
   "outputs": [],
   "source": [
    "man_dist.append(cityblock(df_8.p1.astype(float), df_8.p8.astype(float)))\n",
    "euc_dist.append(euclidean(df_8.p1.astype(float), df_8.p8.astype(float)))\n",
    "kow_dist.append(minkowski(df_8.p1.astype(float), df_8.p8.astype(float), p=4))"
   ]
  },
  {
   "source": [
    "## results ##"
   ],
   "cell_type": "markdown",
   "metadata": {}
  },
  {
   "cell_type": "code",
   "execution_count": 41,
   "metadata": {},
   "outputs": [
    {
     "output_type": "stream",
     "name": "stdout",
     "text": [
      "--------------------------------------------------------\n\t Manhattan \t Euclidean \t Minkowski (p=4)\n--------------------------------------------------------\np1-p2 \t 9.0 \t\t 4.3 \t\t 3.22\np1-p3 \t 4.5 \t\t 2.4 \t\t 1.83\np1-p4 \t 9.0 \t\t 4.42 \t\t 3.3\np1-p5 \t 5.0 \t\t 2.74 \t\t 2.17\np1-p6 \t 9.5 \t\t 4.66 \t\t 3.45\np1-p7 \t 8.0 \t\t 4.12 \t\t 3.06\np1-p8 \t 3.5 \t\t 1.66 \t\t 1.22\n--------------------------------------------------------\n"
     ]
    }
   ],
   "source": [
    "print('-'*56)\n",
    "print('\\t', 'Manhattan', '\\t', 'Euclidean', '\\t', 'Minkowski (p=4)')\n",
    "print('-'*56)\n",
    "for i in range(7):\n",
    "    print(f'p1-p{i+2}', '\\t', man_dist[i], '\\t\\t', round(euc_dist[i], 2), '\\t\\t', round(kow_dist[i], 2))\n",
    "print('-'*56)\n"
   ]
  },
  {
   "cell_type": "code",
   "execution_count": null,
   "metadata": {},
   "outputs": [],
   "source": []
  }
 ]
}