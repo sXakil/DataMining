{
 "metadata": {
  "language_info": {
   "codemirror_mode": {
    "name": "ipython",
    "version": 3
   },
   "file_extension": ".py",
   "mimetype": "text/x-python",
   "name": "python",
   "nbconvert_exporter": "python",
   "pygments_lexer": "ipython3",
   "version": "3.8.5-final"
  },
  "orig_nbformat": 2,
  "kernelspec": {
   "name": "python3",
   "display_name": "Python 3.8.5 64-bit (conda)",
   "metadata": {
    "interpreter": {
     "hash": "53f1e149a1ffab03cac076ef51f8b8bf410cae2381b5edb08da85a2f271077c7"
    }
   }
  }
 },
 "nbformat": 4,
 "nbformat_minor": 2,
 "cells": [
  {
   "cell_type": "code",
   "execution_count": 73,
   "metadata": {},
   "outputs": [],
   "source": [
    "import pandas as pd\n",
    "from scipy.spatial.distance import cityblock, euclidean, minkowski"
   ]
  },
  {
   "source": [
    "### read data ###"
   ],
   "cell_type": "markdown",
   "metadata": {}
  },
  {
   "cell_type": "code",
   "execution_count": 74,
   "metadata": {},
   "outputs": [],
   "source": [
    "dataframe = pd.read_csv('../data/dataset_review.csv')"
   ]
  },
  {
   "source": [
    "### replace empty values with NaN ###"
   ],
   "cell_type": "markdown",
   "metadata": {}
  },
  {
   "cell_type": "code",
   "execution_count": 75,
   "metadata": {},
   "outputs": [],
   "source": [
    "df = dataframe.replace('-', float('NaN'))"
   ]
  },
  {
   "cell_type": "code",
   "execution_count": 76,
   "metadata": {},
   "outputs": [],
   "source": [
    "man_dist = list()\n",
    "euc_dist = list()\n",
    "kow_dist = list()"
   ]
  },
  {
   "source": [
    "## distances ##"
   ],
   "cell_type": "markdown",
   "metadata": {}
  },
  {
   "cell_type": "code",
   "execution_count": null,
   "metadata": {},
   "outputs": [],
   "source": []
  },
  {
   "cell_type": "code",
   "execution_count": 77,
   "metadata": {},
   "outputs": [],
   "source": [
    "for col in df.columns[2:]:\n",
    "    cur = df[['p1', col]].dropna()\n",
    "    _from = [float(i) for i in cur['p1'].values]\n",
    "    _to = [float(i) for i in cur[col].values]\n",
    "    man_dist.append(cityblock(_from, _to))\n",
    "    euc_dist.append(euclidean(_from, _to))\n",
    "    kow_dist.append(minkowski(_from, _to, p=4))"
   ]
  },
  {
   "source": [
    "## results ##"
   ],
   "cell_type": "markdown",
   "metadata": {}
  },
  {
   "cell_type": "code",
   "execution_count": 78,
   "metadata": {},
   "outputs": [
    {
     "output_type": "stream",
     "name": "stdout",
     "text": [
      "--------------------------------------------------------\n\t Manhattan \t Euclidean \t Minkowski (p=4)\n--------------------------------------------------------\np1-p2 \t 9.0 \t\t 4.3 \t\t 3.22\np1-p3 \t 4.5 \t\t 2.4 \t\t 1.83\np1-p4 \t 9.0 \t\t 4.42 \t\t 3.3\np1-p5 \t 5.0 \t\t 2.74 \t\t 2.17\np1-p6 \t 9.5 \t\t 4.66 \t\t 3.45\np1-p7 \t 8.0 \t\t 4.12 \t\t 3.06\np1-p8 \t 3.5 \t\t 1.66 \t\t 1.22\n--------------------------------------------------------\n"
     ]
    }
   ],
   "source": [
    "print('-'*56)\n",
    "print('\\t', 'Manhattan', '\\t', 'Euclidean', '\\t', 'Minkowski (p=4)')\n",
    "print('-'*56)\n",
    "for i in range(7):\n",
    "    print(f'p1-p{i+2}', '\\t', man_dist[i], '\\t\\t', round(euc_dist[i], 2), '\\t\\t', round(kow_dist[i], 2))\n",
    "print('-'*56)\n"
   ]
  },
  {
   "cell_type": "code",
   "execution_count": null,
   "metadata": {},
   "outputs": [],
   "source": []
  }
 ]
}