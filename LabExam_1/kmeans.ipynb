{
 "metadata": {
  "language_info": {
   "codemirror_mode": {
    "name": "ipython",
    "version": 3
   },
   "file_extension": ".py",
   "mimetype": "text/x-python",
   "name": "python",
   "nbconvert_exporter": "python",
   "pygments_lexer": "ipython3",
   "version": "3.8.5"
  },
  "orig_nbformat": 2,
  "kernelspec": {
   "name": "python385jvsc74a57bd053f1e149a1ffab03cac076ef51f8b8bf410cae2381b5edb08da85a2f271077c7",
   "display_name": "Python 3.8.5 64-bit (conda)"
  }
 },
 "nbformat": 4,
 "nbformat_minor": 2,
 "cells": [
  {
   "cell_type": "code",
   "execution_count": 131,
   "metadata": {},
   "outputs": [],
   "source": [
    "x = [1, 1, 1, 2, 1, 2, 1, 2]\n",
    "y = [4, 2, 4, 1, 1, 4, 1, 1]\n",
    "z = [1, 2, 2, 2, 1, 2, 2, 1]\n",
    "SIZE = 8"
   ]
  },
  {
   "cell_type": "code",
   "execution_count": 132,
   "metadata": {},
   "outputs": [],
   "source": [
    "CI1 = 1\n",
    "CI2 = 6"
   ]
  },
  {
   "cell_type": "code",
   "execution_count": 133,
   "metadata": {},
   "outputs": [],
   "source": [
    "from scipy.spatial.distance import euclidean\n",
    "import pandas as pd\n",
    "import numpy as np"
   ]
  },
  {
   "cell_type": "code",
   "execution_count": 134,
   "metadata": {},
   "outputs": [
    {
     "output_type": "stream",
     "name": "stdout",
     "text": [
      "   x  y  z     C1     C2\n0  1  4  1  2.236  3.162\n1  1  2  2  0.000  1.000\n2  1  4  2  2.000  3.000\n3  2  1  2  1.414  1.000\n4  1  1  1  1.414  1.000\n5  2  4  2  2.236  3.162\n6  1  1  2  1.000  0.000\n7  2  1  1  1.732  1.414\n[0, 1, 2, 5]\n[3, 4, 6, 7]\n"
     ]
    }
   ],
   "source": [
    "C1 = []\n",
    "C2 = []\n",
    "distC1 = []\n",
    "distC2 = []\n",
    "for i in range(SIZE):\n",
    "    t1 = round(euclidean([ x[i], y[i], z[i] ], [ x[CI1], y[CI1], z[CI1] ]), 3)\n",
    "    distC1.append(t1)\n",
    "    t2 = round(euclidean([ x[i], y[i], z[i] ], [ x[CI2], y[CI2], z[CI2] ]), 3)\n",
    "    distC2.append(t2)\n",
    "    if t1 <= t2:\n",
    "        C1.append(i)\n",
    "    else:\n",
    "        C2.append(i)\n",
    "\n",
    "df = pd.DataFrame({'x':x, 'y':y, 'z': z, 'C1': distC1, 'C2':distC2})\n",
    "print(df)\n",
    "print(C1)\n",
    "print(C2)"
   ]
  },
  {
   "cell_type": "code",
   "execution_count": 135,
   "metadata": {},
   "outputs": [
    {
     "output_type": "stream",
     "name": "stdout",
     "text": [
      "1.25 3.5 1.75\n1.5 1.0 1.5\n"
     ]
    }
   ],
   "source": [
    "x1 = np.mean([x[i] for i in C1])\n",
    "y1 = np.mean([y[i] for i in C1])\n",
    "z1 = np.mean([z[i] for i in C1])\n",
    "x2 = np.mean([x[i] for i in C2])\n",
    "y2 = np.mean([y[i] for i in C2])\n",
    "z2 = np.mean([z[i] for i in C2])\n",
    "print(x1, y1, z1)\n",
    "print(x2, y2, z2)"
   ]
  },
  {
   "cell_type": "code",
   "execution_count": 136,
   "metadata": {},
   "outputs": [
    {
     "output_type": "stream",
     "name": "stdout",
     "text": [
      "   x  y  z     C1     C2\n0  1  4  1  0.935  3.082\n1  1  2  2  1.541  1.225\n2  1  4  2  0.612  3.082\n3  2  1  2  2.622  0.707\n4  1  1  1  2.622  0.707\n5  2  4  2  0.935  3.082\n6  1  1  2  2.525  0.707\n7  2  1  1  2.716  0.707\n[0, 2, 5]\n[1, 3, 4, 6, 7]\n"
     ]
    }
   ],
   "source": [
    "C1 = []\n",
    "C2 = []\n",
    "distC1 = []\n",
    "distC2 = []\n",
    "for i in range(SIZE):\n",
    "    t1 = round(euclidean([ x[i], y[i], z[i] ], [ x1, y1, z1 ]), 3)\n",
    "    distC1.append(t1)\n",
    "    t2 = round(euclidean([ x[i], y[i], z[i] ], [ x2, y2, z2 ]), 3)\n",
    "    distC2.append(t2)\n",
    "    if t1 <= t2:\n",
    "        C1.append(i)\n",
    "    else:\n",
    "        C2.append(i)\n",
    "\n",
    "df = pd.DataFrame({'x':x, 'y':y, 'z': z, 'C1': distC1, 'C2':distC2})\n",
    "print(df)\n",
    "print(C1)\n",
    "print(C2)"
   ]
  },
  {
   "cell_type": "code",
   "execution_count": 137,
   "metadata": {},
   "outputs": [
    {
     "output_type": "stream",
     "name": "stdout",
     "text": [
      "1.3333333333333333 4.0 1.6666666666666667\n1.4 1.2 1.6\n   x  y  z     C1     C2\n0  1  4  1  0.745  2.891\n1  1  2  2  2.055  0.980\n2  1  4  2  0.471  2.857\n3  2  1  2  3.091  0.748\n4  1  1  1  3.091  0.748\n5  2  4  2  0.745  2.891\n6  1  1  2  3.037  0.600\n7  2  1  1  3.145  0.872\n[0, 2, 5]\n[1, 3, 4, 6, 7]\n"
     ]
    }
   ],
   "source": [
    "x1 = np.mean([x[i] for i in C1])\n",
    "y1 = np.mean([y[i] for i in C1])\n",
    "z1 = np.mean([z[i] for i in C1])\n",
    "x2 = np.mean([x[i] for i in C2])\n",
    "y2 = np.mean([y[i] for i in C2])\n",
    "z2 = np.mean([z[i] for i in C2])\n",
    "print(x1, y1, z1)\n",
    "print(x2, y2, z2)\n",
    "C1 = []\n",
    "C2 = []\n",
    "distC1 = []\n",
    "distC2 = []\n",
    "for i in range(SIZE):\n",
    "    t1 = round(euclidean([ x[i], y[i], z[i] ], [ x1, y1, z1 ]), 3)\n",
    "    distC1.append(t1)\n",
    "    t2 = round(euclidean([ x[i], y[i], z[i] ], [ x2, y2, z2 ]), 3)\n",
    "    distC2.append(t2)\n",
    "    if t1 <= t2:\n",
    "        C1.append(i)\n",
    "    else:\n",
    "        C2.append(i)\n",
    "\n",
    "df = pd.DataFrame({'x':x, 'y':y, 'z': z, 'C1': distC1, 'C2':distC2})\n",
    "print(df)\n",
    "print(C1)\n",
    "print(C2)"
   ]
  },
  {
   "cell_type": "code",
   "execution_count": null,
   "metadata": {},
   "outputs": [],
   "source": []
  }
 ]
}