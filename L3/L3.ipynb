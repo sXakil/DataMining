{
 "cells": [
  {
   "cell_type": "code",
   "execution_count": 1,
   "metadata": {},
   "outputs": [
    {
     "output_type": "error",
     "ename": "ModuleNotFoundError",
     "evalue": "No module named 'pandas'",
     "traceback": [
      "\u001b[1;31m---------------------------------------------------------------------------\u001b[0m",
      "\u001b[1;31mModuleNotFoundError\u001b[0m                       Traceback (most recent call last)",
      "\u001b[1;32m<ipython-input-1-7dd3504c366f>\u001b[0m in \u001b[0;36m<module>\u001b[1;34m\u001b[0m\n\u001b[1;32m----> 1\u001b[1;33m \u001b[1;32mimport\u001b[0m \u001b[0mpandas\u001b[0m \u001b[1;32mas\u001b[0m \u001b[0mpd\u001b[0m\u001b[1;33m\u001b[0m\u001b[1;33m\u001b[0m\u001b[0m\n\u001b[0m",
      "\u001b[1;31mModuleNotFoundError\u001b[0m: No module named 'pandas'"
     ]
    }
   ],
   "source": [
    "import pandas as pd"
   ]
  },
  {
   "cell_type": "code",
   "execution_count": 2,
   "metadata": {},
   "outputs": [],
   "source": [
    "df = pd.read_csv(\"temfile.csv\")"
   ]
  },
  {
   "cell_type": "code",
   "execution_count": 3,
   "metadata": {},
   "outputs": [
    {
     "output_type": "execute_result",
     "data": {
      "text/plain": [
       "       City country_id      Country Latitude Longitude\n",
       "0  Auckland        NEW  New Zealand   36.17S   175.03E\n",
       "1  Auckland        NEW  New Zealand   36.17S   175.03E\n",
       "2  Auckland        NEW  New Zealand   36.17S   175.03E\n",
       "3  Auckland        NEW  New Zealand   36.17S   175.03E\n",
       "4  Auckland        NEW  New Zealand   36.17S   175.03E"
      ],
      "text/html": "<div>\n<style scoped>\n    .dataframe tbody tr th:only-of-type {\n        vertical-align: middle;\n    }\n\n    .dataframe tbody tr th {\n        vertical-align: top;\n    }\n\n    .dataframe thead th {\n        text-align: right;\n    }\n</style>\n<table border=\"1\" class=\"dataframe\">\n  <thead>\n    <tr style=\"text-align: right;\">\n      <th></th>\n      <th>City</th>\n      <th>country_id</th>\n      <th>Country</th>\n      <th>Latitude</th>\n      <th>Longitude</th>\n    </tr>\n  </thead>\n  <tbody>\n    <tr>\n      <th>0</th>\n      <td>Auckland</td>\n      <td>NEW</td>\n      <td>New Zealand</td>\n      <td>36.17S</td>\n      <td>175.03E</td>\n    </tr>\n    <tr>\n      <th>1</th>\n      <td>Auckland</td>\n      <td>NEW</td>\n      <td>New Zealand</td>\n      <td>36.17S</td>\n      <td>175.03E</td>\n    </tr>\n    <tr>\n      <th>2</th>\n      <td>Auckland</td>\n      <td>NEW</td>\n      <td>New Zealand</td>\n      <td>36.17S</td>\n      <td>175.03E</td>\n    </tr>\n    <tr>\n      <th>3</th>\n      <td>Auckland</td>\n      <td>NEW</td>\n      <td>New Zealand</td>\n      <td>36.17S</td>\n      <td>175.03E</td>\n    </tr>\n    <tr>\n      <th>4</th>\n      <td>Auckland</td>\n      <td>NEW</td>\n      <td>New Zealand</td>\n      <td>36.17S</td>\n      <td>175.03E</td>\n    </tr>\n  </tbody>\n</table>\n</div>"
     },
     "metadata": {},
     "execution_count": 3
    }
   ],
   "source": [
    "df.head()"
   ]
  },
  {
   "source": [
    "# Label Encoder"
   ],
   "cell_type": "markdown",
   "metadata": {}
  },
  {
   "cell_type": "code",
   "execution_count": 4,
   "metadata": {},
   "outputs": [],
   "source": [
    "from sklearn.preprocessing import LabelEncoder"
   ]
  },
  {
   "cell_type": "code",
   "execution_count": 5,
   "metadata": {},
   "outputs": [],
   "source": [
    "labelencoder = LabelEncoder()"
   ]
  },
  {
   "cell_type": "code",
   "execution_count": 6,
   "metadata": {},
   "outputs": [],
   "source": [
    "df[\"City\"] = labelencoder.fit_transform(df[\"City\"].astype(str))"
   ]
  },
  {
   "cell_type": "code",
   "execution_count": 7,
   "metadata": {},
   "outputs": [
    {
     "output_type": "stream",
     "name": "stdout",
     "text": [
      "       City country_id      Country Latitude Longitude\n0         0        NEW  New Zealand   36.17S   175.03E\n1         0        NEW  New Zealand   36.17S   175.03E\n2         0        NEW  New Zealand   36.17S   175.03E\n3         0        NEW  New Zealand   36.17S   175.03E\n4         0        NEW  New Zealand   36.17S   175.03E\n...     ...        ...          ...      ...       ...\n48465    17        POL       Poland   50.63N    16.48E\n48466    17        POL       Poland   50.63N    16.48E\n48467    17        POL       Poland   50.63N    16.48E\n48468    17        POL       Poland   50.63N    16.48E\n48469    17        POL       Poland   50.63N    16.48E\n\n[48470 rows x 5 columns]\n"
     ]
    }
   ],
   "source": [
    "print(df)"
   ]
  },
  {
   "cell_type": "code",
   "execution_count": 8,
   "metadata": {},
   "outputs": [
    {
     "output_type": "execute_result",
     "data": {
      "text/plain": [
       "      City country_id      Country Latitude Longitude\n",
       "0        0        NEW  New Zealand   36.17S   175.03E\n",
       "1        0        NEW  New Zealand   36.17S   175.03E\n",
       "2        0        NEW  New Zealand   36.17S   175.03E\n",
       "3        0        NEW  New Zealand   36.17S   175.03E\n",
       "4        0        NEW  New Zealand   36.17S   175.03E\n",
       "...    ...        ...          ...      ...       ...\n",
       "1995     1        BRA       Brazil   15.27S    47.50W\n",
       "1996     1        BRA       Brazil   15.27S    47.50W\n",
       "1997     1        BRA       Brazil   15.27S    47.50W\n",
       "1998     1        BRA       Brazil   15.27S    47.50W\n",
       "1999     1        BRA       Brazil   15.27S    47.50W\n",
       "\n",
       "[2000 rows x 5 columns]"
      ],
      "text/html": "<div>\n<style scoped>\n    .dataframe tbody tr th:only-of-type {\n        vertical-align: middle;\n    }\n\n    .dataframe tbody tr th {\n        vertical-align: top;\n    }\n\n    .dataframe thead th {\n        text-align: right;\n    }\n</style>\n<table border=\"1\" class=\"dataframe\">\n  <thead>\n    <tr style=\"text-align: right;\">\n      <th></th>\n      <th>City</th>\n      <th>country_id</th>\n      <th>Country</th>\n      <th>Latitude</th>\n      <th>Longitude</th>\n    </tr>\n  </thead>\n  <tbody>\n    <tr>\n      <th>0</th>\n      <td>0</td>\n      <td>NEW</td>\n      <td>New Zealand</td>\n      <td>36.17S</td>\n      <td>175.03E</td>\n    </tr>\n    <tr>\n      <th>1</th>\n      <td>0</td>\n      <td>NEW</td>\n      <td>New Zealand</td>\n      <td>36.17S</td>\n      <td>175.03E</td>\n    </tr>\n    <tr>\n      <th>2</th>\n      <td>0</td>\n      <td>NEW</td>\n      <td>New Zealand</td>\n      <td>36.17S</td>\n      <td>175.03E</td>\n    </tr>\n    <tr>\n      <th>3</th>\n      <td>0</td>\n      <td>NEW</td>\n      <td>New Zealand</td>\n      <td>36.17S</td>\n      <td>175.03E</td>\n    </tr>\n    <tr>\n      <th>4</th>\n      <td>0</td>\n      <td>NEW</td>\n      <td>New Zealand</td>\n      <td>36.17S</td>\n      <td>175.03E</td>\n    </tr>\n    <tr>\n      <th>...</th>\n      <td>...</td>\n      <td>...</td>\n      <td>...</td>\n      <td>...</td>\n      <td>...</td>\n    </tr>\n    <tr>\n      <th>1995</th>\n      <td>1</td>\n      <td>BRA</td>\n      <td>Brazil</td>\n      <td>15.27S</td>\n      <td>47.50W</td>\n    </tr>\n    <tr>\n      <th>1996</th>\n      <td>1</td>\n      <td>BRA</td>\n      <td>Brazil</td>\n      <td>15.27S</td>\n      <td>47.50W</td>\n    </tr>\n    <tr>\n      <th>1997</th>\n      <td>1</td>\n      <td>BRA</td>\n      <td>Brazil</td>\n      <td>15.27S</td>\n      <td>47.50W</td>\n    </tr>\n    <tr>\n      <th>1998</th>\n      <td>1</td>\n      <td>BRA</td>\n      <td>Brazil</td>\n      <td>15.27S</td>\n      <td>47.50W</td>\n    </tr>\n    <tr>\n      <th>1999</th>\n      <td>1</td>\n      <td>BRA</td>\n      <td>Brazil</td>\n      <td>15.27S</td>\n      <td>47.50W</td>\n    </tr>\n  </tbody>\n</table>\n<p>2000 rows × 5 columns</p>\n</div>"
     },
     "metadata": {},
     "execution_count": 8
    }
   ],
   "source": [
    "df.head(2000)"
   ]
  },
  {
   "source": [
    "# OneHot Encoder"
   ],
   "cell_type": "markdown",
   "metadata": {}
  },
  {
   "cell_type": "code",
   "execution_count": 9,
   "metadata": {},
   "outputs": [],
   "source": [
    "df = pd.read_csv(\"temfile.csv\")"
   ]
  },
  {
   "cell_type": "code",
   "execution_count": 10,
   "metadata": {},
   "outputs": [],
   "source": [
    "from sklearn.preprocessing import OneHotEncoder"
   ]
  },
  {
   "cell_type": "code",
   "execution_count": 11,
   "metadata": {},
   "outputs": [],
   "source": [
    "onehot = OneHotEncoder()"
   ]
  },
  {
   "cell_type": "code",
   "execution_count": 12,
   "metadata": {},
   "outputs": [],
   "source": [
    "df.dropna(inplace=True)"
   ]
  },
  {
   "cell_type": "code",
   "execution_count": 13,
   "metadata": {},
   "outputs": [
    {
     "output_type": "execute_result",
     "data": {
      "text/plain": [
       "          City country_id Country Latitude Longitude\n",
       "48465  Wroclaw        POL  Poland   50.63N    16.48E\n",
       "48466  Wroclaw        POL  Poland   50.63N    16.48E\n",
       "48467  Wroclaw        POL  Poland   50.63N    16.48E\n",
       "48468  Wroclaw        POL  Poland   50.63N    16.48E\n",
       "48469  Wroclaw        POL  Poland   50.63N    16.48E"
      ],
      "text/html": "<div>\n<style scoped>\n    .dataframe tbody tr th:only-of-type {\n        vertical-align: middle;\n    }\n\n    .dataframe tbody tr th {\n        vertical-align: top;\n    }\n\n    .dataframe thead th {\n        text-align: right;\n    }\n</style>\n<table border=\"1\" class=\"dataframe\">\n  <thead>\n    <tr style=\"text-align: right;\">\n      <th></th>\n      <th>City</th>\n      <th>country_id</th>\n      <th>Country</th>\n      <th>Latitude</th>\n      <th>Longitude</th>\n    </tr>\n  </thead>\n  <tbody>\n    <tr>\n      <th>48465</th>\n      <td>Wroclaw</td>\n      <td>POL</td>\n      <td>Poland</td>\n      <td>50.63N</td>\n      <td>16.48E</td>\n    </tr>\n    <tr>\n      <th>48466</th>\n      <td>Wroclaw</td>\n      <td>POL</td>\n      <td>Poland</td>\n      <td>50.63N</td>\n      <td>16.48E</td>\n    </tr>\n    <tr>\n      <th>48467</th>\n      <td>Wroclaw</td>\n      <td>POL</td>\n      <td>Poland</td>\n      <td>50.63N</td>\n      <td>16.48E</td>\n    </tr>\n    <tr>\n      <th>48468</th>\n      <td>Wroclaw</td>\n      <td>POL</td>\n      <td>Poland</td>\n      <td>50.63N</td>\n      <td>16.48E</td>\n    </tr>\n    <tr>\n      <th>48469</th>\n      <td>Wroclaw</td>\n      <td>POL</td>\n      <td>Poland</td>\n      <td>50.63N</td>\n      <td>16.48E</td>\n    </tr>\n  </tbody>\n</table>\n</div>"
     },
     "metadata": {},
     "execution_count": 13
    }
   ],
   "source": [
    "df"
   ]
  },
  {
   "cell_type": "code",
   "execution_count": 14,
   "metadata": {},
   "outputs": [],
   "source": [
    "result = onehot.fit_transform(df[['City']])"
   ]
  },
  {
   "cell_type": "code",
   "execution_count": 15,
   "metadata": {},
   "outputs": [],
   "source": [
    "oc = pd.DataFrame(result.toarray(), columns = onehot.categories_)"
   ]
  },
  {
   "cell_type": "code",
   "execution_count": 16,
   "metadata": {},
   "outputs": [],
   "source": [
    "df = df.join(oc)"
   ]
  },
  {
   "cell_type": "code",
   "execution_count": 17,
   "metadata": {},
   "outputs": [
    {
     "output_type": "execute_result",
     "data": {
      "text/plain": [
       "           City country_id      Country Latitude Longitude  (Auckland,)  \\\n",
       "0      Auckland        NEW  New Zealand   36.17S   175.03E          1.0   \n",
       "1      Auckland        NEW  New Zealand   36.17S   175.03E          1.0   \n",
       "2      Auckland        NEW  New Zealand   36.17S   175.03E          1.0   \n",
       "3      Auckland        NEW  New Zealand   36.17S   175.03E          1.0   \n",
       "4      Auckland        NEW  New Zealand   36.17S   175.03E          1.0   \n",
       "...         ...        ...          ...      ...       ...          ...   \n",
       "47981   Wroclaw        POL       Poland   50.63N    16.48E          0.0   \n",
       "47982   Wroclaw        POL       Poland   50.63N    16.48E          0.0   \n",
       "47983   Wroclaw        POL       Poland   50.63N    16.48E          0.0   \n",
       "47984   Wroclaw        POL       Poland   50.63N    16.48E          0.0   \n",
       "47985   Wroclaw        POL       Poland   50.63N    16.48E          0.0   \n",
       "\n",
       "       (Brasília,)  (Canoas,)  (Cape Town,)  (Hamilton,)  ...  (Lvov,)  \\\n",
       "0              0.0        0.0           0.0          0.0  ...      0.0   \n",
       "1              0.0        0.0           0.0          0.0  ...      0.0   \n",
       "2              0.0        0.0           0.0          0.0  ...      0.0   \n",
       "3              0.0        0.0           0.0          0.0  ...      0.0   \n",
       "4              0.0        0.0           0.0          0.0  ...      0.0   \n",
       "...            ...        ...           ...          ...  ...      ...   \n",
       "47981          0.0        0.0           0.0          0.0  ...      0.0   \n",
       "47982          0.0        0.0           0.0          0.0  ...      0.0   \n",
       "47983          0.0        0.0           0.0          0.0  ...      0.0   \n",
       "47984          0.0        0.0           0.0          0.0  ...      0.0   \n",
       "47985          0.0        0.0           0.0          0.0  ...      0.0   \n",
       "\n",
       "       (Marseille,)  (Odesa,)  (Paris,)  (Stockholm,)  (Tokyo,)  (Tottori,)  \\\n",
       "0               0.0       0.0       0.0           0.0       0.0         0.0   \n",
       "1               0.0       0.0       0.0           0.0       0.0         0.0   \n",
       "2               0.0       0.0       0.0           0.0       0.0         0.0   \n",
       "3               0.0       0.0       0.0           0.0       0.0         0.0   \n",
       "4               0.0       0.0       0.0           0.0       0.0         0.0   \n",
       "...             ...       ...       ...           ...       ...         ...   \n",
       "47981           0.0       0.0       0.0           0.0       0.0         0.0   \n",
       "47982           0.0       0.0       0.0           0.0       0.0         0.0   \n",
       "47983           0.0       0.0       0.0           0.0       0.0         0.0   \n",
       "47984           0.0       0.0       0.0           0.0       0.0         0.0   \n",
       "47985           0.0       0.0       0.0           0.0       0.0         0.0   \n",
       "\n",
       "       (Uppsala,)  (Warsaw,)  (Wroclaw,)  \n",
       "0             0.0        0.0         0.0  \n",
       "1             0.0        0.0         0.0  \n",
       "2             0.0        0.0         0.0  \n",
       "3             0.0        0.0         0.0  \n",
       "4             0.0        0.0         0.0  \n",
       "...           ...        ...         ...  \n",
       "47981         0.0        0.0         1.0  \n",
       "47982         0.0        0.0         1.0  \n",
       "47983         0.0        0.0         1.0  \n",
       "47984         0.0        0.0         1.0  \n",
       "47985         0.0        0.0         1.0  \n",
       "\n",
       "[47507 rows x 23 columns]"
      ],
      "text/html": "<div>\n<style scoped>\n    .dataframe tbody tr th:only-of-type {\n        vertical-align: middle;\n    }\n\n    .dataframe tbody tr th {\n        vertical-align: top;\n    }\n\n    .dataframe thead th {\n        text-align: right;\n    }\n</style>\n<table border=\"1\" class=\"dataframe\">\n  <thead>\n    <tr style=\"text-align: right;\">\n      <th></th>\n      <th>City</th>\n      <th>country_id</th>\n      <th>Country</th>\n      <th>Latitude</th>\n      <th>Longitude</th>\n      <th>(Auckland,)</th>\n      <th>(Brasília,)</th>\n      <th>(Canoas,)</th>\n      <th>(Cape Town,)</th>\n      <th>(Hamilton,)</th>\n      <th>...</th>\n      <th>(Lvov,)</th>\n      <th>(Marseille,)</th>\n      <th>(Odesa,)</th>\n      <th>(Paris,)</th>\n      <th>(Stockholm,)</th>\n      <th>(Tokyo,)</th>\n      <th>(Tottori,)</th>\n      <th>(Uppsala,)</th>\n      <th>(Warsaw,)</th>\n      <th>(Wroclaw,)</th>\n    </tr>\n  </thead>\n  <tbody>\n    <tr>\n      <th>0</th>\n      <td>Auckland</td>\n      <td>NEW</td>\n      <td>New Zealand</td>\n      <td>36.17S</td>\n      <td>175.03E</td>\n      <td>1.0</td>\n      <td>0.0</td>\n      <td>0.0</td>\n      <td>0.0</td>\n      <td>0.0</td>\n      <td>...</td>\n      <td>0.0</td>\n      <td>0.0</td>\n      <td>0.0</td>\n      <td>0.0</td>\n      <td>0.0</td>\n      <td>0.0</td>\n      <td>0.0</td>\n      <td>0.0</td>\n      <td>0.0</td>\n      <td>0.0</td>\n    </tr>\n    <tr>\n      <th>1</th>\n      <td>Auckland</td>\n      <td>NEW</td>\n      <td>New Zealand</td>\n      <td>36.17S</td>\n      <td>175.03E</td>\n      <td>1.0</td>\n      <td>0.0</td>\n      <td>0.0</td>\n      <td>0.0</td>\n      <td>0.0</td>\n      <td>...</td>\n      <td>0.0</td>\n      <td>0.0</td>\n      <td>0.0</td>\n      <td>0.0</td>\n      <td>0.0</td>\n      <td>0.0</td>\n      <td>0.0</td>\n      <td>0.0</td>\n      <td>0.0</td>\n      <td>0.0</td>\n    </tr>\n    <tr>\n      <th>2</th>\n      <td>Auckland</td>\n      <td>NEW</td>\n      <td>New Zealand</td>\n      <td>36.17S</td>\n      <td>175.03E</td>\n      <td>1.0</td>\n      <td>0.0</td>\n      <td>0.0</td>\n      <td>0.0</td>\n      <td>0.0</td>\n      <td>...</td>\n      <td>0.0</td>\n      <td>0.0</td>\n      <td>0.0</td>\n      <td>0.0</td>\n      <td>0.0</td>\n      <td>0.0</td>\n      <td>0.0</td>\n      <td>0.0</td>\n      <td>0.0</td>\n      <td>0.0</td>\n    </tr>\n    <tr>\n      <th>3</th>\n      <td>Auckland</td>\n      <td>NEW</td>\n      <td>New Zealand</td>\n      <td>36.17S</td>\n      <td>175.03E</td>\n      <td>1.0</td>\n      <td>0.0</td>\n      <td>0.0</td>\n      <td>0.0</td>\n      <td>0.0</td>\n      <td>...</td>\n      <td>0.0</td>\n      <td>0.0</td>\n      <td>0.0</td>\n      <td>0.0</td>\n      <td>0.0</td>\n      <td>0.0</td>\n      <td>0.0</td>\n      <td>0.0</td>\n      <td>0.0</td>\n      <td>0.0</td>\n    </tr>\n    <tr>\n      <th>4</th>\n      <td>Auckland</td>\n      <td>NEW</td>\n      <td>New Zealand</td>\n      <td>36.17S</td>\n      <td>175.03E</td>\n      <td>1.0</td>\n      <td>0.0</td>\n      <td>0.0</td>\n      <td>0.0</td>\n      <td>0.0</td>\n      <td>...</td>\n      <td>0.0</td>\n      <td>0.0</td>\n      <td>0.0</td>\n      <td>0.0</td>\n      <td>0.0</td>\n      <td>0.0</td>\n      <td>0.0</td>\n      <td>0.0</td>\n      <td>0.0</td>\n      <td>0.0</td>\n    </tr>\n    <tr>\n      <th>...</th>\n      <td>...</td>\n      <td>...</td>\n      <td>...</td>\n      <td>...</td>\n      <td>...</td>\n      <td>...</td>\n      <td>...</td>\n      <td>...</td>\n      <td>...</td>\n      <td>...</td>\n      <td>...</td>\n      <td>...</td>\n      <td>...</td>\n      <td>...</td>\n      <td>...</td>\n      <td>...</td>\n      <td>...</td>\n      <td>...</td>\n      <td>...</td>\n      <td>...</td>\n      <td>...</td>\n    </tr>\n    <tr>\n      <th>47981</th>\n      <td>Wroclaw</td>\n      <td>POL</td>\n      <td>Poland</td>\n      <td>50.63N</td>\n      <td>16.48E</td>\n      <td>0.0</td>\n      <td>0.0</td>\n      <td>0.0</td>\n      <td>0.0</td>\n      <td>0.0</td>\n      <td>...</td>\n      <td>0.0</td>\n      <td>0.0</td>\n      <td>0.0</td>\n      <td>0.0</td>\n      <td>0.0</td>\n      <td>0.0</td>\n      <td>0.0</td>\n      <td>0.0</td>\n      <td>0.0</td>\n      <td>1.0</td>\n    </tr>\n    <tr>\n      <th>47982</th>\n      <td>Wroclaw</td>\n      <td>POL</td>\n      <td>Poland</td>\n      <td>50.63N</td>\n      <td>16.48E</td>\n      <td>0.0</td>\n      <td>0.0</td>\n      <td>0.0</td>\n      <td>0.0</td>\n      <td>0.0</td>\n      <td>...</td>\n      <td>0.0</td>\n      <td>0.0</td>\n      <td>0.0</td>\n      <td>0.0</td>\n      <td>0.0</td>\n      <td>0.0</td>\n      <td>0.0</td>\n      <td>0.0</td>\n      <td>0.0</td>\n      <td>1.0</td>\n    </tr>\n    <tr>\n      <th>47983</th>\n      <td>Wroclaw</td>\n      <td>POL</td>\n      <td>Poland</td>\n      <td>50.63N</td>\n      <td>16.48E</td>\n      <td>0.0</td>\n      <td>0.0</td>\n      <td>0.0</td>\n      <td>0.0</td>\n      <td>0.0</td>\n      <td>...</td>\n      <td>0.0</td>\n      <td>0.0</td>\n      <td>0.0</td>\n      <td>0.0</td>\n      <td>0.0</td>\n      <td>0.0</td>\n      <td>0.0</td>\n      <td>0.0</td>\n      <td>0.0</td>\n      <td>1.0</td>\n    </tr>\n    <tr>\n      <th>47984</th>\n      <td>Wroclaw</td>\n      <td>POL</td>\n      <td>Poland</td>\n      <td>50.63N</td>\n      <td>16.48E</td>\n      <td>0.0</td>\n      <td>0.0</td>\n      <td>0.0</td>\n      <td>0.0</td>\n      <td>0.0</td>\n      <td>...</td>\n      <td>0.0</td>\n      <td>0.0</td>\n      <td>0.0</td>\n      <td>0.0</td>\n      <td>0.0</td>\n      <td>0.0</td>\n      <td>0.0</td>\n      <td>0.0</td>\n      <td>0.0</td>\n      <td>1.0</td>\n    </tr>\n    <tr>\n      <th>47985</th>\n      <td>Wroclaw</td>\n      <td>POL</td>\n      <td>Poland</td>\n      <td>50.63N</td>\n      <td>16.48E</td>\n      <td>0.0</td>\n      <td>0.0</td>\n      <td>0.0</td>\n      <td>0.0</td>\n      <td>0.0</td>\n      <td>...</td>\n      <td>0.0</td>\n      <td>0.0</td>\n      <td>0.0</td>\n      <td>0.0</td>\n      <td>0.0</td>\n      <td>0.0</td>\n      <td>0.0</td>\n      <td>0.0</td>\n      <td>0.0</td>\n      <td>1.0</td>\n    </tr>\n  </tbody>\n</table>\n<p>47507 rows × 23 columns</p>\n</div>"
     },
     "metadata": {},
     "execution_count": 17
    }
   ],
   "source": [
    "df.dropna()"
   ]
  },
  {
   "cell_type": "code",
   "execution_count": 18,
   "metadata": {},
   "outputs": [],
   "source": [
    "dataset = [['milk', 'eggs', 'bread'],\n",
    "           ['milk', 'bread'],\n",
    "           ['eggs', 'sugar'],\n",
    "           ['coffee', 'sugar'],\n",
    "           ['onion', 'coffee', 'carrot', 'icecream']]"
   ]
  },
  {
   "source": [
    "# Transaction Encoder"
   ],
   "cell_type": "markdown",
   "metadata": {}
  },
  {
   "cell_type": "code",
   "execution_count": 19,
   "metadata": {},
   "outputs": [
    {
     "output_type": "stream",
     "name": "stdout",
     "text": [
      "Requirement already satisfied: mlxtend in c:\\users\\hi\\anaconda3\\lib\\site-packages (0.18.0)\n",
      "Requirement already satisfied: scikit-learn>=0.20.3 in c:\\users\\hi\\anaconda3\\lib\\site-packages (from mlxtend) (0.23.2)\n",
      "Requirement already satisfied: joblib>=0.13.2 in c:\\users\\hi\\anaconda3\\lib\\site-packages (from mlxtend) (0.17.0)\n",
      "Requirement already satisfied: numpy>=1.16.2 in c:\\users\\hi\\anaconda3\\lib\\site-packages (from mlxtend) (1.19.2)\n",
      "Requirement already satisfied: matplotlib>=3.0.0 in c:\\users\\hi\\anaconda3\\lib\\site-packages (from mlxtend) (3.3.2)\n",
      "Requirement already satisfied: setuptools in c:\\users\\hi\\anaconda3\\lib\\site-packages (from mlxtend) (50.3.1.post20201107)\n",
      "Requirement already satisfied: scipy>=1.2.1 in c:\\users\\hi\\anaconda3\\lib\\site-packages (from mlxtend) (1.5.2)\n",
      "Requirement already satisfied: pandas>=0.24.2 in c:\\users\\hi\\anaconda3\\lib\\site-packages (from mlxtend) (1.1.3)\n",
      "Requirement already satisfied: threadpoolctl>=2.0.0 in c:\\users\\hi\\anaconda3\\lib\\site-packages (from scikit-learn>=0.20.3->mlxtend) (2.1.0)\n",
      "Requirement already satisfied: certifi>=2020.06.20 in c:\\users\\hi\\anaconda3\\lib\\site-packages (from matplotlib>=3.0.0->mlxtend) (2020.6.20)\n",
      "Requirement already satisfied: kiwisolver>=1.0.1 in c:\\users\\hi\\anaconda3\\lib\\site-packages (from matplotlib>=3.0.0->mlxtend) (1.3.0)\n",
      "Requirement already satisfied: cycler>=0.10 in c:\\users\\hi\\anaconda3\\lib\\site-packages (from matplotlib>=3.0.0->mlxtend) (0.10.0)\n",
      "Requirement already satisfied: pyparsing!=2.0.4,!=2.1.2,!=2.1.6,>=2.0.3 in c:\\users\\hi\\anaconda3\\lib\\site-packages (from matplotlib>=3.0.0->mlxtend) (2.4.7)\n",
      "Requirement already satisfied: python-dateutil>=2.1 in c:\\users\\hi\\anaconda3\\lib\\site-packages (from matplotlib>=3.0.0->mlxtend) (2.8.1)\n",
      "Requirement already satisfied: pillow>=6.2.0 in c:\\users\\hi\\anaconda3\\lib\\site-packages (from matplotlib>=3.0.0->mlxtend) (8.0.1)\n",
      "Requirement already satisfied: pytz>=2017.2 in c:\\users\\hi\\anaconda3\\lib\\site-packages (from pandas>=0.24.2->mlxtend) (2020.1)\n",
      "Requirement already satisfied: six in c:\\users\\hi\\appdata\\roaming\\python\\python38\\site-packages (from cycler>=0.10->matplotlib>=3.0.0->mlxtend) (1.14.0)\n"
     ]
    }
   ],
   "source": [
    "!pip install mlxtend"
   ]
  },
  {
   "cell_type": "code",
   "execution_count": 20,
   "metadata": {},
   "outputs": [],
   "source": [
    "from mlxtend.preprocessing import TransactionEncoder"
   ]
  },
  {
   "cell_type": "code",
   "execution_count": 21,
   "metadata": {},
   "outputs": [],
   "source": [
    "enc = TransactionEncoder().fit(dataset)"
   ]
  },
  {
   "cell_type": "code",
   "execution_count": 22,
   "metadata": {},
   "outputs": [],
   "source": [
    "trans_tranformed = enc.transform(dataset)"
   ]
  },
  {
   "cell_type": "code",
   "execution_count": 23,
   "metadata": {},
   "outputs": [],
   "source": [
    "trans = pd.DataFrame(trans_tranformed, columns = enc.columns_)"
   ]
  },
  {
   "cell_type": "code",
   "execution_count": 24,
   "metadata": {},
   "outputs": [
    {
     "output_type": "stream",
     "name": "stdout",
     "text": [
      "   bread  carrot  coffee   eggs  icecream   milk  onion  sugar\n0   True   False   False   True     False   True  False  False\n1   True   False   False  False     False   True  False  False\n2  False   False   False   True     False  False  False   True\n3  False   False    True  False     False  False  False   True\n4  False    True    True  False      True  False   True  False\n"
     ]
    }
   ],
   "source": [
    "print(trans)"
   ]
  },
  {
   "source": [
    "# Jaccard Distance"
   ],
   "cell_type": "markdown",
   "metadata": {}
  },
  {
   "cell_type": "code",
   "execution_count": 25,
   "metadata": {},
   "outputs": [],
   "source": [
    "from scipy.spatial.distance import cdist"
   ]
  },
  {
   "cell_type": "code",
   "execution_count": 26,
   "metadata": {},
   "outputs": [],
   "source": [
    "jaccard = cdist(trans, trans, metric = 'jaccard')"
   ]
  },
  {
   "cell_type": "code",
   "execution_count": 27,
   "metadata": {},
   "outputs": [],
   "source": [
    "jaccard_dist = pd.DataFrame(jaccard, columns = trans.index.values, index = trans.index.values)"
   ]
  },
  {
   "cell_type": "code",
   "execution_count": 28,
   "metadata": {},
   "outputs": [
    {
     "output_type": "stream",
     "name": "stdout",
     "text": [
      "          0         1         2         3    4\n0  0.000000  0.333333  0.750000  1.000000  1.0\n1  0.333333  0.000000  1.000000  1.000000  1.0\n2  0.750000  1.000000  0.000000  0.666667  1.0\n3  1.000000  1.000000  0.666667  0.000000  0.8\n4  1.000000  1.000000  1.000000  0.800000  0.0\n"
     ]
    }
   ],
   "source": [
    "print(jaccard_dist)"
   ]
  },
  {
   "source": [
    "# Elemenating the Duplicates"
   ],
   "cell_type": "markdown",
   "metadata": {}
  },
  {
   "cell_type": "code",
   "execution_count": 29,
   "metadata": {},
   "outputs": [],
   "source": [
    "df = pd.read_csv('temfile.csv')"
   ]
  },
  {
   "cell_type": "code",
   "execution_count": 30,
   "metadata": {},
   "outputs": [],
   "source": [
    "df.dropna(inplace=True)"
   ]
  },
  {
   "cell_type": "code",
   "execution_count": 31,
   "metadata": {},
   "outputs": [],
   "source": [
    "df.drop_duplicates(inplace=True)"
   ]
  },
  {
   "source": [
    "# Label Encoding"
   ],
   "cell_type": "markdown",
   "metadata": {}
  },
  {
   "cell_type": "code",
   "execution_count": 32,
   "metadata": {},
   "outputs": [],
   "source": [
    "df.City = labelencoder.fit_transform(df.City.astype(str))"
   ]
  },
  {
   "cell_type": "code",
   "execution_count": 33,
   "metadata": {},
   "outputs": [
    {
     "output_type": "execute_result",
     "data": {
      "text/plain": [
       "       City country_id       Country Latitude Longitude\n",
       "0         0        NEW   New Zealand   36.17S   175.03E\n",
       "1929      1        BRA        Brazil   15.27S    47.50W\n",
       "4110      2        BRA        Brazil   29.74S    51.69W\n",
       "6291      3        SOU  South Africa   32.95S    18.19E\n",
       "8172      4        NEW   New Zealand   37.78S   174.92E\n",
       "10101     5        SOU  South Africa   26.52S    28.66E\n",
       "11982     6        UKR       Ukraine   47.42N    31.97E\n",
       "15221     7        UKR       Ukraine   50.63N    31.69E\n",
       "18460     8        UKR       Ukraine   50.63N    24.08E\n",
       "21699     9        FRA        France   42.59N     6.55E\n",
       "24938    10        UKR       Ukraine   45.81N    31.15E\n",
       "28177    11        FRA        France   49.03N     2.45E\n",
       "31416    12        SWE        Sweden   58.66N    18.46E\n",
       "34655    13        JAP         Japan   36.17N   139.23E\n",
       "36680    14        JAP         Japan   34.56N   134.27E\n",
       "38753    15        SWE        Sweden   60.27N    16.22E\n",
       "41992    16        POL        Poland   52.24N    21.02E"
      ],
      "text/html": "<div>\n<style scoped>\n    .dataframe tbody tr th:only-of-type {\n        vertical-align: middle;\n    }\n\n    .dataframe tbody tr th {\n        vertical-align: top;\n    }\n\n    .dataframe thead th {\n        text-align: right;\n    }\n</style>\n<table border=\"1\" class=\"dataframe\">\n  <thead>\n    <tr style=\"text-align: right;\">\n      <th></th>\n      <th>City</th>\n      <th>country_id</th>\n      <th>Country</th>\n      <th>Latitude</th>\n      <th>Longitude</th>\n    </tr>\n  </thead>\n  <tbody>\n    <tr>\n      <th>0</th>\n      <td>0</td>\n      <td>NEW</td>\n      <td>New Zealand</td>\n      <td>36.17S</td>\n      <td>175.03E</td>\n    </tr>\n    <tr>\n      <th>1929</th>\n      <td>1</td>\n      <td>BRA</td>\n      <td>Brazil</td>\n      <td>15.27S</td>\n      <td>47.50W</td>\n    </tr>\n    <tr>\n      <th>4110</th>\n      <td>2</td>\n      <td>BRA</td>\n      <td>Brazil</td>\n      <td>29.74S</td>\n      <td>51.69W</td>\n    </tr>\n    <tr>\n      <th>6291</th>\n      <td>3</td>\n      <td>SOU</td>\n      <td>South Africa</td>\n      <td>32.95S</td>\n      <td>18.19E</td>\n    </tr>\n    <tr>\n      <th>8172</th>\n      <td>4</td>\n      <td>NEW</td>\n      <td>New Zealand</td>\n      <td>37.78S</td>\n      <td>174.92E</td>\n    </tr>\n    <tr>\n      <th>10101</th>\n      <td>5</td>\n      <td>SOU</td>\n      <td>South Africa</td>\n      <td>26.52S</td>\n      <td>28.66E</td>\n    </tr>\n    <tr>\n      <th>11982</th>\n      <td>6</td>\n      <td>UKR</td>\n      <td>Ukraine</td>\n      <td>47.42N</td>\n      <td>31.97E</td>\n    </tr>\n    <tr>\n      <th>15221</th>\n      <td>7</td>\n      <td>UKR</td>\n      <td>Ukraine</td>\n      <td>50.63N</td>\n      <td>31.69E</td>\n    </tr>\n    <tr>\n      <th>18460</th>\n      <td>8</td>\n      <td>UKR</td>\n      <td>Ukraine</td>\n      <td>50.63N</td>\n      <td>24.08E</td>\n    </tr>\n    <tr>\n      <th>21699</th>\n      <td>9</td>\n      <td>FRA</td>\n      <td>France</td>\n      <td>42.59N</td>\n      <td>6.55E</td>\n    </tr>\n    <tr>\n      <th>24938</th>\n      <td>10</td>\n      <td>UKR</td>\n      <td>Ukraine</td>\n      <td>45.81N</td>\n      <td>31.15E</td>\n    </tr>\n    <tr>\n      <th>28177</th>\n      <td>11</td>\n      <td>FRA</td>\n      <td>France</td>\n      <td>49.03N</td>\n      <td>2.45E</td>\n    </tr>\n    <tr>\n      <th>31416</th>\n      <td>12</td>\n      <td>SWE</td>\n      <td>Sweden</td>\n      <td>58.66N</td>\n      <td>18.46E</td>\n    </tr>\n    <tr>\n      <th>34655</th>\n      <td>13</td>\n      <td>JAP</td>\n      <td>Japan</td>\n      <td>36.17N</td>\n      <td>139.23E</td>\n    </tr>\n    <tr>\n      <th>36680</th>\n      <td>14</td>\n      <td>JAP</td>\n      <td>Japan</td>\n      <td>34.56N</td>\n      <td>134.27E</td>\n    </tr>\n    <tr>\n      <th>38753</th>\n      <td>15</td>\n      <td>SWE</td>\n      <td>Sweden</td>\n      <td>60.27N</td>\n      <td>16.22E</td>\n    </tr>\n    <tr>\n      <th>41992</th>\n      <td>16</td>\n      <td>POL</td>\n      <td>Poland</td>\n      <td>52.24N</td>\n      <td>21.02E</td>\n    </tr>\n  </tbody>\n</table>\n</div>"
     },
     "metadata": {},
     "execution_count": 33
    }
   ],
   "source": [
    "df.head(17)"
   ]
  },
  {
   "source": [
    "# OneHot Encoder"
   ],
   "cell_type": "markdown",
   "metadata": {}
  },
  {
   "cell_type": "code",
   "execution_count": 34,
   "metadata": {},
   "outputs": [],
   "source": [
    "df = pd.read_csv('temfile.csv')"
   ]
  },
  {
   "cell_type": "code",
   "execution_count": 35,
   "metadata": {},
   "outputs": [],
   "source": [
    "df.dropna(inplace=True)\n",
    "df.drop_duplicates(inplace=True)\n",
    "df.reset_index(drop=True, inplace=True)"
   ]
  },
  {
   "cell_type": "code",
   "execution_count": 36,
   "metadata": {},
   "outputs": [],
   "source": [
    "onehot_transformed = onehot.fit_transform(df[['City']])"
   ]
  },
  {
   "cell_type": "code",
   "execution_count": 37,
   "metadata": {},
   "outputs": [],
   "source": [
    "oc = pd.DataFrame(onehot_transformed.toarray(), columns = onehot.categories_)"
   ]
  },
  {
   "cell_type": "code",
   "execution_count": 38,
   "metadata": {},
   "outputs": [],
   "source": [
    "df = df.join(oc)"
   ]
  },
  {
   "cell_type": "code",
   "execution_count": 39,
   "metadata": {},
   "outputs": [
    {
     "output_type": "execute_result",
     "data": {
      "text/plain": [
       "            City country_id       Country Latitude Longitude  (Auckland,)  \\\n",
       "0       Auckland        NEW   New Zealand   36.17S   175.03E          1.0   \n",
       "1       Brasília        BRA        Brazil   15.27S    47.50W          0.0   \n",
       "2         Canoas        BRA        Brazil   29.74S    51.69W          0.0   \n",
       "3      Cape Town        SOU  South Africa   32.95S    18.19E          0.0   \n",
       "4       Hamilton        NEW   New Zealand   37.78S   174.92E          0.0   \n",
       "5   Johannesburg        SOU  South Africa   26.52S    28.66E          0.0   \n",
       "6        Kherson        UKR       Ukraine   47.42N    31.97E          0.0   \n",
       "7           Kiev        UKR       Ukraine   50.63N    31.69E          0.0   \n",
       "8           Lvov        UKR       Ukraine   50.63N    24.08E          0.0   \n",
       "9      Marseille        FRA        France   42.59N     6.55E          0.0   \n",
       "10         Odesa        UKR       Ukraine   45.81N    31.15E          0.0   \n",
       "11         Paris        FRA        France   49.03N     2.45E          0.0   \n",
       "12     Stockholm        SWE        Sweden   58.66N    18.46E          0.0   \n",
       "13         Tokyo        JAP         Japan   36.17N   139.23E          0.0   \n",
       "14       Tottori        JAP         Japan   34.56N   134.27E          0.0   \n",
       "15       Uppsala        SWE        Sweden   60.27N    16.22E          0.0   \n",
       "16        Warsaw        POL        Poland   52.24N    21.02E          0.0   \n",
       "\n",
       "    (Brasília,)  (Canoas,)  (Cape Town,)  (Hamilton,)  ...  (Lvov,)  \\\n",
       "0           0.0        0.0           0.0          0.0  ...      0.0   \n",
       "1           1.0        0.0           0.0          0.0  ...      0.0   \n",
       "2           0.0        1.0           0.0          0.0  ...      0.0   \n",
       "3           0.0        0.0           1.0          0.0  ...      0.0   \n",
       "4           0.0        0.0           0.0          1.0  ...      0.0   \n",
       "5           0.0        0.0           0.0          0.0  ...      0.0   \n",
       "6           0.0        0.0           0.0          0.0  ...      0.0   \n",
       "7           0.0        0.0           0.0          0.0  ...      0.0   \n",
       "8           0.0        0.0           0.0          0.0  ...      1.0   \n",
       "9           0.0        0.0           0.0          0.0  ...      0.0   \n",
       "10          0.0        0.0           0.0          0.0  ...      0.0   \n",
       "11          0.0        0.0           0.0          0.0  ...      0.0   \n",
       "12          0.0        0.0           0.0          0.0  ...      0.0   \n",
       "13          0.0        0.0           0.0          0.0  ...      0.0   \n",
       "14          0.0        0.0           0.0          0.0  ...      0.0   \n",
       "15          0.0        0.0           0.0          0.0  ...      0.0   \n",
       "16          0.0        0.0           0.0          0.0  ...      0.0   \n",
       "\n",
       "    (Marseille,)  (Odesa,)  (Paris,)  (Stockholm,)  (Tokyo,)  (Tottori,)  \\\n",
       "0            0.0       0.0       0.0           0.0       0.0         0.0   \n",
       "1            0.0       0.0       0.0           0.0       0.0         0.0   \n",
       "2            0.0       0.0       0.0           0.0       0.0         0.0   \n",
       "3            0.0       0.0       0.0           0.0       0.0         0.0   \n",
       "4            0.0       0.0       0.0           0.0       0.0         0.0   \n",
       "5            0.0       0.0       0.0           0.0       0.0         0.0   \n",
       "6            0.0       0.0       0.0           0.0       0.0         0.0   \n",
       "7            0.0       0.0       0.0           0.0       0.0         0.0   \n",
       "8            0.0       0.0       0.0           0.0       0.0         0.0   \n",
       "9            1.0       0.0       0.0           0.0       0.0         0.0   \n",
       "10           0.0       1.0       0.0           0.0       0.0         0.0   \n",
       "11           0.0       0.0       1.0           0.0       0.0         0.0   \n",
       "12           0.0       0.0       0.0           1.0       0.0         0.0   \n",
       "13           0.0       0.0       0.0           0.0       1.0         0.0   \n",
       "14           0.0       0.0       0.0           0.0       0.0         1.0   \n",
       "15           0.0       0.0       0.0           0.0       0.0         0.0   \n",
       "16           0.0       0.0       0.0           0.0       0.0         0.0   \n",
       "\n",
       "    (Uppsala,)  (Warsaw,)  (Wroclaw,)  \n",
       "0          0.0        0.0         0.0  \n",
       "1          0.0        0.0         0.0  \n",
       "2          0.0        0.0         0.0  \n",
       "3          0.0        0.0         0.0  \n",
       "4          0.0        0.0         0.0  \n",
       "5          0.0        0.0         0.0  \n",
       "6          0.0        0.0         0.0  \n",
       "7          0.0        0.0         0.0  \n",
       "8          0.0        0.0         0.0  \n",
       "9          0.0        0.0         0.0  \n",
       "10         0.0        0.0         0.0  \n",
       "11         0.0        0.0         0.0  \n",
       "12         0.0        0.0         0.0  \n",
       "13         0.0        0.0         0.0  \n",
       "14         0.0        0.0         0.0  \n",
       "15         1.0        0.0         0.0  \n",
       "16         0.0        1.0         0.0  \n",
       "\n",
       "[17 rows x 23 columns]"
      ],
      "text/html": "<div>\n<style scoped>\n    .dataframe tbody tr th:only-of-type {\n        vertical-align: middle;\n    }\n\n    .dataframe tbody tr th {\n        vertical-align: top;\n    }\n\n    .dataframe thead th {\n        text-align: right;\n    }\n</style>\n<table border=\"1\" class=\"dataframe\">\n  <thead>\n    <tr style=\"text-align: right;\">\n      <th></th>\n      <th>City</th>\n      <th>country_id</th>\n      <th>Country</th>\n      <th>Latitude</th>\n      <th>Longitude</th>\n      <th>(Auckland,)</th>\n      <th>(Brasília,)</th>\n      <th>(Canoas,)</th>\n      <th>(Cape Town,)</th>\n      <th>(Hamilton,)</th>\n      <th>...</th>\n      <th>(Lvov,)</th>\n      <th>(Marseille,)</th>\n      <th>(Odesa,)</th>\n      <th>(Paris,)</th>\n      <th>(Stockholm,)</th>\n      <th>(Tokyo,)</th>\n      <th>(Tottori,)</th>\n      <th>(Uppsala,)</th>\n      <th>(Warsaw,)</th>\n      <th>(Wroclaw,)</th>\n    </tr>\n  </thead>\n  <tbody>\n    <tr>\n      <th>0</th>\n      <td>Auckland</td>\n      <td>NEW</td>\n      <td>New Zealand</td>\n      <td>36.17S</td>\n      <td>175.03E</td>\n      <td>1.0</td>\n      <td>0.0</td>\n      <td>0.0</td>\n      <td>0.0</td>\n      <td>0.0</td>\n      <td>...</td>\n      <td>0.0</td>\n      <td>0.0</td>\n      <td>0.0</td>\n      <td>0.0</td>\n      <td>0.0</td>\n      <td>0.0</td>\n      <td>0.0</td>\n      <td>0.0</td>\n      <td>0.0</td>\n      <td>0.0</td>\n    </tr>\n    <tr>\n      <th>1</th>\n      <td>Brasília</td>\n      <td>BRA</td>\n      <td>Brazil</td>\n      <td>15.27S</td>\n      <td>47.50W</td>\n      <td>0.0</td>\n      <td>1.0</td>\n      <td>0.0</td>\n      <td>0.0</td>\n      <td>0.0</td>\n      <td>...</td>\n      <td>0.0</td>\n      <td>0.0</td>\n      <td>0.0</td>\n      <td>0.0</td>\n      <td>0.0</td>\n      <td>0.0</td>\n      <td>0.0</td>\n      <td>0.0</td>\n      <td>0.0</td>\n      <td>0.0</td>\n    </tr>\n    <tr>\n      <th>2</th>\n      <td>Canoas</td>\n      <td>BRA</td>\n      <td>Brazil</td>\n      <td>29.74S</td>\n      <td>51.69W</td>\n      <td>0.0</td>\n      <td>0.0</td>\n      <td>1.0</td>\n      <td>0.0</td>\n      <td>0.0</td>\n      <td>...</td>\n      <td>0.0</td>\n      <td>0.0</td>\n      <td>0.0</td>\n      <td>0.0</td>\n      <td>0.0</td>\n      <td>0.0</td>\n      <td>0.0</td>\n      <td>0.0</td>\n      <td>0.0</td>\n      <td>0.0</td>\n    </tr>\n    <tr>\n      <th>3</th>\n      <td>Cape Town</td>\n      <td>SOU</td>\n      <td>South Africa</td>\n      <td>32.95S</td>\n      <td>18.19E</td>\n      <td>0.0</td>\n      <td>0.0</td>\n      <td>0.0</td>\n      <td>1.0</td>\n      <td>0.0</td>\n      <td>...</td>\n      <td>0.0</td>\n      <td>0.0</td>\n      <td>0.0</td>\n      <td>0.0</td>\n      <td>0.0</td>\n      <td>0.0</td>\n      <td>0.0</td>\n      <td>0.0</td>\n      <td>0.0</td>\n      <td>0.0</td>\n    </tr>\n    <tr>\n      <th>4</th>\n      <td>Hamilton</td>\n      <td>NEW</td>\n      <td>New Zealand</td>\n      <td>37.78S</td>\n      <td>174.92E</td>\n      <td>0.0</td>\n      <td>0.0</td>\n      <td>0.0</td>\n      <td>0.0</td>\n      <td>1.0</td>\n      <td>...</td>\n      <td>0.0</td>\n      <td>0.0</td>\n      <td>0.0</td>\n      <td>0.0</td>\n      <td>0.0</td>\n      <td>0.0</td>\n      <td>0.0</td>\n      <td>0.0</td>\n      <td>0.0</td>\n      <td>0.0</td>\n    </tr>\n    <tr>\n      <th>5</th>\n      <td>Johannesburg</td>\n      <td>SOU</td>\n      <td>South Africa</td>\n      <td>26.52S</td>\n      <td>28.66E</td>\n      <td>0.0</td>\n      <td>0.0</td>\n      <td>0.0</td>\n      <td>0.0</td>\n      <td>0.0</td>\n      <td>...</td>\n      <td>0.0</td>\n      <td>0.0</td>\n      <td>0.0</td>\n      <td>0.0</td>\n      <td>0.0</td>\n      <td>0.0</td>\n      <td>0.0</td>\n      <td>0.0</td>\n      <td>0.0</td>\n      <td>0.0</td>\n    </tr>\n    <tr>\n      <th>6</th>\n      <td>Kherson</td>\n      <td>UKR</td>\n      <td>Ukraine</td>\n      <td>47.42N</td>\n      <td>31.97E</td>\n      <td>0.0</td>\n      <td>0.0</td>\n      <td>0.0</td>\n      <td>0.0</td>\n      <td>0.0</td>\n      <td>...</td>\n      <td>0.0</td>\n      <td>0.0</td>\n      <td>0.0</td>\n      <td>0.0</td>\n      <td>0.0</td>\n      <td>0.0</td>\n      <td>0.0</td>\n      <td>0.0</td>\n      <td>0.0</td>\n      <td>0.0</td>\n    </tr>\n    <tr>\n      <th>7</th>\n      <td>Kiev</td>\n      <td>UKR</td>\n      <td>Ukraine</td>\n      <td>50.63N</td>\n      <td>31.69E</td>\n      <td>0.0</td>\n      <td>0.0</td>\n      <td>0.0</td>\n      <td>0.0</td>\n      <td>0.0</td>\n      <td>...</td>\n      <td>0.0</td>\n      <td>0.0</td>\n      <td>0.0</td>\n      <td>0.0</td>\n      <td>0.0</td>\n      <td>0.0</td>\n      <td>0.0</td>\n      <td>0.0</td>\n      <td>0.0</td>\n      <td>0.0</td>\n    </tr>\n    <tr>\n      <th>8</th>\n      <td>Lvov</td>\n      <td>UKR</td>\n      <td>Ukraine</td>\n      <td>50.63N</td>\n      <td>24.08E</td>\n      <td>0.0</td>\n      <td>0.0</td>\n      <td>0.0</td>\n      <td>0.0</td>\n      <td>0.0</td>\n      <td>...</td>\n      <td>1.0</td>\n      <td>0.0</td>\n      <td>0.0</td>\n      <td>0.0</td>\n      <td>0.0</td>\n      <td>0.0</td>\n      <td>0.0</td>\n      <td>0.0</td>\n      <td>0.0</td>\n      <td>0.0</td>\n    </tr>\n    <tr>\n      <th>9</th>\n      <td>Marseille</td>\n      <td>FRA</td>\n      <td>France</td>\n      <td>42.59N</td>\n      <td>6.55E</td>\n      <td>0.0</td>\n      <td>0.0</td>\n      <td>0.0</td>\n      <td>0.0</td>\n      <td>0.0</td>\n      <td>...</td>\n      <td>0.0</td>\n      <td>1.0</td>\n      <td>0.0</td>\n      <td>0.0</td>\n      <td>0.0</td>\n      <td>0.0</td>\n      <td>0.0</td>\n      <td>0.0</td>\n      <td>0.0</td>\n      <td>0.0</td>\n    </tr>\n    <tr>\n      <th>10</th>\n      <td>Odesa</td>\n      <td>UKR</td>\n      <td>Ukraine</td>\n      <td>45.81N</td>\n      <td>31.15E</td>\n      <td>0.0</td>\n      <td>0.0</td>\n      <td>0.0</td>\n      <td>0.0</td>\n      <td>0.0</td>\n      <td>...</td>\n      <td>0.0</td>\n      <td>0.0</td>\n      <td>1.0</td>\n      <td>0.0</td>\n      <td>0.0</td>\n      <td>0.0</td>\n      <td>0.0</td>\n      <td>0.0</td>\n      <td>0.0</td>\n      <td>0.0</td>\n    </tr>\n    <tr>\n      <th>11</th>\n      <td>Paris</td>\n      <td>FRA</td>\n      <td>France</td>\n      <td>49.03N</td>\n      <td>2.45E</td>\n      <td>0.0</td>\n      <td>0.0</td>\n      <td>0.0</td>\n      <td>0.0</td>\n      <td>0.0</td>\n      <td>...</td>\n      <td>0.0</td>\n      <td>0.0</td>\n      <td>0.0</td>\n      <td>1.0</td>\n      <td>0.0</td>\n      <td>0.0</td>\n      <td>0.0</td>\n      <td>0.0</td>\n      <td>0.0</td>\n      <td>0.0</td>\n    </tr>\n    <tr>\n      <th>12</th>\n      <td>Stockholm</td>\n      <td>SWE</td>\n      <td>Sweden</td>\n      <td>58.66N</td>\n      <td>18.46E</td>\n      <td>0.0</td>\n      <td>0.0</td>\n      <td>0.0</td>\n      <td>0.0</td>\n      <td>0.0</td>\n      <td>...</td>\n      <td>0.0</td>\n      <td>0.0</td>\n      <td>0.0</td>\n      <td>0.0</td>\n      <td>1.0</td>\n      <td>0.0</td>\n      <td>0.0</td>\n      <td>0.0</td>\n      <td>0.0</td>\n      <td>0.0</td>\n    </tr>\n    <tr>\n      <th>13</th>\n      <td>Tokyo</td>\n      <td>JAP</td>\n      <td>Japan</td>\n      <td>36.17N</td>\n      <td>139.23E</td>\n      <td>0.0</td>\n      <td>0.0</td>\n      <td>0.0</td>\n      <td>0.0</td>\n      <td>0.0</td>\n      <td>...</td>\n      <td>0.0</td>\n      <td>0.0</td>\n      <td>0.0</td>\n      <td>0.0</td>\n      <td>0.0</td>\n      <td>1.0</td>\n      <td>0.0</td>\n      <td>0.0</td>\n      <td>0.0</td>\n      <td>0.0</td>\n    </tr>\n    <tr>\n      <th>14</th>\n      <td>Tottori</td>\n      <td>JAP</td>\n      <td>Japan</td>\n      <td>34.56N</td>\n      <td>134.27E</td>\n      <td>0.0</td>\n      <td>0.0</td>\n      <td>0.0</td>\n      <td>0.0</td>\n      <td>0.0</td>\n      <td>...</td>\n      <td>0.0</td>\n      <td>0.0</td>\n      <td>0.0</td>\n      <td>0.0</td>\n      <td>0.0</td>\n      <td>0.0</td>\n      <td>1.0</td>\n      <td>0.0</td>\n      <td>0.0</td>\n      <td>0.0</td>\n    </tr>\n    <tr>\n      <th>15</th>\n      <td>Uppsala</td>\n      <td>SWE</td>\n      <td>Sweden</td>\n      <td>60.27N</td>\n      <td>16.22E</td>\n      <td>0.0</td>\n      <td>0.0</td>\n      <td>0.0</td>\n      <td>0.0</td>\n      <td>0.0</td>\n      <td>...</td>\n      <td>0.0</td>\n      <td>0.0</td>\n      <td>0.0</td>\n      <td>0.0</td>\n      <td>0.0</td>\n      <td>0.0</td>\n      <td>0.0</td>\n      <td>1.0</td>\n      <td>0.0</td>\n      <td>0.0</td>\n    </tr>\n    <tr>\n      <th>16</th>\n      <td>Warsaw</td>\n      <td>POL</td>\n      <td>Poland</td>\n      <td>52.24N</td>\n      <td>21.02E</td>\n      <td>0.0</td>\n      <td>0.0</td>\n      <td>0.0</td>\n      <td>0.0</td>\n      <td>0.0</td>\n      <td>...</td>\n      <td>0.0</td>\n      <td>0.0</td>\n      <td>0.0</td>\n      <td>0.0</td>\n      <td>0.0</td>\n      <td>0.0</td>\n      <td>0.0</td>\n      <td>0.0</td>\n      <td>1.0</td>\n      <td>0.0</td>\n    </tr>\n  </tbody>\n</table>\n<p>17 rows × 23 columns</p>\n</div>"
     },
     "metadata": {},
     "execution_count": 39
    }
   ],
   "source": [
    "df.head(17)"
   ]
  },
  {
   "source": [
    "# Transform Encoder"
   ],
   "cell_type": "markdown",
   "metadata": {}
  },
  {
   "cell_type": "code",
   "execution_count": 40,
   "metadata": {},
   "outputs": [],
   "source": [
    "enc = TransactionEncoder().fit(oc)"
   ]
  },
  {
   "cell_type": "code",
   "execution_count": 41,
   "metadata": {},
   "outputs": [],
   "source": [
    "trans_tranformed = enc.transform(oc)"
   ]
  },
  {
   "cell_type": "code",
   "execution_count": 42,
   "metadata": {},
   "outputs": [],
   "source": [
    "trans = pd.DataFrame(trans_tranformed, columns = enc.columns_)"
   ]
  },
  {
   "source": [
    "# Jaccard Distance"
   ],
   "cell_type": "markdown",
   "metadata": {}
  },
  {
   "cell_type": "code",
   "execution_count": 43,
   "metadata": {},
   "outputs": [],
   "source": [
    "jaccard = cdist(trans, trans, metric = 'jaccard')"
   ]
  },
  {
   "cell_type": "code",
   "execution_count": 44,
   "metadata": {},
   "outputs": [],
   "source": [
    "jaccard_dist = pd.DataFrame(jaccard, columns = trans.index.values, index = trans.index.values)"
   ]
  },
  {
   "cell_type": "code",
   "execution_count": 45,
   "metadata": {},
   "outputs": [
    {
     "output_type": "execute_result",
     "data": {
      "text/plain": [
       "     0    1    2    3    4    5    6    7    8    9    10   11   12   13   14  \\\n",
       "0   0.0  1.0  1.0  1.0  1.0  1.0  1.0  1.0  1.0  1.0  1.0  1.0  1.0  1.0  1.0   \n",
       "1   1.0  0.0  1.0  1.0  1.0  1.0  1.0  1.0  1.0  1.0  1.0  1.0  1.0  1.0  1.0   \n",
       "2   1.0  1.0  0.0  1.0  1.0  1.0  1.0  1.0  1.0  1.0  1.0  1.0  1.0  1.0  1.0   \n",
       "3   1.0  1.0  1.0  0.0  1.0  1.0  1.0  1.0  1.0  1.0  1.0  1.0  1.0  1.0  1.0   \n",
       "4   1.0  1.0  1.0  1.0  0.0  1.0  1.0  1.0  1.0  1.0  1.0  1.0  1.0  1.0  1.0   \n",
       "5   1.0  1.0  1.0  1.0  1.0  0.0  1.0  1.0  1.0  1.0  1.0  1.0  1.0  1.0  1.0   \n",
       "6   1.0  1.0  1.0  1.0  1.0  1.0  0.0  1.0  1.0  1.0  1.0  1.0  1.0  1.0  1.0   \n",
       "7   1.0  1.0  1.0  1.0  1.0  1.0  1.0  0.0  1.0  1.0  1.0  1.0  1.0  1.0  1.0   \n",
       "8   1.0  1.0  1.0  1.0  1.0  1.0  1.0  1.0  0.0  1.0  1.0  1.0  1.0  1.0  1.0   \n",
       "9   1.0  1.0  1.0  1.0  1.0  1.0  1.0  1.0  1.0  0.0  1.0  1.0  1.0  1.0  1.0   \n",
       "10  1.0  1.0  1.0  1.0  1.0  1.0  1.0  1.0  1.0  1.0  0.0  1.0  1.0  1.0  1.0   \n",
       "11  1.0  1.0  1.0  1.0  1.0  1.0  1.0  1.0  1.0  1.0  1.0  0.0  1.0  1.0  1.0   \n",
       "12  1.0  1.0  1.0  1.0  1.0  1.0  1.0  1.0  1.0  1.0  1.0  1.0  0.0  1.0  1.0   \n",
       "13  1.0  1.0  1.0  1.0  1.0  1.0  1.0  1.0  1.0  1.0  1.0  1.0  1.0  0.0  1.0   \n",
       "14  1.0  1.0  1.0  1.0  1.0  1.0  1.0  1.0  1.0  1.0  1.0  1.0  1.0  1.0  0.0   \n",
       "15  1.0  1.0  1.0  1.0  1.0  1.0  1.0  1.0  1.0  1.0  1.0  1.0  1.0  1.0  1.0   \n",
       "16  1.0  1.0  1.0  1.0  1.0  1.0  1.0  1.0  1.0  1.0  1.0  1.0  1.0  1.0  1.0   \n",
       "17  1.0  1.0  1.0  1.0  1.0  1.0  1.0  1.0  1.0  1.0  1.0  1.0  1.0  1.0  1.0   \n",
       "\n",
       "     15   16   17  \n",
       "0   1.0  1.0  1.0  \n",
       "1   1.0  1.0  1.0  \n",
       "2   1.0  1.0  1.0  \n",
       "3   1.0  1.0  1.0  \n",
       "4   1.0  1.0  1.0  \n",
       "5   1.0  1.0  1.0  \n",
       "6   1.0  1.0  1.0  \n",
       "7   1.0  1.0  1.0  \n",
       "8   1.0  1.0  1.0  \n",
       "9   1.0  1.0  1.0  \n",
       "10  1.0  1.0  1.0  \n",
       "11  1.0  1.0  1.0  \n",
       "12  1.0  1.0  1.0  \n",
       "13  1.0  1.0  1.0  \n",
       "14  1.0  1.0  1.0  \n",
       "15  0.0  1.0  1.0  \n",
       "16  1.0  0.0  1.0  \n",
       "17  1.0  1.0  0.0  "
      ],
      "text/html": "<div>\n<style scoped>\n    .dataframe tbody tr th:only-of-type {\n        vertical-align: middle;\n    }\n\n    .dataframe tbody tr th {\n        vertical-align: top;\n    }\n\n    .dataframe thead th {\n        text-align: right;\n    }\n</style>\n<table border=\"1\" class=\"dataframe\">\n  <thead>\n    <tr style=\"text-align: right;\">\n      <th></th>\n      <th>0</th>\n      <th>1</th>\n      <th>2</th>\n      <th>3</th>\n      <th>4</th>\n      <th>5</th>\n      <th>6</th>\n      <th>7</th>\n      <th>8</th>\n      <th>9</th>\n      <th>10</th>\n      <th>11</th>\n      <th>12</th>\n      <th>13</th>\n      <th>14</th>\n      <th>15</th>\n      <th>16</th>\n      <th>17</th>\n    </tr>\n  </thead>\n  <tbody>\n    <tr>\n      <th>0</th>\n      <td>0.0</td>\n      <td>1.0</td>\n      <td>1.0</td>\n      <td>1.0</td>\n      <td>1.0</td>\n      <td>1.0</td>\n      <td>1.0</td>\n      <td>1.0</td>\n      <td>1.0</td>\n      <td>1.0</td>\n      <td>1.0</td>\n      <td>1.0</td>\n      <td>1.0</td>\n      <td>1.0</td>\n      <td>1.0</td>\n      <td>1.0</td>\n      <td>1.0</td>\n      <td>1.0</td>\n    </tr>\n    <tr>\n      <th>1</th>\n      <td>1.0</td>\n      <td>0.0</td>\n      <td>1.0</td>\n      <td>1.0</td>\n      <td>1.0</td>\n      <td>1.0</td>\n      <td>1.0</td>\n      <td>1.0</td>\n      <td>1.0</td>\n      <td>1.0</td>\n      <td>1.0</td>\n      <td>1.0</td>\n      <td>1.0</td>\n      <td>1.0</td>\n      <td>1.0</td>\n      <td>1.0</td>\n      <td>1.0</td>\n      <td>1.0</td>\n    </tr>\n    <tr>\n      <th>2</th>\n      <td>1.0</td>\n      <td>1.0</td>\n      <td>0.0</td>\n      <td>1.0</td>\n      <td>1.0</td>\n      <td>1.0</td>\n      <td>1.0</td>\n      <td>1.0</td>\n      <td>1.0</td>\n      <td>1.0</td>\n      <td>1.0</td>\n      <td>1.0</td>\n      <td>1.0</td>\n      <td>1.0</td>\n      <td>1.0</td>\n      <td>1.0</td>\n      <td>1.0</td>\n      <td>1.0</td>\n    </tr>\n    <tr>\n      <th>3</th>\n      <td>1.0</td>\n      <td>1.0</td>\n      <td>1.0</td>\n      <td>0.0</td>\n      <td>1.0</td>\n      <td>1.0</td>\n      <td>1.0</td>\n      <td>1.0</td>\n      <td>1.0</td>\n      <td>1.0</td>\n      <td>1.0</td>\n      <td>1.0</td>\n      <td>1.0</td>\n      <td>1.0</td>\n      <td>1.0</td>\n      <td>1.0</td>\n      <td>1.0</td>\n      <td>1.0</td>\n    </tr>\n    <tr>\n      <th>4</th>\n      <td>1.0</td>\n      <td>1.0</td>\n      <td>1.0</td>\n      <td>1.0</td>\n      <td>0.0</td>\n      <td>1.0</td>\n      <td>1.0</td>\n      <td>1.0</td>\n      <td>1.0</td>\n      <td>1.0</td>\n      <td>1.0</td>\n      <td>1.0</td>\n      <td>1.0</td>\n      <td>1.0</td>\n      <td>1.0</td>\n      <td>1.0</td>\n      <td>1.0</td>\n      <td>1.0</td>\n    </tr>\n    <tr>\n      <th>5</th>\n      <td>1.0</td>\n      <td>1.0</td>\n      <td>1.0</td>\n      <td>1.0</td>\n      <td>1.0</td>\n      <td>0.0</td>\n      <td>1.0</td>\n      <td>1.0</td>\n      <td>1.0</td>\n      <td>1.0</td>\n      <td>1.0</td>\n      <td>1.0</td>\n      <td>1.0</td>\n      <td>1.0</td>\n      <td>1.0</td>\n      <td>1.0</td>\n      <td>1.0</td>\n      <td>1.0</td>\n    </tr>\n    <tr>\n      <th>6</th>\n      <td>1.0</td>\n      <td>1.0</td>\n      <td>1.0</td>\n      <td>1.0</td>\n      <td>1.0</td>\n      <td>1.0</td>\n      <td>0.0</td>\n      <td>1.0</td>\n      <td>1.0</td>\n      <td>1.0</td>\n      <td>1.0</td>\n      <td>1.0</td>\n      <td>1.0</td>\n      <td>1.0</td>\n      <td>1.0</td>\n      <td>1.0</td>\n      <td>1.0</td>\n      <td>1.0</td>\n    </tr>\n    <tr>\n      <th>7</th>\n      <td>1.0</td>\n      <td>1.0</td>\n      <td>1.0</td>\n      <td>1.0</td>\n      <td>1.0</td>\n      <td>1.0</td>\n      <td>1.0</td>\n      <td>0.0</td>\n      <td>1.0</td>\n      <td>1.0</td>\n      <td>1.0</td>\n      <td>1.0</td>\n      <td>1.0</td>\n      <td>1.0</td>\n      <td>1.0</td>\n      <td>1.0</td>\n      <td>1.0</td>\n      <td>1.0</td>\n    </tr>\n    <tr>\n      <th>8</th>\n      <td>1.0</td>\n      <td>1.0</td>\n      <td>1.0</td>\n      <td>1.0</td>\n      <td>1.0</td>\n      <td>1.0</td>\n      <td>1.0</td>\n      <td>1.0</td>\n      <td>0.0</td>\n      <td>1.0</td>\n      <td>1.0</td>\n      <td>1.0</td>\n      <td>1.0</td>\n      <td>1.0</td>\n      <td>1.0</td>\n      <td>1.0</td>\n      <td>1.0</td>\n      <td>1.0</td>\n    </tr>\n    <tr>\n      <th>9</th>\n      <td>1.0</td>\n      <td>1.0</td>\n      <td>1.0</td>\n      <td>1.0</td>\n      <td>1.0</td>\n      <td>1.0</td>\n      <td>1.0</td>\n      <td>1.0</td>\n      <td>1.0</td>\n      <td>0.0</td>\n      <td>1.0</td>\n      <td>1.0</td>\n      <td>1.0</td>\n      <td>1.0</td>\n      <td>1.0</td>\n      <td>1.0</td>\n      <td>1.0</td>\n      <td>1.0</td>\n    </tr>\n    <tr>\n      <th>10</th>\n      <td>1.0</td>\n      <td>1.0</td>\n      <td>1.0</td>\n      <td>1.0</td>\n      <td>1.0</td>\n      <td>1.0</td>\n      <td>1.0</td>\n      <td>1.0</td>\n      <td>1.0</td>\n      <td>1.0</td>\n      <td>0.0</td>\n      <td>1.0</td>\n      <td>1.0</td>\n      <td>1.0</td>\n      <td>1.0</td>\n      <td>1.0</td>\n      <td>1.0</td>\n      <td>1.0</td>\n    </tr>\n    <tr>\n      <th>11</th>\n      <td>1.0</td>\n      <td>1.0</td>\n      <td>1.0</td>\n      <td>1.0</td>\n      <td>1.0</td>\n      <td>1.0</td>\n      <td>1.0</td>\n      <td>1.0</td>\n      <td>1.0</td>\n      <td>1.0</td>\n      <td>1.0</td>\n      <td>0.0</td>\n      <td>1.0</td>\n      <td>1.0</td>\n      <td>1.0</td>\n      <td>1.0</td>\n      <td>1.0</td>\n      <td>1.0</td>\n    </tr>\n    <tr>\n      <th>12</th>\n      <td>1.0</td>\n      <td>1.0</td>\n      <td>1.0</td>\n      <td>1.0</td>\n      <td>1.0</td>\n      <td>1.0</td>\n      <td>1.0</td>\n      <td>1.0</td>\n      <td>1.0</td>\n      <td>1.0</td>\n      <td>1.0</td>\n      <td>1.0</td>\n      <td>0.0</td>\n      <td>1.0</td>\n      <td>1.0</td>\n      <td>1.0</td>\n      <td>1.0</td>\n      <td>1.0</td>\n    </tr>\n    <tr>\n      <th>13</th>\n      <td>1.0</td>\n      <td>1.0</td>\n      <td>1.0</td>\n      <td>1.0</td>\n      <td>1.0</td>\n      <td>1.0</td>\n      <td>1.0</td>\n      <td>1.0</td>\n      <td>1.0</td>\n      <td>1.0</td>\n      <td>1.0</td>\n      <td>1.0</td>\n      <td>1.0</td>\n      <td>0.0</td>\n      <td>1.0</td>\n      <td>1.0</td>\n      <td>1.0</td>\n      <td>1.0</td>\n    </tr>\n    <tr>\n      <th>14</th>\n      <td>1.0</td>\n      <td>1.0</td>\n      <td>1.0</td>\n      <td>1.0</td>\n      <td>1.0</td>\n      <td>1.0</td>\n      <td>1.0</td>\n      <td>1.0</td>\n      <td>1.0</td>\n      <td>1.0</td>\n      <td>1.0</td>\n      <td>1.0</td>\n      <td>1.0</td>\n      <td>1.0</td>\n      <td>0.0</td>\n      <td>1.0</td>\n      <td>1.0</td>\n      <td>1.0</td>\n    </tr>\n    <tr>\n      <th>15</th>\n      <td>1.0</td>\n      <td>1.0</td>\n      <td>1.0</td>\n      <td>1.0</td>\n      <td>1.0</td>\n      <td>1.0</td>\n      <td>1.0</td>\n      <td>1.0</td>\n      <td>1.0</td>\n      <td>1.0</td>\n      <td>1.0</td>\n      <td>1.0</td>\n      <td>1.0</td>\n      <td>1.0</td>\n      <td>1.0</td>\n      <td>0.0</td>\n      <td>1.0</td>\n      <td>1.0</td>\n    </tr>\n    <tr>\n      <th>16</th>\n      <td>1.0</td>\n      <td>1.0</td>\n      <td>1.0</td>\n      <td>1.0</td>\n      <td>1.0</td>\n      <td>1.0</td>\n      <td>1.0</td>\n      <td>1.0</td>\n      <td>1.0</td>\n      <td>1.0</td>\n      <td>1.0</td>\n      <td>1.0</td>\n      <td>1.0</td>\n      <td>1.0</td>\n      <td>1.0</td>\n      <td>1.0</td>\n      <td>0.0</td>\n      <td>1.0</td>\n    </tr>\n    <tr>\n      <th>17</th>\n      <td>1.0</td>\n      <td>1.0</td>\n      <td>1.0</td>\n      <td>1.0</td>\n      <td>1.0</td>\n      <td>1.0</td>\n      <td>1.0</td>\n      <td>1.0</td>\n      <td>1.0</td>\n      <td>1.0</td>\n      <td>1.0</td>\n      <td>1.0</td>\n      <td>1.0</td>\n      <td>1.0</td>\n      <td>1.0</td>\n      <td>1.0</td>\n      <td>1.0</td>\n      <td>0.0</td>\n    </tr>\n  </tbody>\n</table>\n</div>"
     },
     "metadata": {},
     "execution_count": 45
    }
   ],
   "source": [
    "jaccard_dist"
   ]
  },
  {
   "source": [
    "### From the Jaccard distance we can see that the distance between two different place is 1, meaning they are completely different from each other and the distance between the same place is 0, meaning they are exactly the same "
   ],
   "cell_type": "markdown",
   "metadata": {}
  },
  {
   "cell_type": "code",
   "execution_count": 46,
   "metadata": {},
   "outputs": [],
   "source": [
    "from sklearn.metrics.pairwise import manhattan_distances"
   ]
  },
  {
   "cell_type": "code",
   "execution_count": 47,
   "metadata": {},
   "outputs": [],
   "source": [
    "md = manhattan_distances(oc)"
   ]
  },
  {
   "cell_type": "code",
   "execution_count": 48,
   "metadata": {},
   "outputs": [],
   "source": [
    "man_dist = pd.DataFrame(md, columns = oc.index.values, index = oc.index.values)"
   ]
  },
  {
   "cell_type": "code",
   "execution_count": 49,
   "metadata": {},
   "outputs": [
    {
     "output_type": "execute_result",
     "data": {
      "text/plain": [
       "     0    1    2    3    4    5    6    7    8    9    10   11   12   13   14  \\\n",
       "0   0.0  2.0  2.0  2.0  2.0  2.0  2.0  2.0  2.0  2.0  2.0  2.0  2.0  2.0  2.0   \n",
       "1   2.0  0.0  2.0  2.0  2.0  2.0  2.0  2.0  2.0  2.0  2.0  2.0  2.0  2.0  2.0   \n",
       "2   2.0  2.0  0.0  2.0  2.0  2.0  2.0  2.0  2.0  2.0  2.0  2.0  2.0  2.0  2.0   \n",
       "3   2.0  2.0  2.0  0.0  2.0  2.0  2.0  2.0  2.0  2.0  2.0  2.0  2.0  2.0  2.0   \n",
       "4   2.0  2.0  2.0  2.0  0.0  2.0  2.0  2.0  2.0  2.0  2.0  2.0  2.0  2.0  2.0   \n",
       "5   2.0  2.0  2.0  2.0  2.0  0.0  2.0  2.0  2.0  2.0  2.0  2.0  2.0  2.0  2.0   \n",
       "6   2.0  2.0  2.0  2.0  2.0  2.0  0.0  2.0  2.0  2.0  2.0  2.0  2.0  2.0  2.0   \n",
       "7   2.0  2.0  2.0  2.0  2.0  2.0  2.0  0.0  2.0  2.0  2.0  2.0  2.0  2.0  2.0   \n",
       "8   2.0  2.0  2.0  2.0  2.0  2.0  2.0  2.0  0.0  2.0  2.0  2.0  2.0  2.0  2.0   \n",
       "9   2.0  2.0  2.0  2.0  2.0  2.0  2.0  2.0  2.0  0.0  2.0  2.0  2.0  2.0  2.0   \n",
       "10  2.0  2.0  2.0  2.0  2.0  2.0  2.0  2.0  2.0  2.0  0.0  2.0  2.0  2.0  2.0   \n",
       "11  2.0  2.0  2.0  2.0  2.0  2.0  2.0  2.0  2.0  2.0  2.0  0.0  2.0  2.0  2.0   \n",
       "12  2.0  2.0  2.0  2.0  2.0  2.0  2.0  2.0  2.0  2.0  2.0  2.0  0.0  2.0  2.0   \n",
       "13  2.0  2.0  2.0  2.0  2.0  2.0  2.0  2.0  2.0  2.0  2.0  2.0  2.0  0.0  2.0   \n",
       "14  2.0  2.0  2.0  2.0  2.0  2.0  2.0  2.0  2.0  2.0  2.0  2.0  2.0  2.0  0.0   \n",
       "15  2.0  2.0  2.0  2.0  2.0  2.0  2.0  2.0  2.0  2.0  2.0  2.0  2.0  2.0  2.0   \n",
       "16  2.0  2.0  2.0  2.0  2.0  2.0  2.0  2.0  2.0  2.0  2.0  2.0  2.0  2.0  2.0   \n",
       "17  2.0  2.0  2.0  2.0  2.0  2.0  2.0  2.0  2.0  2.0  2.0  2.0  2.0  2.0  2.0   \n",
       "\n",
       "     15   16   17  \n",
       "0   2.0  2.0  2.0  \n",
       "1   2.0  2.0  2.0  \n",
       "2   2.0  2.0  2.0  \n",
       "3   2.0  2.0  2.0  \n",
       "4   2.0  2.0  2.0  \n",
       "5   2.0  2.0  2.0  \n",
       "6   2.0  2.0  2.0  \n",
       "7   2.0  2.0  2.0  \n",
       "8   2.0  2.0  2.0  \n",
       "9   2.0  2.0  2.0  \n",
       "10  2.0  2.0  2.0  \n",
       "11  2.0  2.0  2.0  \n",
       "12  2.0  2.0  2.0  \n",
       "13  2.0  2.0  2.0  \n",
       "14  2.0  2.0  2.0  \n",
       "15  0.0  2.0  2.0  \n",
       "16  2.0  0.0  2.0  \n",
       "17  2.0  2.0  0.0  "
      ],
      "text/html": "<div>\n<style scoped>\n    .dataframe tbody tr th:only-of-type {\n        vertical-align: middle;\n    }\n\n    .dataframe tbody tr th {\n        vertical-align: top;\n    }\n\n    .dataframe thead th {\n        text-align: right;\n    }\n</style>\n<table border=\"1\" class=\"dataframe\">\n  <thead>\n    <tr style=\"text-align: right;\">\n      <th></th>\n      <th>0</th>\n      <th>1</th>\n      <th>2</th>\n      <th>3</th>\n      <th>4</th>\n      <th>5</th>\n      <th>6</th>\n      <th>7</th>\n      <th>8</th>\n      <th>9</th>\n      <th>10</th>\n      <th>11</th>\n      <th>12</th>\n      <th>13</th>\n      <th>14</th>\n      <th>15</th>\n      <th>16</th>\n      <th>17</th>\n    </tr>\n  </thead>\n  <tbody>\n    <tr>\n      <th>0</th>\n      <td>0.0</td>\n      <td>2.0</td>\n      <td>2.0</td>\n      <td>2.0</td>\n      <td>2.0</td>\n      <td>2.0</td>\n      <td>2.0</td>\n      <td>2.0</td>\n      <td>2.0</td>\n      <td>2.0</td>\n      <td>2.0</td>\n      <td>2.0</td>\n      <td>2.0</td>\n      <td>2.0</td>\n      <td>2.0</td>\n      <td>2.0</td>\n      <td>2.0</td>\n      <td>2.0</td>\n    </tr>\n    <tr>\n      <th>1</th>\n      <td>2.0</td>\n      <td>0.0</td>\n      <td>2.0</td>\n      <td>2.0</td>\n      <td>2.0</td>\n      <td>2.0</td>\n      <td>2.0</td>\n      <td>2.0</td>\n      <td>2.0</td>\n      <td>2.0</td>\n      <td>2.0</td>\n      <td>2.0</td>\n      <td>2.0</td>\n      <td>2.0</td>\n      <td>2.0</td>\n      <td>2.0</td>\n      <td>2.0</td>\n      <td>2.0</td>\n    </tr>\n    <tr>\n      <th>2</th>\n      <td>2.0</td>\n      <td>2.0</td>\n      <td>0.0</td>\n      <td>2.0</td>\n      <td>2.0</td>\n      <td>2.0</td>\n      <td>2.0</td>\n      <td>2.0</td>\n      <td>2.0</td>\n      <td>2.0</td>\n      <td>2.0</td>\n      <td>2.0</td>\n      <td>2.0</td>\n      <td>2.0</td>\n      <td>2.0</td>\n      <td>2.0</td>\n      <td>2.0</td>\n      <td>2.0</td>\n    </tr>\n    <tr>\n      <th>3</th>\n      <td>2.0</td>\n      <td>2.0</td>\n      <td>2.0</td>\n      <td>0.0</td>\n      <td>2.0</td>\n      <td>2.0</td>\n      <td>2.0</td>\n      <td>2.0</td>\n      <td>2.0</td>\n      <td>2.0</td>\n      <td>2.0</td>\n      <td>2.0</td>\n      <td>2.0</td>\n      <td>2.0</td>\n      <td>2.0</td>\n      <td>2.0</td>\n      <td>2.0</td>\n      <td>2.0</td>\n    </tr>\n    <tr>\n      <th>4</th>\n      <td>2.0</td>\n      <td>2.0</td>\n      <td>2.0</td>\n      <td>2.0</td>\n      <td>0.0</td>\n      <td>2.0</td>\n      <td>2.0</td>\n      <td>2.0</td>\n      <td>2.0</td>\n      <td>2.0</td>\n      <td>2.0</td>\n      <td>2.0</td>\n      <td>2.0</td>\n      <td>2.0</td>\n      <td>2.0</td>\n      <td>2.0</td>\n      <td>2.0</td>\n      <td>2.0</td>\n    </tr>\n    <tr>\n      <th>5</th>\n      <td>2.0</td>\n      <td>2.0</td>\n      <td>2.0</td>\n      <td>2.0</td>\n      <td>2.0</td>\n      <td>0.0</td>\n      <td>2.0</td>\n      <td>2.0</td>\n      <td>2.0</td>\n      <td>2.0</td>\n      <td>2.0</td>\n      <td>2.0</td>\n      <td>2.0</td>\n      <td>2.0</td>\n      <td>2.0</td>\n      <td>2.0</td>\n      <td>2.0</td>\n      <td>2.0</td>\n    </tr>\n    <tr>\n      <th>6</th>\n      <td>2.0</td>\n      <td>2.0</td>\n      <td>2.0</td>\n      <td>2.0</td>\n      <td>2.0</td>\n      <td>2.0</td>\n      <td>0.0</td>\n      <td>2.0</td>\n      <td>2.0</td>\n      <td>2.0</td>\n      <td>2.0</td>\n      <td>2.0</td>\n      <td>2.0</td>\n      <td>2.0</td>\n      <td>2.0</td>\n      <td>2.0</td>\n      <td>2.0</td>\n      <td>2.0</td>\n    </tr>\n    <tr>\n      <th>7</th>\n      <td>2.0</td>\n      <td>2.0</td>\n      <td>2.0</td>\n      <td>2.0</td>\n      <td>2.0</td>\n      <td>2.0</td>\n      <td>2.0</td>\n      <td>0.0</td>\n      <td>2.0</td>\n      <td>2.0</td>\n      <td>2.0</td>\n      <td>2.0</td>\n      <td>2.0</td>\n      <td>2.0</td>\n      <td>2.0</td>\n      <td>2.0</td>\n      <td>2.0</td>\n      <td>2.0</td>\n    </tr>\n    <tr>\n      <th>8</th>\n      <td>2.0</td>\n      <td>2.0</td>\n      <td>2.0</td>\n      <td>2.0</td>\n      <td>2.0</td>\n      <td>2.0</td>\n      <td>2.0</td>\n      <td>2.0</td>\n      <td>0.0</td>\n      <td>2.0</td>\n      <td>2.0</td>\n      <td>2.0</td>\n      <td>2.0</td>\n      <td>2.0</td>\n      <td>2.0</td>\n      <td>2.0</td>\n      <td>2.0</td>\n      <td>2.0</td>\n    </tr>\n    <tr>\n      <th>9</th>\n      <td>2.0</td>\n      <td>2.0</td>\n      <td>2.0</td>\n      <td>2.0</td>\n      <td>2.0</td>\n      <td>2.0</td>\n      <td>2.0</td>\n      <td>2.0</td>\n      <td>2.0</td>\n      <td>0.0</td>\n      <td>2.0</td>\n      <td>2.0</td>\n      <td>2.0</td>\n      <td>2.0</td>\n      <td>2.0</td>\n      <td>2.0</td>\n      <td>2.0</td>\n      <td>2.0</td>\n    </tr>\n    <tr>\n      <th>10</th>\n      <td>2.0</td>\n      <td>2.0</td>\n      <td>2.0</td>\n      <td>2.0</td>\n      <td>2.0</td>\n      <td>2.0</td>\n      <td>2.0</td>\n      <td>2.0</td>\n      <td>2.0</td>\n      <td>2.0</td>\n      <td>0.0</td>\n      <td>2.0</td>\n      <td>2.0</td>\n      <td>2.0</td>\n      <td>2.0</td>\n      <td>2.0</td>\n      <td>2.0</td>\n      <td>2.0</td>\n    </tr>\n    <tr>\n      <th>11</th>\n      <td>2.0</td>\n      <td>2.0</td>\n      <td>2.0</td>\n      <td>2.0</td>\n      <td>2.0</td>\n      <td>2.0</td>\n      <td>2.0</td>\n      <td>2.0</td>\n      <td>2.0</td>\n      <td>2.0</td>\n      <td>2.0</td>\n      <td>0.0</td>\n      <td>2.0</td>\n      <td>2.0</td>\n      <td>2.0</td>\n      <td>2.0</td>\n      <td>2.0</td>\n      <td>2.0</td>\n    </tr>\n    <tr>\n      <th>12</th>\n      <td>2.0</td>\n      <td>2.0</td>\n      <td>2.0</td>\n      <td>2.0</td>\n      <td>2.0</td>\n      <td>2.0</td>\n      <td>2.0</td>\n      <td>2.0</td>\n      <td>2.0</td>\n      <td>2.0</td>\n      <td>2.0</td>\n      <td>2.0</td>\n      <td>0.0</td>\n      <td>2.0</td>\n      <td>2.0</td>\n      <td>2.0</td>\n      <td>2.0</td>\n      <td>2.0</td>\n    </tr>\n    <tr>\n      <th>13</th>\n      <td>2.0</td>\n      <td>2.0</td>\n      <td>2.0</td>\n      <td>2.0</td>\n      <td>2.0</td>\n      <td>2.0</td>\n      <td>2.0</td>\n      <td>2.0</td>\n      <td>2.0</td>\n      <td>2.0</td>\n      <td>2.0</td>\n      <td>2.0</td>\n      <td>2.0</td>\n      <td>0.0</td>\n      <td>2.0</td>\n      <td>2.0</td>\n      <td>2.0</td>\n      <td>2.0</td>\n    </tr>\n    <tr>\n      <th>14</th>\n      <td>2.0</td>\n      <td>2.0</td>\n      <td>2.0</td>\n      <td>2.0</td>\n      <td>2.0</td>\n      <td>2.0</td>\n      <td>2.0</td>\n      <td>2.0</td>\n      <td>2.0</td>\n      <td>2.0</td>\n      <td>2.0</td>\n      <td>2.0</td>\n      <td>2.0</td>\n      <td>2.0</td>\n      <td>0.0</td>\n      <td>2.0</td>\n      <td>2.0</td>\n      <td>2.0</td>\n    </tr>\n    <tr>\n      <th>15</th>\n      <td>2.0</td>\n      <td>2.0</td>\n      <td>2.0</td>\n      <td>2.0</td>\n      <td>2.0</td>\n      <td>2.0</td>\n      <td>2.0</td>\n      <td>2.0</td>\n      <td>2.0</td>\n      <td>2.0</td>\n      <td>2.0</td>\n      <td>2.0</td>\n      <td>2.0</td>\n      <td>2.0</td>\n      <td>2.0</td>\n      <td>0.0</td>\n      <td>2.0</td>\n      <td>2.0</td>\n    </tr>\n    <tr>\n      <th>16</th>\n      <td>2.0</td>\n      <td>2.0</td>\n      <td>2.0</td>\n      <td>2.0</td>\n      <td>2.0</td>\n      <td>2.0</td>\n      <td>2.0</td>\n      <td>2.0</td>\n      <td>2.0</td>\n      <td>2.0</td>\n      <td>2.0</td>\n      <td>2.0</td>\n      <td>2.0</td>\n      <td>2.0</td>\n      <td>2.0</td>\n      <td>2.0</td>\n      <td>0.0</td>\n      <td>2.0</td>\n    </tr>\n    <tr>\n      <th>17</th>\n      <td>2.0</td>\n      <td>2.0</td>\n      <td>2.0</td>\n      <td>2.0</td>\n      <td>2.0</td>\n      <td>2.0</td>\n      <td>2.0</td>\n      <td>2.0</td>\n      <td>2.0</td>\n      <td>2.0</td>\n      <td>2.0</td>\n      <td>2.0</td>\n      <td>2.0</td>\n      <td>2.0</td>\n      <td>2.0</td>\n      <td>2.0</td>\n      <td>2.0</td>\n      <td>0.0</td>\n    </tr>\n  </tbody>\n</table>\n</div>"
     },
     "metadata": {},
     "execution_count": 49
    }
   ],
   "source": [
    "man_dist"
   ]
  },
  {
   "source": [
    "### From the Manhattan distance we can see that the distances of the same indices are 0, i.e. they are the same, and distances between two different city is 2 unit, meaning they are apart from each other."
   ],
   "cell_type": "markdown",
   "metadata": {}
  }
 ],
 "metadata": {
  "kernelspec": {
   "name": "python383jvsc74a57bd0ecf5722fdaf1897a315d257d89d94520bfcaa453217d5becf09b39e73618b0de",
   "display_name": "Python 3.8.3 64-bit ('base': conda)"
  },
  "language_info": {
   "codemirror_mode": {
    "name": "ipython",
    "version": 3
   },
   "file_extension": ".py",
   "mimetype": "text/x-python",
   "name": "python",
   "nbconvert_exporter": "python",
   "pygments_lexer": "ipython3",
   "version": "3.8.3"
  }
 },
 "nbformat": 4,
 "nbformat_minor": 4
}