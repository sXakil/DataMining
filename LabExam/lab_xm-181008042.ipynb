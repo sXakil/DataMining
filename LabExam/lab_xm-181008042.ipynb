{
 "metadata": {
  "language_info": {
   "codemirror_mode": {
    "name": "ipython",
    "version": 3
   },
   "file_extension": ".py",
   "mimetype": "text/x-python",
   "name": "python",
   "nbconvert_exporter": "python",
   "pygments_lexer": "ipython3",
   "version": "3.8.5"
  },
  "orig_nbformat": 2,
  "kernelspec": {
   "name": "python385jvsc74a57bd053f1e149a1ffab03cac076ef51f8b8bf410cae2381b5edb08da85a2f271077c7",
   "display_name": "Python 3.8.5 64-bit (conda)"
  }
 },
 "nbformat": 4,
 "nbformat_minor": 2,
 "cells": [
  {
   "cell_type": "code",
   "execution_count": 1,
   "metadata": {},
   "outputs": [],
   "source": [
    "import pandas as pd\n",
    "from sklearn.preprocessing import OneHotEncoder"
   ]
  },
  {
   "cell_type": "code",
   "execution_count": 353,
   "metadata": {},
   "outputs": [],
   "source": [
    "df = pd.read_csv('./adult.csv')"
   ]
  },
  {
   "cell_type": "code",
   "execution_count": 354,
   "metadata": {},
   "outputs": [
    {
     "output_type": "execute_result",
     "data": {
      "text/plain": [
       "   age maritalStatus   race     sex  hoursPerWeek nativeCountry income\n",
       "0   39        Single  White    Male            40            US  <=50K\n",
       "1   50       Married  White    Male            13            US  <=50K\n",
       "2   38       Married  White    Male            40            US  <=50K\n",
       "3   53       Married  Black    Male            40         China  <=50K\n",
       "4   28       Married  Black  Female            40         China  <=50K"
      ],
      "text/html": "<div>\n<style scoped>\n    .dataframe tbody tr th:only-of-type {\n        vertical-align: middle;\n    }\n\n    .dataframe tbody tr th {\n        vertical-align: top;\n    }\n\n    .dataframe thead th {\n        text-align: right;\n    }\n</style>\n<table border=\"1\" class=\"dataframe\">\n  <thead>\n    <tr style=\"text-align: right;\">\n      <th></th>\n      <th>age</th>\n      <th>maritalStatus</th>\n      <th>race</th>\n      <th>sex</th>\n      <th>hoursPerWeek</th>\n      <th>nativeCountry</th>\n      <th>income</th>\n    </tr>\n  </thead>\n  <tbody>\n    <tr>\n      <th>0</th>\n      <td>39</td>\n      <td>Single</td>\n      <td>White</td>\n      <td>Male</td>\n      <td>40</td>\n      <td>US</td>\n      <td>&lt;=50K</td>\n    </tr>\n    <tr>\n      <th>1</th>\n      <td>50</td>\n      <td>Married</td>\n      <td>White</td>\n      <td>Male</td>\n      <td>13</td>\n      <td>US</td>\n      <td>&lt;=50K</td>\n    </tr>\n    <tr>\n      <th>2</th>\n      <td>38</td>\n      <td>Married</td>\n      <td>White</td>\n      <td>Male</td>\n      <td>40</td>\n      <td>US</td>\n      <td>&lt;=50K</td>\n    </tr>\n    <tr>\n      <th>3</th>\n      <td>53</td>\n      <td>Married</td>\n      <td>Black</td>\n      <td>Male</td>\n      <td>40</td>\n      <td>China</td>\n      <td>&lt;=50K</td>\n    </tr>\n    <tr>\n      <th>4</th>\n      <td>28</td>\n      <td>Married</td>\n      <td>Black</td>\n      <td>Female</td>\n      <td>40</td>\n      <td>China</td>\n      <td>&lt;=50K</td>\n    </tr>\n  </tbody>\n</table>\n</div>"
     },
     "metadata": {},
     "execution_count": 354
    }
   ],
   "source": [
    "df.head()"
   ]
  },
  {
   "cell_type": "code",
   "execution_count": 355,
   "metadata": {},
   "outputs": [],
   "source": [
    "df.drop(['age', 'race','hoursPerWeek'], axis=1, inplace=True)"
   ]
  },
  {
   "cell_type": "code",
   "execution_count": 356,
   "metadata": {},
   "outputs": [
    {
     "output_type": "execute_result",
     "data": {
      "text/plain": [
       "   maritalStatus  sex nativeCountry  income\n",
       "0              0    0            US       0\n",
       "1              1    0            US       0\n",
       "2              1    0            US       0\n",
       "3              1    0         China       0\n",
       "4              1    1         China       0"
      ],
      "text/html": "<div>\n<style scoped>\n    .dataframe tbody tr th:only-of-type {\n        vertical-align: middle;\n    }\n\n    .dataframe tbody tr th {\n        vertical-align: top;\n    }\n\n    .dataframe thead th {\n        text-align: right;\n    }\n</style>\n<table border=\"1\" class=\"dataframe\">\n  <thead>\n    <tr style=\"text-align: right;\">\n      <th></th>\n      <th>maritalStatus</th>\n      <th>sex</th>\n      <th>nativeCountry</th>\n      <th>income</th>\n    </tr>\n  </thead>\n  <tbody>\n    <tr>\n      <th>0</th>\n      <td>0</td>\n      <td>0</td>\n      <td>US</td>\n      <td>0</td>\n    </tr>\n    <tr>\n      <th>1</th>\n      <td>1</td>\n      <td>0</td>\n      <td>US</td>\n      <td>0</td>\n    </tr>\n    <tr>\n      <th>2</th>\n      <td>1</td>\n      <td>0</td>\n      <td>US</td>\n      <td>0</td>\n    </tr>\n    <tr>\n      <th>3</th>\n      <td>1</td>\n      <td>0</td>\n      <td>China</td>\n      <td>0</td>\n    </tr>\n    <tr>\n      <th>4</th>\n      <td>1</td>\n      <td>1</td>\n      <td>China</td>\n      <td>0</td>\n    </tr>\n  </tbody>\n</table>\n</div>"
     },
     "metadata": {},
     "execution_count": 356
    }
   ],
   "source": [
    "df.sex = df.sex.map({'Male': 0, 'Female': 1})\n",
    "df.maritalStatus = df.maritalStatus.map({'Single': 0, 'Married': 1})\n",
    "df.income = df.income.map({'<=50K': 0, '>50K': 1})\n",
    "df.head()"
   ]
  },
  {
   "cell_type": "code",
   "execution_count": 357,
   "metadata": {},
   "outputs": [],
   "source": [
    "oh = OneHotEncoder()"
   ]
  },
  {
   "cell_type": "code",
   "execution_count": 358,
   "metadata": {},
   "outputs": [
    {
     "output_type": "execute_result",
     "data": {
      "text/plain": [
       "   maritalStatus  sex  income  (China,)  (India,)  (Sweden,)  (US,)\n",
       "0              0    0       0       0.0       0.0        0.0    1.0\n",
       "1              1    0       0       0.0       0.0        0.0    1.0\n",
       "2              1    0       0       0.0       0.0        0.0    1.0\n",
       "3              1    0       0       1.0       0.0        0.0    0.0\n",
       "4              1    1       0       1.0       0.0        0.0    0.0"
      ],
      "text/html": "<div>\n<style scoped>\n    .dataframe tbody tr th:only-of-type {\n        vertical-align: middle;\n    }\n\n    .dataframe tbody tr th {\n        vertical-align: top;\n    }\n\n    .dataframe thead th {\n        text-align: right;\n    }\n</style>\n<table border=\"1\" class=\"dataframe\">\n  <thead>\n    <tr style=\"text-align: right;\">\n      <th></th>\n      <th>maritalStatus</th>\n      <th>sex</th>\n      <th>income</th>\n      <th>(China,)</th>\n      <th>(India,)</th>\n      <th>(Sweden,)</th>\n      <th>(US,)</th>\n    </tr>\n  </thead>\n  <tbody>\n    <tr>\n      <th>0</th>\n      <td>0</td>\n      <td>0</td>\n      <td>0</td>\n      <td>0.0</td>\n      <td>0.0</td>\n      <td>0.0</td>\n      <td>1.0</td>\n    </tr>\n    <tr>\n      <th>1</th>\n      <td>1</td>\n      <td>0</td>\n      <td>0</td>\n      <td>0.0</td>\n      <td>0.0</td>\n      <td>0.0</td>\n      <td>1.0</td>\n    </tr>\n    <tr>\n      <th>2</th>\n      <td>1</td>\n      <td>0</td>\n      <td>0</td>\n      <td>0.0</td>\n      <td>0.0</td>\n      <td>0.0</td>\n      <td>1.0</td>\n    </tr>\n    <tr>\n      <th>3</th>\n      <td>1</td>\n      <td>0</td>\n      <td>0</td>\n      <td>1.0</td>\n      <td>0.0</td>\n      <td>0.0</td>\n      <td>0.0</td>\n    </tr>\n    <tr>\n      <th>4</th>\n      <td>1</td>\n      <td>1</td>\n      <td>0</td>\n      <td>1.0</td>\n      <td>0.0</td>\n      <td>0.0</td>\n      <td>0.0</td>\n    </tr>\n  </tbody>\n</table>\n</div>"
     },
     "metadata": {},
     "execution_count": 358
    }
   ],
   "source": [
    "encoded = oh.fit_transform(df[['nativeCountry']]).toarray()\n",
    "parsed = pd.DataFrame(encoded, columns = oh.categories_)\n",
    "df.drop('nativeCountry', axis=1, inplace=True)\n",
    "onehot = df.join(parsed)\n",
    "onehot.head()"
   ]
  },
  {
   "cell_type": "code",
   "execution_count": 359,
   "metadata": {},
   "outputs": [],
   "source": [
    "from mlxtend.frequent_patterns import apriori"
   ]
  },
  {
   "cell_type": "code",
   "execution_count": 360,
   "metadata": {},
   "outputs": [
    {
     "output_type": "execute_result",
     "data": {
      "text/plain": [
       "     support   itemsets\n",
       "0   0.600000        (0)\n",
       "1   0.400000        (1)\n",
       "2   0.266667        (2)\n",
       "3   0.266667        (3)\n",
       "4   0.066667        (4)\n",
       "5   0.200000        (5)\n",
       "6   0.466667        (6)\n",
       "7   0.200000     (0, 1)\n",
       "8   0.200000     (0, 2)\n",
       "9   0.200000     (0, 3)\n",
       "10  0.066667     (0, 4)\n",
       "11  0.133333     (0, 5)\n",
       "12  0.200000     (0, 6)\n",
       "13  0.133333     (1, 3)\n",
       "14  0.133333     (1, 5)\n",
       "15  0.133333     (1, 6)\n",
       "16  0.066667     (2, 3)\n",
       "17  0.066667     (2, 4)\n",
       "18  0.066667     (2, 5)\n",
       "19  0.066667     (2, 6)\n",
       "20  0.066667  (0, 1, 3)\n",
       "21  0.066667  (0, 1, 5)\n",
       "22  0.066667  (0, 1, 6)\n",
       "23  0.066667  (0, 2, 3)\n",
       "24  0.066667  (0, 2, 4)\n",
       "25  0.066667  (0, 2, 5)"
      ],
      "text/html": "<div>\n<style scoped>\n    .dataframe tbody tr th:only-of-type {\n        vertical-align: middle;\n    }\n\n    .dataframe tbody tr th {\n        vertical-align: top;\n    }\n\n    .dataframe thead th {\n        text-align: right;\n    }\n</style>\n<table border=\"1\" class=\"dataframe\">\n  <thead>\n    <tr style=\"text-align: right;\">\n      <th></th>\n      <th>support</th>\n      <th>itemsets</th>\n    </tr>\n  </thead>\n  <tbody>\n    <tr>\n      <th>0</th>\n      <td>0.600000</td>\n      <td>(0)</td>\n    </tr>\n    <tr>\n      <th>1</th>\n      <td>0.400000</td>\n      <td>(1)</td>\n    </tr>\n    <tr>\n      <th>2</th>\n      <td>0.266667</td>\n      <td>(2)</td>\n    </tr>\n    <tr>\n      <th>3</th>\n      <td>0.266667</td>\n      <td>(3)</td>\n    </tr>\n    <tr>\n      <th>4</th>\n      <td>0.066667</td>\n      <td>(4)</td>\n    </tr>\n    <tr>\n      <th>5</th>\n      <td>0.200000</td>\n      <td>(5)</td>\n    </tr>\n    <tr>\n      <th>6</th>\n      <td>0.466667</td>\n      <td>(6)</td>\n    </tr>\n    <tr>\n      <th>7</th>\n      <td>0.200000</td>\n      <td>(0, 1)</td>\n    </tr>\n    <tr>\n      <th>8</th>\n      <td>0.200000</td>\n      <td>(0, 2)</td>\n    </tr>\n    <tr>\n      <th>9</th>\n      <td>0.200000</td>\n      <td>(0, 3)</td>\n    </tr>\n    <tr>\n      <th>10</th>\n      <td>0.066667</td>\n      <td>(0, 4)</td>\n    </tr>\n    <tr>\n      <th>11</th>\n      <td>0.133333</td>\n      <td>(0, 5)</td>\n    </tr>\n    <tr>\n      <th>12</th>\n      <td>0.200000</td>\n      <td>(0, 6)</td>\n    </tr>\n    <tr>\n      <th>13</th>\n      <td>0.133333</td>\n      <td>(1, 3)</td>\n    </tr>\n    <tr>\n      <th>14</th>\n      <td>0.133333</td>\n      <td>(1, 5)</td>\n    </tr>\n    <tr>\n      <th>15</th>\n      <td>0.133333</td>\n      <td>(1, 6)</td>\n    </tr>\n    <tr>\n      <th>16</th>\n      <td>0.066667</td>\n      <td>(2, 3)</td>\n    </tr>\n    <tr>\n      <th>17</th>\n      <td>0.066667</td>\n      <td>(2, 4)</td>\n    </tr>\n    <tr>\n      <th>18</th>\n      <td>0.066667</td>\n      <td>(2, 5)</td>\n    </tr>\n    <tr>\n      <th>19</th>\n      <td>0.066667</td>\n      <td>(2, 6)</td>\n    </tr>\n    <tr>\n      <th>20</th>\n      <td>0.066667</td>\n      <td>(0, 1, 3)</td>\n    </tr>\n    <tr>\n      <th>21</th>\n      <td>0.066667</td>\n      <td>(0, 1, 5)</td>\n    </tr>\n    <tr>\n      <th>22</th>\n      <td>0.066667</td>\n      <td>(0, 1, 6)</td>\n    </tr>\n    <tr>\n      <th>23</th>\n      <td>0.066667</td>\n      <td>(0, 2, 3)</td>\n    </tr>\n    <tr>\n      <th>24</th>\n      <td>0.066667</td>\n      <td>(0, 2, 4)</td>\n    </tr>\n    <tr>\n      <th>25</th>\n      <td>0.066667</td>\n      <td>(0, 2, 5)</td>\n    </tr>\n  </tbody>\n</table>\n</div>"
     },
     "metadata": {},
     "execution_count": 360
    }
   ],
   "source": [
    "ap = apriori(onehot, min_support=0.06, max_len=3)\n",
    "ap"
   ]
  },
  {
   "cell_type": "code",
   "execution_count": 361,
   "metadata": {},
   "outputs": [],
   "source": [
    "from mlxtend.frequent_patterns import association_rules"
   ]
  },
  {
   "cell_type": "code",
   "execution_count": 362,
   "metadata": {},
   "outputs": [
    {
     "output_type": "execute_result",
     "data": {
      "text/plain": [
       "  antecedents consequents  antecedent support  consequent support  support  \\\n",
       "0         (0)         (1)            0.600000            0.400000      0.2   \n",
       "1         (1)         (0)            0.400000            0.600000      0.2   \n",
       "2         (0)         (2)            0.600000            0.266667      0.2   \n",
       "3         (2)         (0)            0.266667            0.600000      0.2   \n",
       "4         (0)         (3)            0.600000            0.266667      0.2   \n",
       "5         (3)         (0)            0.266667            0.600000      0.2   \n",
       "6         (0)         (6)            0.600000            0.466667      0.2   \n",
       "7         (6)         (0)            0.466667            0.600000      0.2   \n",
       "\n",
       "   confidence      lift  leverage  conviction  \n",
       "0    0.333333  0.833333     -0.04         0.9  \n",
       "1    0.500000  0.833333     -0.04         0.8  \n",
       "2    0.333333  1.250000      0.04         1.1  \n",
       "3    0.750000  1.250000      0.04         1.6  \n",
       "4    0.333333  1.250000      0.04         1.1  \n",
       "5    0.750000  1.250000      0.04         1.6  \n",
       "6    0.333333  0.714286     -0.08         0.8  \n",
       "7    0.428571  0.714286     -0.08         0.7  "
      ],
      "text/html": "<div>\n<style scoped>\n    .dataframe tbody tr th:only-of-type {\n        vertical-align: middle;\n    }\n\n    .dataframe tbody tr th {\n        vertical-align: top;\n    }\n\n    .dataframe thead th {\n        text-align: right;\n    }\n</style>\n<table border=\"1\" class=\"dataframe\">\n  <thead>\n    <tr style=\"text-align: right;\">\n      <th></th>\n      <th>antecedents</th>\n      <th>consequents</th>\n      <th>antecedent support</th>\n      <th>consequent support</th>\n      <th>support</th>\n      <th>confidence</th>\n      <th>lift</th>\n      <th>leverage</th>\n      <th>conviction</th>\n    </tr>\n  </thead>\n  <tbody>\n    <tr>\n      <th>0</th>\n      <td>(0)</td>\n      <td>(1)</td>\n      <td>0.600000</td>\n      <td>0.400000</td>\n      <td>0.2</td>\n      <td>0.333333</td>\n      <td>0.833333</td>\n      <td>-0.04</td>\n      <td>0.9</td>\n    </tr>\n    <tr>\n      <th>1</th>\n      <td>(1)</td>\n      <td>(0)</td>\n      <td>0.400000</td>\n      <td>0.600000</td>\n      <td>0.2</td>\n      <td>0.500000</td>\n      <td>0.833333</td>\n      <td>-0.04</td>\n      <td>0.8</td>\n    </tr>\n    <tr>\n      <th>2</th>\n      <td>(0)</td>\n      <td>(2)</td>\n      <td>0.600000</td>\n      <td>0.266667</td>\n      <td>0.2</td>\n      <td>0.333333</td>\n      <td>1.250000</td>\n      <td>0.04</td>\n      <td>1.1</td>\n    </tr>\n    <tr>\n      <th>3</th>\n      <td>(2)</td>\n      <td>(0)</td>\n      <td>0.266667</td>\n      <td>0.600000</td>\n      <td>0.2</td>\n      <td>0.750000</td>\n      <td>1.250000</td>\n      <td>0.04</td>\n      <td>1.6</td>\n    </tr>\n    <tr>\n      <th>4</th>\n      <td>(0)</td>\n      <td>(3)</td>\n      <td>0.600000</td>\n      <td>0.266667</td>\n      <td>0.2</td>\n      <td>0.333333</td>\n      <td>1.250000</td>\n      <td>0.04</td>\n      <td>1.1</td>\n    </tr>\n    <tr>\n      <th>5</th>\n      <td>(3)</td>\n      <td>(0)</td>\n      <td>0.266667</td>\n      <td>0.600000</td>\n      <td>0.2</td>\n      <td>0.750000</td>\n      <td>1.250000</td>\n      <td>0.04</td>\n      <td>1.6</td>\n    </tr>\n    <tr>\n      <th>6</th>\n      <td>(0)</td>\n      <td>(6)</td>\n      <td>0.600000</td>\n      <td>0.466667</td>\n      <td>0.2</td>\n      <td>0.333333</td>\n      <td>0.714286</td>\n      <td>-0.08</td>\n      <td>0.8</td>\n    </tr>\n    <tr>\n      <th>7</th>\n      <td>(6)</td>\n      <td>(0)</td>\n      <td>0.466667</td>\n      <td>0.600000</td>\n      <td>0.2</td>\n      <td>0.428571</td>\n      <td>0.714286</td>\n      <td>-0.08</td>\n      <td>0.7</td>\n    </tr>\n  </tbody>\n</table>\n</div>"
     },
     "metadata": {},
     "execution_count": 362
    }
   ],
   "source": [
    "support_ar = association_rules(ap, metric=\"support\", min_threshold=0.2)\n",
    "support_ar"
   ]
  },
  {
   "cell_type": "code",
   "execution_count": 363,
   "metadata": {},
   "outputs": [
    {
     "output_type": "execute_result",
     "data": {
      "text/plain": [
       "  antecedents consequents  antecedent support  consequent support   support  \\\n",
       "0         (4)         (0)            0.066667            0.600000  0.066667   \n",
       "1         (4)         (2)            0.066667            0.266667  0.066667   \n",
       "2      (2, 3)         (0)            0.066667            0.600000  0.066667   \n",
       "3      (0, 4)         (2)            0.066667            0.266667  0.066667   \n",
       "4      (2, 4)         (0)            0.066667            0.600000  0.066667   \n",
       "5         (4)      (0, 2)            0.066667            0.200000  0.066667   \n",
       "6      (2, 5)         (0)            0.066667            0.600000  0.066667   \n",
       "\n",
       "   confidence      lift  leverage  conviction  \n",
       "0         1.0  1.666667  0.026667         inf  \n",
       "1         1.0  3.750000  0.048889         inf  \n",
       "2         1.0  1.666667  0.026667         inf  \n",
       "3         1.0  3.750000  0.048889         inf  \n",
       "4         1.0  1.666667  0.026667         inf  \n",
       "5         1.0  5.000000  0.053333         inf  \n",
       "6         1.0  1.666667  0.026667         inf  "
      ],
      "text/html": "<div>\n<style scoped>\n    .dataframe tbody tr th:only-of-type {\n        vertical-align: middle;\n    }\n\n    .dataframe tbody tr th {\n        vertical-align: top;\n    }\n\n    .dataframe thead th {\n        text-align: right;\n    }\n</style>\n<table border=\"1\" class=\"dataframe\">\n  <thead>\n    <tr style=\"text-align: right;\">\n      <th></th>\n      <th>antecedents</th>\n      <th>consequents</th>\n      <th>antecedent support</th>\n      <th>consequent support</th>\n      <th>support</th>\n      <th>confidence</th>\n      <th>lift</th>\n      <th>leverage</th>\n      <th>conviction</th>\n    </tr>\n  </thead>\n  <tbody>\n    <tr>\n      <th>0</th>\n      <td>(4)</td>\n      <td>(0)</td>\n      <td>0.066667</td>\n      <td>0.600000</td>\n      <td>0.066667</td>\n      <td>1.0</td>\n      <td>1.666667</td>\n      <td>0.026667</td>\n      <td>inf</td>\n    </tr>\n    <tr>\n      <th>1</th>\n      <td>(4)</td>\n      <td>(2)</td>\n      <td>0.066667</td>\n      <td>0.266667</td>\n      <td>0.066667</td>\n      <td>1.0</td>\n      <td>3.750000</td>\n      <td>0.048889</td>\n      <td>inf</td>\n    </tr>\n    <tr>\n      <th>2</th>\n      <td>(2, 3)</td>\n      <td>(0)</td>\n      <td>0.066667</td>\n      <td>0.600000</td>\n      <td>0.066667</td>\n      <td>1.0</td>\n      <td>1.666667</td>\n      <td>0.026667</td>\n      <td>inf</td>\n    </tr>\n    <tr>\n      <th>3</th>\n      <td>(0, 4)</td>\n      <td>(2)</td>\n      <td>0.066667</td>\n      <td>0.266667</td>\n      <td>0.066667</td>\n      <td>1.0</td>\n      <td>3.750000</td>\n      <td>0.048889</td>\n      <td>inf</td>\n    </tr>\n    <tr>\n      <th>4</th>\n      <td>(2, 4)</td>\n      <td>(0)</td>\n      <td>0.066667</td>\n      <td>0.600000</td>\n      <td>0.066667</td>\n      <td>1.0</td>\n      <td>1.666667</td>\n      <td>0.026667</td>\n      <td>inf</td>\n    </tr>\n    <tr>\n      <th>5</th>\n      <td>(4)</td>\n      <td>(0, 2)</td>\n      <td>0.066667</td>\n      <td>0.200000</td>\n      <td>0.066667</td>\n      <td>1.0</td>\n      <td>5.000000</td>\n      <td>0.053333</td>\n      <td>inf</td>\n    </tr>\n    <tr>\n      <th>6</th>\n      <td>(2, 5)</td>\n      <td>(0)</td>\n      <td>0.066667</td>\n      <td>0.600000</td>\n      <td>0.066667</td>\n      <td>1.0</td>\n      <td>1.666667</td>\n      <td>0.026667</td>\n      <td>inf</td>\n    </tr>\n  </tbody>\n</table>\n</div>"
     },
     "metadata": {},
     "execution_count": 363
    }
   ],
   "source": [
    "confidence_ar = association_rules(ap, metric=\"confidence\", min_threshold=1)\n",
    "confidence_ar"
   ]
  },
  {
   "cell_type": "code",
   "execution_count": 364,
   "metadata": {},
   "outputs": [
    {
     "output_type": "execute_result",
     "data": {
      "text/plain": [
       "  antecedents consequents  antecedent support  consequent support   support  \\\n",
       "0         (2)         (4)            0.266667            0.066667  0.066667   \n",
       "1         (4)         (2)            0.066667            0.266667  0.066667   \n",
       "2      (0, 2)         (4)            0.200000            0.066667  0.066667   \n",
       "3      (0, 4)         (2)            0.066667            0.266667  0.066667   \n",
       "4         (2)      (0, 4)            0.266667            0.066667  0.066667   \n",
       "5         (4)      (0, 2)            0.066667            0.200000  0.066667   \n",
       "6      (0, 5)         (2)            0.133333            0.266667  0.066667   \n",
       "7         (2)      (0, 5)            0.266667            0.133333  0.066667   \n",
       "\n",
       "   confidence   lift  leverage  conviction  \n",
       "0    0.250000  3.750  0.048889    1.244444  \n",
       "1    1.000000  3.750  0.048889         inf  \n",
       "2    0.333333  5.000  0.053333    1.400000  \n",
       "3    1.000000  3.750  0.048889         inf  \n",
       "4    0.250000  3.750  0.048889    1.244444  \n",
       "5    1.000000  5.000  0.053333         inf  \n",
       "6    0.500000  1.875  0.031111    1.466667  \n",
       "7    0.250000  1.875  0.031111    1.155556  "
      ],
      "text/html": "<div>\n<style scoped>\n    .dataframe tbody tr th:only-of-type {\n        vertical-align: middle;\n    }\n\n    .dataframe tbody tr th {\n        vertical-align: top;\n    }\n\n    .dataframe thead th {\n        text-align: right;\n    }\n</style>\n<table border=\"1\" class=\"dataframe\">\n  <thead>\n    <tr style=\"text-align: right;\">\n      <th></th>\n      <th>antecedents</th>\n      <th>consequents</th>\n      <th>antecedent support</th>\n      <th>consequent support</th>\n      <th>support</th>\n      <th>confidence</th>\n      <th>lift</th>\n      <th>leverage</th>\n      <th>conviction</th>\n    </tr>\n  </thead>\n  <tbody>\n    <tr>\n      <th>0</th>\n      <td>(2)</td>\n      <td>(4)</td>\n      <td>0.266667</td>\n      <td>0.066667</td>\n      <td>0.066667</td>\n      <td>0.250000</td>\n      <td>3.750</td>\n      <td>0.048889</td>\n      <td>1.244444</td>\n    </tr>\n    <tr>\n      <th>1</th>\n      <td>(4)</td>\n      <td>(2)</td>\n      <td>0.066667</td>\n      <td>0.266667</td>\n      <td>0.066667</td>\n      <td>1.000000</td>\n      <td>3.750</td>\n      <td>0.048889</td>\n      <td>inf</td>\n    </tr>\n    <tr>\n      <th>2</th>\n      <td>(0, 2)</td>\n      <td>(4)</td>\n      <td>0.200000</td>\n      <td>0.066667</td>\n      <td>0.066667</td>\n      <td>0.333333</td>\n      <td>5.000</td>\n      <td>0.053333</td>\n      <td>1.400000</td>\n    </tr>\n    <tr>\n      <th>3</th>\n      <td>(0, 4)</td>\n      <td>(2)</td>\n      <td>0.066667</td>\n      <td>0.266667</td>\n      <td>0.066667</td>\n      <td>1.000000</td>\n      <td>3.750</td>\n      <td>0.048889</td>\n      <td>inf</td>\n    </tr>\n    <tr>\n      <th>4</th>\n      <td>(2)</td>\n      <td>(0, 4)</td>\n      <td>0.266667</td>\n      <td>0.066667</td>\n      <td>0.066667</td>\n      <td>0.250000</td>\n      <td>3.750</td>\n      <td>0.048889</td>\n      <td>1.244444</td>\n    </tr>\n    <tr>\n      <th>5</th>\n      <td>(4)</td>\n      <td>(0, 2)</td>\n      <td>0.066667</td>\n      <td>0.200000</td>\n      <td>0.066667</td>\n      <td>1.000000</td>\n      <td>5.000</td>\n      <td>0.053333</td>\n      <td>inf</td>\n    </tr>\n    <tr>\n      <th>6</th>\n      <td>(0, 5)</td>\n      <td>(2)</td>\n      <td>0.133333</td>\n      <td>0.266667</td>\n      <td>0.066667</td>\n      <td>0.500000</td>\n      <td>1.875</td>\n      <td>0.031111</td>\n      <td>1.466667</td>\n    </tr>\n    <tr>\n      <th>7</th>\n      <td>(2)</td>\n      <td>(0, 5)</td>\n      <td>0.266667</td>\n      <td>0.133333</td>\n      <td>0.066667</td>\n      <td>0.250000</td>\n      <td>1.875</td>\n      <td>0.031111</td>\n      <td>1.155556</td>\n    </tr>\n  </tbody>\n</table>\n</div>"
     },
     "metadata": {},
     "execution_count": 364
    }
   ],
   "source": [
    "lift_ar = association_rules(ap, metric=\"lift\", min_threshold=1.8)\n",
    "lift_ar"
   ]
  },
  {
   "cell_type": "code",
   "execution_count": 365,
   "metadata": {},
   "outputs": [
    {
     "output_type": "execute_result",
     "data": {
      "text/plain": [
       "  antecedents consequents  antecedent support  consequent support   support  \\\n",
       "0         (1)         (5)            0.400000            0.200000  0.133333   \n",
       "1         (5)         (1)            0.200000            0.400000  0.133333   \n",
       "2      (0, 2)         (4)            0.200000            0.066667  0.066667   \n",
       "3         (4)      (0, 2)            0.066667            0.200000  0.066667   \n",
       "\n",
       "   confidence      lift  leverage  conviction  \n",
       "0    0.333333  1.666667  0.053333         1.2  \n",
       "1    0.666667  1.666667  0.053333         1.8  \n",
       "2    0.333333  5.000000  0.053333         1.4  \n",
       "3    1.000000  5.000000  0.053333         inf  "
      ],
      "text/html": "<div>\n<style scoped>\n    .dataframe tbody tr th:only-of-type {\n        vertical-align: middle;\n    }\n\n    .dataframe tbody tr th {\n        vertical-align: top;\n    }\n\n    .dataframe thead th {\n        text-align: right;\n    }\n</style>\n<table border=\"1\" class=\"dataframe\">\n  <thead>\n    <tr style=\"text-align: right;\">\n      <th></th>\n      <th>antecedents</th>\n      <th>consequents</th>\n      <th>antecedent support</th>\n      <th>consequent support</th>\n      <th>support</th>\n      <th>confidence</th>\n      <th>lift</th>\n      <th>leverage</th>\n      <th>conviction</th>\n    </tr>\n  </thead>\n  <tbody>\n    <tr>\n      <th>0</th>\n      <td>(1)</td>\n      <td>(5)</td>\n      <td>0.400000</td>\n      <td>0.200000</td>\n      <td>0.133333</td>\n      <td>0.333333</td>\n      <td>1.666667</td>\n      <td>0.053333</td>\n      <td>1.2</td>\n    </tr>\n    <tr>\n      <th>1</th>\n      <td>(5)</td>\n      <td>(1)</td>\n      <td>0.200000</td>\n      <td>0.400000</td>\n      <td>0.133333</td>\n      <td>0.666667</td>\n      <td>1.666667</td>\n      <td>0.053333</td>\n      <td>1.8</td>\n    </tr>\n    <tr>\n      <th>2</th>\n      <td>(0, 2)</td>\n      <td>(4)</td>\n      <td>0.200000</td>\n      <td>0.066667</td>\n      <td>0.066667</td>\n      <td>0.333333</td>\n      <td>5.000000</td>\n      <td>0.053333</td>\n      <td>1.4</td>\n    </tr>\n    <tr>\n      <th>3</th>\n      <td>(4)</td>\n      <td>(0, 2)</td>\n      <td>0.066667</td>\n      <td>0.200000</td>\n      <td>0.066667</td>\n      <td>1.000000</td>\n      <td>5.000000</td>\n      <td>0.053333</td>\n      <td>inf</td>\n    </tr>\n  </tbody>\n</table>\n</div>"
     },
     "metadata": {},
     "execution_count": 365
    }
   ],
   "source": [
    "leverage_ar = association_rules(ap, metric=\"leverage\", min_threshold=0.05)\n",
    "leverage_ar"
   ]
  },
  {
   "cell_type": "code",
   "execution_count": 366,
   "metadata": {},
   "outputs": [
    {
     "output_type": "execute_result",
     "data": {
      "text/plain": [
       "  antecedents consequents  antecedent support  consequent support   support  \\\n",
       "0         (2)         (0)            0.266667            0.600000  0.200000   \n",
       "1         (3)         (0)            0.266667            0.600000  0.200000   \n",
       "2         (4)         (0)            0.066667            0.600000  0.066667   \n",
       "3         (5)         (1)            0.200000            0.400000  0.133333   \n",
       "4         (4)         (2)            0.066667            0.266667  0.066667   \n",
       "5      (2, 3)         (0)            0.066667            0.600000  0.066667   \n",
       "6      (0, 4)         (2)            0.066667            0.266667  0.066667   \n",
       "7      (2, 4)         (0)            0.066667            0.600000  0.066667   \n",
       "8         (4)      (0, 2)            0.066667            0.200000  0.066667   \n",
       "9      (2, 5)         (0)            0.066667            0.600000  0.066667   \n",
       "\n",
       "   confidence      lift  leverage  conviction  \n",
       "0    0.750000  1.250000  0.040000         1.6  \n",
       "1    0.750000  1.250000  0.040000         1.6  \n",
       "2    1.000000  1.666667  0.026667         inf  \n",
       "3    0.666667  1.666667  0.053333         1.8  \n",
       "4    1.000000  3.750000  0.048889         inf  \n",
       "5    1.000000  1.666667  0.026667         inf  \n",
       "6    1.000000  3.750000  0.048889         inf  \n",
       "7    1.000000  1.666667  0.026667         inf  \n",
       "8    1.000000  5.000000  0.053333         inf  \n",
       "9    1.000000  1.666667  0.026667         inf  "
      ],
      "text/html": "<div>\n<style scoped>\n    .dataframe tbody tr th:only-of-type {\n        vertical-align: middle;\n    }\n\n    .dataframe tbody tr th {\n        vertical-align: top;\n    }\n\n    .dataframe thead th {\n        text-align: right;\n    }\n</style>\n<table border=\"1\" class=\"dataframe\">\n  <thead>\n    <tr style=\"text-align: right;\">\n      <th></th>\n      <th>antecedents</th>\n      <th>consequents</th>\n      <th>antecedent support</th>\n      <th>consequent support</th>\n      <th>support</th>\n      <th>confidence</th>\n      <th>lift</th>\n      <th>leverage</th>\n      <th>conviction</th>\n    </tr>\n  </thead>\n  <tbody>\n    <tr>\n      <th>0</th>\n      <td>(2)</td>\n      <td>(0)</td>\n      <td>0.266667</td>\n      <td>0.600000</td>\n      <td>0.200000</td>\n      <td>0.750000</td>\n      <td>1.250000</td>\n      <td>0.040000</td>\n      <td>1.6</td>\n    </tr>\n    <tr>\n      <th>1</th>\n      <td>(3)</td>\n      <td>(0)</td>\n      <td>0.266667</td>\n      <td>0.600000</td>\n      <td>0.200000</td>\n      <td>0.750000</td>\n      <td>1.250000</td>\n      <td>0.040000</td>\n      <td>1.6</td>\n    </tr>\n    <tr>\n      <th>2</th>\n      <td>(4)</td>\n      <td>(0)</td>\n      <td>0.066667</td>\n      <td>0.600000</td>\n      <td>0.066667</td>\n      <td>1.000000</td>\n      <td>1.666667</td>\n      <td>0.026667</td>\n      <td>inf</td>\n    </tr>\n    <tr>\n      <th>3</th>\n      <td>(5)</td>\n      <td>(1)</td>\n      <td>0.200000</td>\n      <td>0.400000</td>\n      <td>0.133333</td>\n      <td>0.666667</td>\n      <td>1.666667</td>\n      <td>0.053333</td>\n      <td>1.8</td>\n    </tr>\n    <tr>\n      <th>4</th>\n      <td>(4)</td>\n      <td>(2)</td>\n      <td>0.066667</td>\n      <td>0.266667</td>\n      <td>0.066667</td>\n      <td>1.000000</td>\n      <td>3.750000</td>\n      <td>0.048889</td>\n      <td>inf</td>\n    </tr>\n    <tr>\n      <th>5</th>\n      <td>(2, 3)</td>\n      <td>(0)</td>\n      <td>0.066667</td>\n      <td>0.600000</td>\n      <td>0.066667</td>\n      <td>1.000000</td>\n      <td>1.666667</td>\n      <td>0.026667</td>\n      <td>inf</td>\n    </tr>\n    <tr>\n      <th>6</th>\n      <td>(0, 4)</td>\n      <td>(2)</td>\n      <td>0.066667</td>\n      <td>0.266667</td>\n      <td>0.066667</td>\n      <td>1.000000</td>\n      <td>3.750000</td>\n      <td>0.048889</td>\n      <td>inf</td>\n    </tr>\n    <tr>\n      <th>7</th>\n      <td>(2, 4)</td>\n      <td>(0)</td>\n      <td>0.066667</td>\n      <td>0.600000</td>\n      <td>0.066667</td>\n      <td>1.000000</td>\n      <td>1.666667</td>\n      <td>0.026667</td>\n      <td>inf</td>\n    </tr>\n    <tr>\n      <th>8</th>\n      <td>(4)</td>\n      <td>(0, 2)</td>\n      <td>0.066667</td>\n      <td>0.200000</td>\n      <td>0.066667</td>\n      <td>1.000000</td>\n      <td>5.000000</td>\n      <td>0.053333</td>\n      <td>inf</td>\n    </tr>\n    <tr>\n      <th>9</th>\n      <td>(2, 5)</td>\n      <td>(0)</td>\n      <td>0.066667</td>\n      <td>0.600000</td>\n      <td>0.066667</td>\n      <td>1.000000</td>\n      <td>1.666667</td>\n      <td>0.026667</td>\n      <td>inf</td>\n    </tr>\n  </tbody>\n</table>\n</div>"
     },
     "metadata": {},
     "execution_count": 366
    }
   ],
   "source": [
    "conviction_ar = association_rules(ap, metric=\"conviction\", min_threshold=1.5)\n",
    "conviction_ar"
   ]
  },
  {
   "cell_type": "code",
   "execution_count": 367,
   "metadata": {},
   "outputs": [
    {
     "output_type": "execute_result",
     "data": {
      "text/plain": [
       "     support itemsets\n",
       "0   0.600000      (0)\n",
       "1   0.400000      (1)\n",
       "2   0.266667      (2)\n",
       "3   0.266667      (3)\n",
       "4   0.066667      (4)\n",
       "5   0.200000      (5)\n",
       "6   0.466667      (6)\n",
       "7   0.200000   (0, 1)\n",
       "8   0.200000   (0, 2)\n",
       "9   0.200000   (0, 3)\n",
       "10  0.066667   (0, 4)\n",
       "11  0.133333   (0, 5)\n",
       "12  0.200000   (0, 6)\n",
       "13  0.133333   (1, 3)\n",
       "14  0.133333   (1, 5)\n",
       "15  0.133333   (1, 6)\n",
       "16  0.066667   (2, 3)\n",
       "17  0.066667   (2, 4)\n",
       "18  0.066667   (2, 5)\n",
       "19  0.066667   (2, 6)"
      ],
      "text/html": "<div>\n<style scoped>\n    .dataframe tbody tr th:only-of-type {\n        vertical-align: middle;\n    }\n\n    .dataframe tbody tr th {\n        vertical-align: top;\n    }\n\n    .dataframe thead th {\n        text-align: right;\n    }\n</style>\n<table border=\"1\" class=\"dataframe\">\n  <thead>\n    <tr style=\"text-align: right;\">\n      <th></th>\n      <th>support</th>\n      <th>itemsets</th>\n    </tr>\n  </thead>\n  <tbody>\n    <tr>\n      <th>0</th>\n      <td>0.600000</td>\n      <td>(0)</td>\n    </tr>\n    <tr>\n      <th>1</th>\n      <td>0.400000</td>\n      <td>(1)</td>\n    </tr>\n    <tr>\n      <th>2</th>\n      <td>0.266667</td>\n      <td>(2)</td>\n    </tr>\n    <tr>\n      <th>3</th>\n      <td>0.266667</td>\n      <td>(3)</td>\n    </tr>\n    <tr>\n      <th>4</th>\n      <td>0.066667</td>\n      <td>(4)</td>\n    </tr>\n    <tr>\n      <th>5</th>\n      <td>0.200000</td>\n      <td>(5)</td>\n    </tr>\n    <tr>\n      <th>6</th>\n      <td>0.466667</td>\n      <td>(6)</td>\n    </tr>\n    <tr>\n      <th>7</th>\n      <td>0.200000</td>\n      <td>(0, 1)</td>\n    </tr>\n    <tr>\n      <th>8</th>\n      <td>0.200000</td>\n      <td>(0, 2)</td>\n    </tr>\n    <tr>\n      <th>9</th>\n      <td>0.200000</td>\n      <td>(0, 3)</td>\n    </tr>\n    <tr>\n      <th>10</th>\n      <td>0.066667</td>\n      <td>(0, 4)</td>\n    </tr>\n    <tr>\n      <th>11</th>\n      <td>0.133333</td>\n      <td>(0, 5)</td>\n    </tr>\n    <tr>\n      <th>12</th>\n      <td>0.200000</td>\n      <td>(0, 6)</td>\n    </tr>\n    <tr>\n      <th>13</th>\n      <td>0.133333</td>\n      <td>(1, 3)</td>\n    </tr>\n    <tr>\n      <th>14</th>\n      <td>0.133333</td>\n      <td>(1, 5)</td>\n    </tr>\n    <tr>\n      <th>15</th>\n      <td>0.133333</td>\n      <td>(1, 6)</td>\n    </tr>\n    <tr>\n      <th>16</th>\n      <td>0.066667</td>\n      <td>(2, 3)</td>\n    </tr>\n    <tr>\n      <th>17</th>\n      <td>0.066667</td>\n      <td>(2, 4)</td>\n    </tr>\n    <tr>\n      <th>18</th>\n      <td>0.066667</td>\n      <td>(2, 5)</td>\n    </tr>\n    <tr>\n      <th>19</th>\n      <td>0.066667</td>\n      <td>(2, 6)</td>\n    </tr>\n  </tbody>\n</table>\n</div>"
     },
     "metadata": {},
     "execution_count": 367
    }
   ],
   "source": [
    "ap = apriori(onehot, min_support=0.001, max_len=2)\n",
    "ap"
   ]
  },
  {
   "cell_type": "code",
   "execution_count": null,
   "metadata": {},
   "outputs": [],
   "source": []
  }
 ]
}